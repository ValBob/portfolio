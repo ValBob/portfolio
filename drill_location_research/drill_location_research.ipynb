{
 "cells": [
  {
   "cell_type": "markdown",
   "metadata": {},
   "source": [
    "# Выбор локации для скважины"
   ]
  },
  {
   "cell_type": "markdown",
   "metadata": {},
   "source": [
    "Мне предоставлены пробы нефти в трёх регионах: в каждом 10 000 месторождений, где измерили качество нефти и объём её запасов.\n",
    "\n",
    "Задача:\n",
    "- Постройть модель машинного обучения, которая поможет определить регион, где добыча принесёт наибольшую прибыль.\n",
    "- Проанализировать возможную прибыль и риски техникой *Bootstrap.*\n",
    "\n",
    "Шаги для выбора локации:\n",
    "\n",
    "- В избранном регионе ищут месторождения, для каждого определяют значения признаков;\n",
    "- Строят модель и оценивают объём запасов;\n",
    "- Выбирают месторождения с самым высокими оценками значений. Количество месторождений зависит от бюджета компании и стоимости разработки одной скважины;\n",
    "- Прибыль равна суммарной прибыли отобранных месторождений."
   ]
  },
  {
   "cell_type": "code",
   "execution_count": 1,
   "metadata": {},
   "outputs": [],
   "source": [
    "import pandas as pd\n",
    "import numpy as np\n",
    "\n",
    "from sklearn.linear_model import LinearRegression\n",
    "from sklearn.model_selection import train_test_split\n",
    "from sklearn.metrics import mean_squared_error\n",
    "from sklearn.preprocessing import StandardScaler\n",
    "from sklearn.pipeline import Pipeline"
   ]
  },
  {
   "cell_type": "markdown",
   "metadata": {},
   "source": [
    "<div id='1'>Ключевые константы</div>"
   ]
  },
  {
   "cell_type": "code",
   "execution_count": 2,
   "metadata": {},
   "outputs": [],
   "source": [
    "RANDOM_STATE = 12345\n",
    "MAX_INVEST = 10_000_000_000\n",
    "INCOME_PER_1000 = 450_000\n",
    "MAX_LOSS_RISK = .025\n",
    "N_TEST = 500\n",
    "N_DEPT = 200"
   ]
  },
  {
   "cell_type": "markdown",
   "metadata": {},
   "source": [
    "## Загрузка и подготовка данных"
   ]
  },
  {
   "cell_type": "code",
   "execution_count": 3,
   "metadata": {
    "scrolled": false
   },
   "outputs": [],
   "source": [
    "# загрузим данные по регионам\n",
    "try:\n",
    "    reg_0, reg_1, reg_2 = (pd.read_csv(f'/datasets/geo_data_{i}.csv') for i in range(3))\n",
    "except FileNotFoundError:\n",
    "    reg_0, reg_1, reg_2 = (pd.read_csv(f'geo_data_{i}.csv') for i in range(3))"
   ]
  },
  {
   "cell_type": "code",
   "execution_count": 4,
   "metadata": {},
   "outputs": [
    {
     "name": "stdout",
     "output_type": "stream",
     "text": [
      "<class 'pandas.core.frame.DataFrame'>\n",
      "RangeIndex: 100000 entries, 0 to 99999\n",
      "Data columns (total 5 columns):\n",
      " #   Column   Non-Null Count   Dtype  \n",
      "---  ------   --------------   -----  \n",
      " 0   id       100000 non-null  object \n",
      " 1   f0       100000 non-null  float64\n",
      " 2   f1       100000 non-null  float64\n",
      " 3   f2       100000 non-null  float64\n",
      " 4   product  100000 non-null  float64\n",
      "dtypes: float64(4), object(1)\n",
      "memory usage: 3.8+ MB\n"
     ]
    }
   ],
   "source": [
    "reg_1.info()"
   ]
  },
  {
   "cell_type": "markdown",
   "metadata": {},
   "source": [
    "Пропусков нет - дополнительной обработки отсутствующих значений не требуется"
   ]
  },
  {
   "cell_type": "code",
   "execution_count": 5,
   "metadata": {},
   "outputs": [
    {
     "data": {
      "text/html": [
       "<div>\n",
       "<style scoped>\n",
       "    .dataframe tbody tr th:only-of-type {\n",
       "        vertical-align: middle;\n",
       "    }\n",
       "\n",
       "    .dataframe tbody tr th {\n",
       "        vertical-align: top;\n",
       "    }\n",
       "\n",
       "    .dataframe thead th {\n",
       "        text-align: right;\n",
       "    }\n",
       "</style>\n",
       "<table border=\"1\" class=\"dataframe\">\n",
       "  <thead>\n",
       "    <tr style=\"text-align: right;\">\n",
       "      <th></th>\n",
       "      <th>f0</th>\n",
       "      <th>f1</th>\n",
       "      <th>f2</th>\n",
       "      <th>product</th>\n",
       "    </tr>\n",
       "  </thead>\n",
       "  <tbody>\n",
       "    <tr>\n",
       "      <th>count</th>\n",
       "      <td>100000.000000</td>\n",
       "      <td>100000.000000</td>\n",
       "      <td>100000.000000</td>\n",
       "      <td>100000.000000</td>\n",
       "    </tr>\n",
       "    <tr>\n",
       "      <th>mean</th>\n",
       "      <td>0.002023</td>\n",
       "      <td>-0.002081</td>\n",
       "      <td>2.495128</td>\n",
       "      <td>95.000000</td>\n",
       "    </tr>\n",
       "    <tr>\n",
       "      <th>std</th>\n",
       "      <td>1.732045</td>\n",
       "      <td>1.730417</td>\n",
       "      <td>3.473445</td>\n",
       "      <td>44.749921</td>\n",
       "    </tr>\n",
       "    <tr>\n",
       "      <th>min</th>\n",
       "      <td>-8.760004</td>\n",
       "      <td>-7.084020</td>\n",
       "      <td>-11.970335</td>\n",
       "      <td>0.000000</td>\n",
       "    </tr>\n",
       "    <tr>\n",
       "      <th>25%</th>\n",
       "      <td>-1.162288</td>\n",
       "      <td>-1.174820</td>\n",
       "      <td>0.130359</td>\n",
       "      <td>59.450441</td>\n",
       "    </tr>\n",
       "    <tr>\n",
       "      <th>50%</th>\n",
       "      <td>0.009424</td>\n",
       "      <td>-0.009482</td>\n",
       "      <td>2.484236</td>\n",
       "      <td>94.925613</td>\n",
       "    </tr>\n",
       "    <tr>\n",
       "      <th>75%</th>\n",
       "      <td>1.158535</td>\n",
       "      <td>1.163678</td>\n",
       "      <td>4.858794</td>\n",
       "      <td>130.595027</td>\n",
       "    </tr>\n",
       "    <tr>\n",
       "      <th>max</th>\n",
       "      <td>7.238262</td>\n",
       "      <td>7.844801</td>\n",
       "      <td>16.739402</td>\n",
       "      <td>190.029838</td>\n",
       "    </tr>\n",
       "  </tbody>\n",
       "</table>\n",
       "</div>"
      ],
      "text/plain": [
       "                  f0             f1             f2        product\n",
       "count  100000.000000  100000.000000  100000.000000  100000.000000\n",
       "mean        0.002023      -0.002081       2.495128      95.000000\n",
       "std         1.732045       1.730417       3.473445      44.749921\n",
       "min        -8.760004      -7.084020     -11.970335       0.000000\n",
       "25%        -1.162288      -1.174820       0.130359      59.450441\n",
       "50%         0.009424      -0.009482       2.484236      94.925613\n",
       "75%         1.158535       1.163678       4.858794     130.595027\n",
       "max         7.238262       7.844801      16.739402     190.029838"
      ]
     },
     "execution_count": 5,
     "metadata": {},
     "output_type": "execute_result"
    }
   ],
   "source": [
    "reg_2.describe()"
   ]
  },
  {
   "cell_type": "markdown",
   "metadata": {},
   "source": [
    "Признаки не нормализованы:\n",
    "- среднее арифметическое не равно 0,\n",
    "- среднее квадратическое отклонение не  равно 1.  \n",
    "\n",
    "Следует провести нормализацию признаков."
   ]
  },
  {
   "cell_type": "markdown",
   "metadata": {},
   "source": [
    "## Обучение и проверка модели"
   ]
  },
  {
   "cell_type": "code",
   "execution_count": 11,
   "metadata": {
    "scrolled": true
   },
   "outputs": [
    {
     "name": "stdout",
     "output_type": "stream",
     "text": [
      "Средний предсказанный запас из региона 0: 92.59\n",
      "Средняя квадратическая ошибка: 37.58\n",
      "Коэффициенты: a0 = 3.13, a1 = -7.11, a2 = 21.43\n",
      "\n",
      "Средний предсказанный запас из региона 1: 68.73\n",
      "Средняя квадратическая ошибка: 0.89\n",
      "Коэффициенты: a0 = -1.30, a1 = -0.11, a2 = 45.89\n",
      "\n",
      "Средний предсказанный запас из региона 2: 94.97\n",
      "Средняя квадратическая ошибка: 40.03\n",
      "Коэффициенты: a0 = 0.05, a1 = -0.07, a2 = 19.82\n",
      "\n"
     ]
    }
   ],
   "source": [
    "# создадим конвейр по нормализации данных и вычислению линейной регрессии\n",
    "model = Pipeline([\n",
    "    ('scaler', StandardScaler()),\n",
    "    ('linear_regression', LinearRegression())])\n",
    "model_data = {}\n",
    "for i, data in enumerate((reg_0, reg_1, reg_2)):\n",
    "    # получаем целевые значения и признаки для каждого региона\n",
    "    target = data['product']\n",
    "    features = data[['f0', 'f1', 'f2']]\n",
    "    # разделяем данные на обучающие и валидационные\n",
    "    X_train, X_valid, y_train, y_valid = train_test_split(features, target, test_size=.25,\n",
    "                                                    random_state=RANDOM_STATE)\n",
    "    # обучим модель и сделаем предсказание на валидационных признаках\n",
    "    y_pred = model.fit(X_train, y_train).predict(X_valid)\n",
    "    # сохраним предсказания и истинные значения в словаре\n",
    "    model_data[f'reg_{i}'] = pd.DataFrame({'pred': y_pred, 'true': y_valid})\n",
    "    print(f'Средний предсказанный запас из региона {i}: {y_pred.mean():.2f}')\n",
    "    print(f'Средняя квадратическая ошибка: {mean_squared_error(y_valid, y_pred, squared=False):.2f}')\n",
    "    print(f'Коэффициенты: a0 = {model.named_steps.linear_regression.coef_[0]:.2f},',\n",
    "          f'a1 = {model.named_steps.linear_regression.coef_[1]:.2f},',\n",
    "          f'a2 = {model.named_steps.linear_regression.coef_[2]:.2f}')\n",
    "    print()"
   ]
  },
  {
   "cell_type": "markdown",
   "metadata": {},
   "source": [
    "**Анализ моделей:**\n",
    "- Наиболее `точно` модели удалось описать зависимости месторождение `reg_1` (`RMSE=0.89`)\n",
    "- Наибольшая `положительная связь` отмечена с признаком `f2` (у `reg_1` выражена наиболее сильно - `45.89`)\n",
    "- `Наибольший` средний предсказанный `запас` у месторождения `reg_2` (`94.97`), но у этой модели также и `очень большая` среднеквадратическая `ошибка` (`RMSE=40.03`)"
   ]
  },
  {
   "cell_type": "markdown",
   "metadata": {},
   "source": [
    "## Подготовка к расчёту прибыли"
   ]
  },
  {
   "cell_type": "markdown",
   "metadata": {},
   "source": [
    "### Достаточный объём сырья для безубыточной разработки."
   ]
  },
  {
   "cell_type": "markdown",
   "metadata": {},
   "source": [
    "Формула среднего объёма сырья для безубыточной добычи (1000 барелей):  \n",
    "<center><font size=6>$Инвестиции \\over Стоимость_{1000 барелей} x Количество_{скважин}$</font></center>"
   ]
  },
  {
   "cell_type": "code",
   "execution_count": 47,
   "metadata": {},
   "outputs": [
    {
     "data": {
      "text/plain": [
       "111.11111111111111"
      ]
     },
     "execution_count": 47,
     "metadata": {},
     "output_type": "execute_result"
    }
   ],
   "source": [
    "# минимальный безубыточный уровень добычи со скважины\n",
    "min_drill_dept = MAX_INVEST / (INCOME_PER_1000 * N_DEPT)\n",
    "min_drill_dept"
   ]
  },
  {
   "cell_type": "markdown",
   "metadata": {},
   "source": [
    "### Выводы по этапу подготовки расчёта прибыли."
   ]
  },
  {
   "cell_type": "markdown",
   "metadata": {},
   "source": [
    "- Для `возврата инвестиций` произведение `объёма добычи` сырья со всех скважин `на цену сырья` должен равняться `общему размеру` инвестиций.\n",
    "- При заданных объеме инвестиций, доходу от продажи сырья и количестве скважин `средний объём` с одной скважины `должен` быть `111 тысяч барелей`.\n",
    "- `Все` месторождения имеют `более низкие средние объемы сырья` (некоторые скважины могут оказаться вообще пустыми).\n",
    "- Для отбора лучших скважин количество скважин разведки (500) будет превышать количество скважин добычи (200)."
   ]
  },
  {
   "cell_type": "markdown",
   "metadata": {},
   "source": [
    "## Расчёт прибыли и рисков "
   ]
  },
  {
   "cell_type": "code",
   "execution_count": 48,
   "metadata": {},
   "outputs": [],
   "source": [
    "def drills_true_income(df, n_test=N_TEST, n_dept=N_DEPT, credit=MAX_INVEST,\n",
    "                       price=INCOME_PER_1000, random_state=None):\n",
    "    \"\"\"\n",
    "    Возвращает прибыль от добычи нефти из выбранных скважин.\n",
    "    Параметры:\n",
    "    df - датафрейм с предсказанными и реальными объёмами добычи\n",
    "    n_test - количество разведочных скважин\n",
    "    n_dept - количество скважин добычи с наибольшими объёмами\n",
    "    credit - понесенные затраты\n",
    "    price - цена нефти\n",
    "    random_state - фиксация псевдослучайности\n",
    "    \"\"\"\n",
    "    drills_choosen = (df\n",
    "                      # случайная выборка заданного количества разведочных данных\n",
    "                      .sample(n=n_test, replace=True, random_state=state)\n",
    "                      # сортировка скважин с наибольшим объёмом добычи\n",
    "                      .sort_values('pred', ascending=False)\n",
    "                      # отбор заданного количества скважин добычи\n",
    "                      .iloc[:n_dept])\n",
    "    return drills_choosen['true'].sum() * price -credit "
   ]
  },
  {
   "cell_type": "code",
   "execution_count": 49,
   "metadata": {
    "scrolled": true
   },
   "outputs": [
    {
     "name": "stdout",
     "output_type": "stream",
     "text": [
      "Характеристики месторождения reg_0:\n",
      "------------------------------\n",
      "Средняя прибыль = 396_164_985\n",
      "Границы 95% доверительного интервала:\n",
      "- нижняя (0.025 квантиль) = -111_215_546 руб\n",
      "- верхняя (0.975 квантиль) = 909_766_942 руб\n",
      "Риск убытков = 6.90%\n",
      "******************************\n",
      "Характеристики месторождения reg_1:\n",
      "------------------------------\n",
      "Средняя прибыль = 461_155_817\n",
      "Границы 95% доверительного интервала:\n",
      "- нижняя (0.025 квантиль) = 78_050_811 руб\n",
      "- верхняя (0.975 квантиль) = 862_952_060 руб\n",
      "Риск убытков = 0.70%\n",
      "******************************\n",
      "Характеристики месторождения reg_2:\n",
      "------------------------------\n",
      "Средняя прибыль = 392_950_475\n",
      "Границы 95% доверительного интервала:\n",
      "- нижняя (0.025 квантиль) = -112_227_625 руб\n",
      "- верхняя (0.975 квантиль) = 934_562_915 руб\n",
      "Риск убытков = 6.50%\n",
      "******************************\n"
     ]
    }
   ],
   "source": [
    "state = np.random.RandomState(RANDOM_STATE)\n",
    "\n",
    "for i in range(3):\n",
    "    # собираем в датафрейм доходы от 200 лучших из 500 случайных скважин\n",
    "    profits = pd.Series([drills_true_income(model_data[f'reg_{i}'],\n",
    "                                      random_state=state) for _ in range(1000)])\n",
    "    profit_mean = profits.mean()\n",
    "    risk = (profits < 0).mean()\n",
    "    lower_limit = profits.quantile(.025)\n",
    "    upper_limit = profits.quantile(.975)\n",
    "    print(f'Характеристики месторождения reg_{i}:', '-' * 30, sep='\\n')\n",
    "    print(f'Средняя прибыль = {profit_mean:_.0f}')\n",
    "    print(f'Границы 95% доверительного интервала:')\n",
    "    print(f'- нижняя (0.025 квантиль) = {lower_limit:_.0f} руб')\n",
    "    print(f'- верхняя (0.975 квантиль) = {upper_limit:_.0f} руб')\n",
    "    print(f'Риск убытков = {risk:.2%}', '*' * 30, sep='\\n')"
   ]
  },
  {
   "cell_type": "markdown",
   "metadata": {},
   "source": [
    "**Выводы:**\n",
    "- Рекомендованное месторождение `reg_1` по причинам:\n",
    " - наиболее высокой средней `прибыли` от месторождения `461_155_817`\n",
    " - положительных значений нижней и верхней границ `доверительного интервала`\n",
    " - низкого `риска` невозврата инвестиций (`0.7%` при допустимом риске 2.5%)\n",
    " - модель по месторождению показывает `наилучшую точность`."
   ]
  }
 ],
 "metadata": {
  "ExecuteTimeLog": [
   {
    "duration": 3103,
    "start_time": "2023-04-13T21:02:15.129Z"
   },
   {
    "duration": 3,
    "start_time": "2023-04-13T21:02:18.234Z"
   },
   {
    "duration": 945,
    "start_time": "2023-04-13T21:02:18.238Z"
   },
   {
    "duration": 17,
    "start_time": "2023-04-13T21:02:19.185Z"
   },
   {
    "duration": 43,
    "start_time": "2023-04-13T21:02:19.205Z"
   },
   {
    "duration": 4,
    "start_time": "2023-04-13T21:02:19.257Z"
   },
   {
    "duration": 46,
    "start_time": "2023-04-13T21:02:19.263Z"
   },
   {
    "duration": 447,
    "start_time": "2023-04-13T21:02:19.312Z"
   },
   {
    "duration": 5,
    "start_time": "2023-04-13T21:02:19.761Z"
   },
   {
    "duration": 96,
    "start_time": "2023-04-13T21:02:19.768Z"
   },
   {
    "duration": 2129,
    "start_time": "2023-04-13T21:02:19.867Z"
   },
   {
    "duration": 2198,
    "start_time": "2023-04-13T21:02:21.998Z"
   },
   {
    "duration": 2014,
    "start_time": "2023-04-13T21:02:24.198Z"
   },
   {
    "duration": 1437,
    "start_time": "2023-04-14T05:36:38.579Z"
   },
   {
    "duration": 2,
    "start_time": "2023-04-14T05:36:40.018Z"
   },
   {
    "duration": 2416,
    "start_time": "2023-04-14T05:36:40.022Z"
   },
   {
    "duration": 46,
    "start_time": "2023-04-14T05:36:42.440Z"
   },
   {
    "duration": 49,
    "start_time": "2023-04-14T05:36:42.498Z"
   },
   {
    "duration": 18,
    "start_time": "2023-04-14T05:36:42.551Z"
   },
   {
    "duration": 213,
    "start_time": "2023-04-14T05:36:42.574Z"
   },
   {
    "duration": 0,
    "start_time": "2023-04-14T05:36:42.788Z"
   },
   {
    "duration": 20,
    "start_time": "2023-04-14T05:37:36.597Z"
   },
   {
    "duration": 251,
    "start_time": "2023-04-14T05:37:58.274Z"
   },
   {
    "duration": 26,
    "start_time": "2023-04-14T06:20:50.209Z"
   },
   {
    "duration": 324,
    "start_time": "2023-04-14T06:21:15.489Z"
   },
   {
    "duration": 4,
    "start_time": "2023-04-14T06:48:46.505Z"
   },
   {
    "duration": 10,
    "start_time": "2023-04-14T06:48:46.510Z"
   },
   {
    "duration": 509,
    "start_time": "2023-04-14T06:48:46.521Z"
   },
   {
    "duration": 53,
    "start_time": "2023-04-14T06:48:47.032Z"
   },
   {
    "duration": 37,
    "start_time": "2023-04-14T06:48:47.109Z"
   },
   {
    "duration": 12,
    "start_time": "2023-04-14T06:48:47.155Z"
   },
   {
    "duration": 300,
    "start_time": "2023-04-14T06:48:47.183Z"
   },
   {
    "duration": 27,
    "start_time": "2023-04-14T06:48:47.484Z"
   },
   {
    "duration": 168,
    "start_time": "2023-04-14T06:48:47.564Z"
   },
   {
    "duration": 21,
    "start_time": "2023-04-14T06:48:59.801Z"
   },
   {
    "duration": 4,
    "start_time": "2023-04-14T06:49:44.535Z"
   },
   {
    "duration": 1772,
    "start_time": "2023-04-14T06:49:50.807Z"
   },
   {
    "duration": 1814,
    "start_time": "2023-04-14T06:50:23.298Z"
   },
   {
    "duration": 1739,
    "start_time": "2023-04-14T06:51:22.548Z"
   },
   {
    "duration": 1722,
    "start_time": "2023-04-14T06:52:32.281Z"
   },
   {
    "duration": 606,
    "start_time": "2023-04-14T07:10:01.900Z"
   },
   {
    "duration": 591,
    "start_time": "2023-04-14T07:10:56.721Z"
   },
   {
    "duration": 1736,
    "start_time": "2023-04-14T07:12:23.276Z"
   },
   {
    "duration": 8,
    "start_time": "2023-04-14T07:14:22.997Z"
   },
   {
    "duration": 13,
    "start_time": "2023-04-14T07:14:45.076Z"
   },
   {
    "duration": 666,
    "start_time": "2023-04-14T07:34:14.116Z"
   },
   {
    "duration": 5,
    "start_time": "2023-04-14T07:35:32.038Z"
   },
   {
    "duration": 5,
    "start_time": "2023-04-14T07:35:44.132Z"
   },
   {
    "duration": 597,
    "start_time": "2023-04-14T07:37:51.893Z"
   },
   {
    "duration": 8,
    "start_time": "2023-04-14T07:38:06.190Z"
   },
   {
    "duration": 596,
    "start_time": "2023-04-14T07:41:35.601Z"
   },
   {
    "duration": 5,
    "start_time": "2023-04-14T07:42:11.425Z"
   },
   {
    "duration": 1856,
    "start_time": "2023-04-14T07:42:36.931Z"
   },
   {
    "duration": 3,
    "start_time": "2023-04-14T07:57:23.241Z"
   },
   {
    "duration": 55,
    "start_time": "2023-04-14T07:57:23.246Z"
   },
   {
    "duration": 493,
    "start_time": "2023-04-14T07:57:23.303Z"
   },
   {
    "duration": 14,
    "start_time": "2023-04-14T07:57:23.798Z"
   },
   {
    "duration": 85,
    "start_time": "2023-04-14T07:57:23.814Z"
   },
   {
    "duration": 3,
    "start_time": "2023-04-14T07:57:23.904Z"
   },
   {
    "duration": 393,
    "start_time": "2023-04-14T07:57:23.908Z"
   },
   {
    "duration": 5,
    "start_time": "2023-04-14T07:57:24.303Z"
   },
   {
    "duration": 122,
    "start_time": "2023-04-14T07:57:24.361Z"
   },
   {
    "duration": 1823,
    "start_time": "2023-04-14T07:57:24.484Z"
   }
  ],
  "kernelspec": {
   "display_name": "Python 3 (ipykernel)",
   "language": "python",
   "name": "python3"
  },
  "language_info": {
   "codemirror_mode": {
    "name": "ipython",
    "version": 3
   },
   "file_extension": ".py",
   "mimetype": "text/x-python",
   "name": "python",
   "nbconvert_exporter": "python",
   "pygments_lexer": "ipython3",
   "version": "3.9.15"
  },
  "toc": {
   "base_numbering": 1,
   "nav_menu": {},
   "number_sections": true,
   "sideBar": true,
   "skip_h1_title": true,
   "title_cell": "Table of Contents",
   "title_sidebar": "Contents",
   "toc_cell": false,
   "toc_position": {},
   "toc_section_display": true,
   "toc_window_display": false
  }
 },
 "nbformat": 4,
 "nbformat_minor": 2
}
