{
 "cells": [
  {
   "cell_type": "markdown",
   "metadata": {},
   "source": [
    "# Определение стоимости автомобилей"
   ]
  },
  {
   "cell_type": "markdown",
   "metadata": {},
   "source": [
    "Сервис по продаже автомобилей с пробегом «Не бит, не крашен» разрабатывает приложение для привлечения новых клиентов. В нём можно быстро узнать рыночную стоимость своего автомобиля. В вашем распоряжении исторические данные: технические характеристики, комплектации и цены автомобилей. Вам нужно построить модель для определения стоимости. \n",
    "\n",
    "Заказчику важны:\n",
    "\n",
    "- качество предсказания;\n",
    "- скорость предсказания;\n",
    "- время обучения."
   ]
  },
  {
   "cell_type": "code",
   "execution_count": 336,
   "metadata": {},
   "outputs": [
    {
     "name": "stdout",
     "output_type": "stream",
     "text": [
      "Requirement already satisfied: lightgbm in c:\\users\\pavilion\\anaconda3\\envs\\practicum\\lib\\site-packages (3.3.5)\n",
      "Requirement already satisfied: wheel in c:\\users\\pavilion\\anaconda3\\envs\\practicum\\lib\\site-packages (from lightgbm) (0.38.4)\n",
      "Requirement already satisfied: scikit-learn!=0.22.0 in c:\\users\\pavilion\\anaconda3\\envs\\practicum\\lib\\site-packages (from lightgbm) (1.2.2)\n",
      "Requirement already satisfied: scipy in c:\\users\\pavilion\\anaconda3\\envs\\practicum\\lib\\site-packages (from lightgbm) (1.8.0)\n",
      "Requirement already satisfied: numpy in c:\\users\\pavilion\\anaconda3\\envs\\practicum\\lib\\site-packages (from lightgbm) (1.20.1)\n",
      "Requirement already satisfied: threadpoolctl>=2.0.0 in c:\\users\\pavilion\\anaconda3\\envs\\practicum\\lib\\site-packages (from scikit-learn!=0.22.0->lightgbm) (3.1.0)\n",
      "Requirement already satisfied: joblib>=1.1.1 in c:\\users\\pavilion\\anaconda3\\envs\\practicum\\lib\\site-packages (from scikit-learn!=0.22.0->lightgbm) (1.2.0)\n"
     ]
    }
   ],
   "source": [
    "# загрузки\n",
    "!pip install lightgbm;"
   ]
  },
  {
   "cell_type": "code",
   "execution_count": 337,
   "metadata": {},
   "outputs": [
    {
     "name": "stdout",
     "output_type": "stream",
     "text": [
      "Requirement already satisfied: optuna in c:\\users\\pavilion\\anaconda3\\envs\\practicum\\lib\\site-packages (3.1.1)\n",
      "Requirement already satisfied: alembic>=1.5.0 in c:\\users\\pavilion\\anaconda3\\envs\\practicum\\lib\\site-packages (from optuna) (1.11.1)\n",
      "Requirement already satisfied: packaging>=20.0 in c:\\users\\pavilion\\anaconda3\\envs\\practicum\\lib\\site-packages (from optuna) (22.0)\n",
      "Requirement already satisfied: cmaes>=0.9.1 in c:\\users\\pavilion\\anaconda3\\envs\\practicum\\lib\\site-packages (from optuna) (0.9.1)\n",
      "Requirement already satisfied: sqlalchemy>=1.3.0 in c:\\users\\pavilion\\anaconda3\\envs\\practicum\\lib\\site-packages (from optuna) (1.4.15)\n",
      "Requirement already satisfied: tqdm in c:\\users\\pavilion\\anaconda3\\envs\\practicum\\lib\\site-packages (from optuna) (4.64.1)\n",
      "Requirement already satisfied: numpy in c:\\users\\pavilion\\anaconda3\\envs\\practicum\\lib\\site-packages (from optuna) (1.20.1)\n",
      "Requirement already satisfied: colorlog in c:\\users\\pavilion\\anaconda3\\envs\\practicum\\lib\\site-packages (from optuna) (6.7.0)\n",
      "Requirement already satisfied: PyYAML in c:\\users\\pavilion\\anaconda3\\envs\\practicum\\lib\\site-packages (from optuna) (6.0)\n",
      "Requirement already satisfied: Mako in c:\\users\\pavilion\\anaconda3\\envs\\practicum\\lib\\site-packages (from alembic>=1.5.0->optuna) (1.2.4)\n",
      "Requirement already satisfied: typing-extensions>=4 in c:\\users\\pavilion\\anaconda3\\envs\\practicum\\lib\\site-packages (from alembic>=1.5.0->optuna) (4.4.0)\n",
      "Requirement already satisfied: greenlet!=0.4.17 in c:\\users\\pavilion\\anaconda3\\envs\\practicum\\lib\\site-packages (from sqlalchemy>=1.3.0->optuna) (2.0.1)\n",
      "Requirement already satisfied: colorama in c:\\users\\pavilion\\anaconda3\\envs\\practicum\\lib\\site-packages (from colorlog->optuna) (0.4.6)\n",
      "Requirement already satisfied: MarkupSafe>=0.9.2 in c:\\users\\pavilion\\anaconda3\\envs\\practicum\\lib\\site-packages (from Mako->alembic>=1.5.0->optuna) (2.1.1)\n"
     ]
    }
   ],
   "source": [
    "!pip install optuna"
   ]
  },
  {
   "cell_type": "code",
   "execution_count": 393,
   "metadata": {},
   "outputs": [
    {
     "name": "stdout",
     "output_type": "stream",
     "text": [
      "Collecting shap\n",
      "  Using cached shap-0.41.0-cp39-cp39-win_amd64.whl (435 kB)\n",
      "Requirement already satisfied: numpy in c:\\users\\pavilion\\anaconda3\\envs\\practicum\\lib\\site-packages (from shap) (1.24.3)\n",
      "Collecting cloudpickle\n",
      "  Using cached cloudpickle-2.2.1-py3-none-any.whl (25 kB)\n",
      "Requirement already satisfied: tqdm>4.25.0 in c:\\users\\pavilion\\anaconda3\\envs\\practicum\\lib\\site-packages (from shap) (4.64.1)\n",
      "Requirement already satisfied: scikit-learn in c:\\users\\pavilion\\anaconda3\\envs\\practicum\\lib\\site-packages (from shap) (1.2.2)\n",
      "Requirement already satisfied: packaging>20.9 in c:\\users\\pavilion\\anaconda3\\envs\\practicum\\lib\\site-packages (from shap) (22.0)\n",
      "Requirement already satisfied: slicer==0.0.7 in c:\\users\\pavilion\\anaconda3\\envs\\practicum\\lib\\site-packages (from shap) (0.0.7)\n",
      "Collecting numba\n",
      "  Using cached numba-0.57.0-cp39-cp39-win_amd64.whl (2.6 MB)\n",
      "Requirement already satisfied: pandas in c:\\users\\pavilion\\anaconda3\\envs\\practicum\\lib\\site-packages (from shap) (1.2.4)\n",
      "Requirement already satisfied: scipy in c:\\users\\pavilion\\anaconda3\\envs\\practicum\\lib\\site-packages (from shap) (1.8.0)\n",
      "Requirement already satisfied: colorama in c:\\users\\pavilion\\anaconda3\\envs\\practicum\\lib\\site-packages (from tqdm>4.25.0->shap) (0.4.6)\n",
      "Collecting llvmlite<0.41,>=0.40.0dev0\n",
      "  Using cached llvmlite-0.40.0-cp39-cp39-win_amd64.whl (27.7 MB)\n",
      "Requirement already satisfied: pytz>=2017.3 in c:\\users\\pavilion\\anaconda3\\envs\\practicum\\lib\\site-packages (from pandas->shap) (2022.7)\n",
      "Requirement already satisfied: python-dateutil>=2.7.3 in c:\\users\\pavilion\\anaconda3\\envs\\practicum\\lib\\site-packages (from pandas->shap) (2.8.2)\n",
      "Requirement already satisfied: threadpoolctl>=2.0.0 in c:\\users\\pavilion\\anaconda3\\envs\\practicum\\lib\\site-packages (from scikit-learn->shap) (3.1.0)\n",
      "Requirement already satisfied: joblib>=1.1.1 in c:\\users\\pavilion\\anaconda3\\envs\\practicum\\lib\\site-packages (from scikit-learn->shap) (1.2.0)\n",
      "Requirement already satisfied: six>=1.5 in c:\\users\\pavilion\\anaconda3\\envs\\practicum\\lib\\site-packages (from python-dateutil>=2.7.3->pandas->shap) (1.16.0)\n",
      "Installing collected packages: llvmlite, cloudpickle, numba, shap\n",
      "Successfully installed cloudpickle-2.2.1 llvmlite-0.40.0 numba-0.57.0 shap-0.41.0\n"
     ]
    }
   ],
   "source": [
    "!pip install shap"
   ]
  },
  {
   "cell_type": "code",
   "execution_count": null,
   "metadata": {
    "scrolled": false
   },
   "outputs": [],
   "source": [
    "# Импорты\n",
    "import pandas as pd\n",
    "\n",
    "import matplotlib.pyplot as plt\n",
    "\n",
    "import seaborn as sns; sns.set()\n",
    "\n",
    "from sklearn.model_selection import train_test_split, RandomizedSearchCV, GridSearchCV\n",
    "from sklearn.linear_model import Lasso\n",
    "from sklearn.ensemble import RandomForestRegressor\n",
    "from sklearn.metrics import mean_squared_error, make_scorer\n",
    "from sklearn.preprocessing import StandardScaler, OneHotEncoder, OrdinalEncoder\n",
    "from sklearn.pipeline import Pipeline\n",
    "from sklearn.compose import ColumnTransformer\n",
    "\n",
    "import optuna\n",
    "import optuna.integration.lightgbm as opt_lgb\n",
    "\n",
    "from lightgbm import early_stopping\n",
    "\n",
    "from time import time\n",
    "\n",
    "import shap"
   ]
  },
  {
   "cell_type": "code",
   "execution_count": 339,
   "metadata": {},
   "outputs": [],
   "source": [
    "# Константы\n",
    "RANDOM_STATE = 12345"
   ]
  },
  {
   "cell_type": "code",
   "execution_count": 340,
   "metadata": {},
   "outputs": [],
   "source": [
    "# Загрузим данные с сервера или локально\n",
    "try:\n",
    "    data = pd.read_csv('/datasets/autos.csv')\n",
    "except FileNotFoundError:\n",
    "    data = pd.read_csv('autos.csv')"
   ]
  },
  {
   "cell_type": "markdown",
   "metadata": {},
   "source": [
    "## Подготовка данных"
   ]
  },
  {
   "cell_type": "code",
   "execution_count": 341,
   "metadata": {},
   "outputs": [
    {
     "data": {
      "text/html": [
       "<div>\n",
       "<style scoped>\n",
       "    .dataframe tbody tr th:only-of-type {\n",
       "        vertical-align: middle;\n",
       "    }\n",
       "\n",
       "    .dataframe tbody tr th {\n",
       "        vertical-align: top;\n",
       "    }\n",
       "\n",
       "    .dataframe thead th {\n",
       "        text-align: right;\n",
       "    }\n",
       "</style>\n",
       "<table border=\"1\" class=\"dataframe\">\n",
       "  <thead>\n",
       "    <tr style=\"text-align: right;\">\n",
       "      <th></th>\n",
       "      <th>DateCrawled</th>\n",
       "      <th>Price</th>\n",
       "      <th>VehicleType</th>\n",
       "      <th>RegistrationYear</th>\n",
       "      <th>Gearbox</th>\n",
       "      <th>Power</th>\n",
       "      <th>Model</th>\n",
       "      <th>Kilometer</th>\n",
       "      <th>RegistrationMonth</th>\n",
       "      <th>FuelType</th>\n",
       "      <th>Brand</th>\n",
       "      <th>Repaired</th>\n",
       "      <th>DateCreated</th>\n",
       "      <th>NumberOfPictures</th>\n",
       "      <th>PostalCode</th>\n",
       "      <th>LastSeen</th>\n",
       "    </tr>\n",
       "  </thead>\n",
       "  <tbody>\n",
       "    <tr>\n",
       "      <th>0</th>\n",
       "      <td>2016-03-24 11:52:17</td>\n",
       "      <td>480</td>\n",
       "      <td>NaN</td>\n",
       "      <td>1993</td>\n",
       "      <td>manual</td>\n",
       "      <td>0</td>\n",
       "      <td>golf</td>\n",
       "      <td>150000</td>\n",
       "      <td>0</td>\n",
       "      <td>petrol</td>\n",
       "      <td>volkswagen</td>\n",
       "      <td>NaN</td>\n",
       "      <td>2016-03-24 00:00:00</td>\n",
       "      <td>0</td>\n",
       "      <td>70435</td>\n",
       "      <td>2016-04-07 03:16:57</td>\n",
       "    </tr>\n",
       "    <tr>\n",
       "      <th>1</th>\n",
       "      <td>2016-03-24 10:58:45</td>\n",
       "      <td>18300</td>\n",
       "      <td>coupe</td>\n",
       "      <td>2011</td>\n",
       "      <td>manual</td>\n",
       "      <td>190</td>\n",
       "      <td>NaN</td>\n",
       "      <td>125000</td>\n",
       "      <td>5</td>\n",
       "      <td>gasoline</td>\n",
       "      <td>audi</td>\n",
       "      <td>yes</td>\n",
       "      <td>2016-03-24 00:00:00</td>\n",
       "      <td>0</td>\n",
       "      <td>66954</td>\n",
       "      <td>2016-04-07 01:46:50</td>\n",
       "    </tr>\n",
       "  </tbody>\n",
       "</table>\n",
       "</div>"
      ],
      "text/plain": [
       "           DateCrawled  Price VehicleType  RegistrationYear Gearbox  Power  \\\n",
       "0  2016-03-24 11:52:17    480         NaN              1993  manual      0   \n",
       "1  2016-03-24 10:58:45  18300       coupe              2011  manual    190   \n",
       "\n",
       "  Model  Kilometer  RegistrationMonth  FuelType       Brand Repaired  \\\n",
       "0  golf     150000                  0    petrol  volkswagen      NaN   \n",
       "1   NaN     125000                  5  gasoline        audi      yes   \n",
       "\n",
       "           DateCreated  NumberOfPictures  PostalCode             LastSeen  \n",
       "0  2016-03-24 00:00:00                 0       70435  2016-04-07 03:16:57  \n",
       "1  2016-03-24 00:00:00                 0       66954  2016-04-07 01:46:50  "
      ]
     },
     "execution_count": 341,
     "metadata": {},
     "output_type": "execute_result"
    }
   ],
   "source": [
    "data.head(2)"
   ]
  },
  {
   "cell_type": "code",
   "execution_count": 342,
   "metadata": {
    "scrolled": false
   },
   "outputs": [
    {
     "name": "stdout",
     "output_type": "stream",
     "text": [
      "<class 'pandas.core.frame.DataFrame'>\n",
      "RangeIndex: 354369 entries, 0 to 354368\n",
      "Data columns (total 16 columns):\n",
      " #   Column             Non-Null Count   Dtype \n",
      "---  ------             --------------   ----- \n",
      " 0   DateCrawled        354369 non-null  object\n",
      " 1   Price              354369 non-null  int64 \n",
      " 2   VehicleType        316879 non-null  object\n",
      " 3   RegistrationYear   354369 non-null  int64 \n",
      " 4   Gearbox            334536 non-null  object\n",
      " 5   Power              354369 non-null  int64 \n",
      " 6   Model              334664 non-null  object\n",
      " 7   Kilometer          354369 non-null  int64 \n",
      " 8   RegistrationMonth  354369 non-null  int64 \n",
      " 9   FuelType           321474 non-null  object\n",
      " 10  Brand              354369 non-null  object\n",
      " 11  Repaired           283215 non-null  object\n",
      " 12  DateCreated        354369 non-null  object\n",
      " 13  NumberOfPictures   354369 non-null  int64 \n",
      " 14  PostalCode         354369 non-null  int64 \n",
      " 15  LastSeen           354369 non-null  object\n",
      "dtypes: int64(7), object(9)\n",
      "memory usage: 43.3+ MB\n"
     ]
    }
   ],
   "source": [
    "data.info()"
   ]
  },
  {
   "cell_type": "markdown",
   "metadata": {},
   "source": [
    "👀 Кажется моделей слишком много, проверим"
   ]
  },
  {
   "cell_type": "code",
   "execution_count": 343,
   "metadata": {},
   "outputs": [
    {
     "data": {
      "text/plain": [
       "251"
      ]
     },
     "execution_count": 343,
     "metadata": {},
     "output_type": "execute_result"
    }
   ],
   "source": [
    "len(data.Model.unique())"
   ]
  },
  {
   "cell_type": "markdown",
   "metadata": {},
   "source": [
    "**Выводы**\n",
    "- Моделей слишком много\n",
    "- Модели связаны с брендом отношением - один бренд ко многим моделям\n",
    "- Именно бренд определяет к какой ценовой нише относится автомобиль\n",
    "- Модель может быть описана такими характеристиками как тип кузова, мощность и год\n",
    "- Модель можно исключить из списка признаков для обучения"
   ]
  },
  {
   "cell_type": "markdown",
   "metadata": {},
   "source": [
    "<div class=\"alert alert-warning\" role=\"alert\">\n",
    "<b>Комментарий ревьюера:</b>\n",
    "    \n",
    "<b>⚠️«Можно лучше»: </b> Комментарии лучше перенести в текстовые ячейки. Комментарии в ячейках кода (#...) нужны для объяснений технических моментов, например, чтобы было понятно как работает функция."
   ]
  },
  {
   "cell_type": "markdown",
   "metadata": {},
   "source": [
    "👀 Проверим год выпуска на возможные аномалии"
   ]
  },
  {
   "cell_type": "code",
   "execution_count": 344,
   "metadata": {
    "scrolled": true
   },
   "outputs": [
    {
     "data": {
      "text/plain": [
       "array([1000, 1001, 1039, 1111, 1200, 1234, 1253, 1255, 1300, 1400, 1500,\n",
       "       1600, 1602, 1688, 1800, 1910, 1915, 1919, 1920, 1923, 1925, 1927,\n",
       "       1928, 1929, 1930, 1931, 1932, 1933, 1934, 1935, 1936, 1937, 1938,\n",
       "       1940, 1941, 1942, 1943, 1944, 1945, 1946, 1947, 1948, 1949, 1950,\n",
       "       1951, 1952, 1953, 1954, 1955, 1956, 1957, 1958, 1959, 1960, 1961,\n",
       "       1962, 1963, 1964, 1965, 1966, 1967, 1968, 1969, 1970, 1971, 1972,\n",
       "       1973, 1974, 1975, 1976, 1977, 1978, 1979, 1980, 1981, 1982, 1983,\n",
       "       1984, 1985, 1986, 1987, 1988, 1989, 1990, 1991, 1992, 1993, 1994,\n",
       "       1995, 1996, 1997, 1998, 1999, 2000, 2001, 2002, 2003, 2004, 2005,\n",
       "       2006, 2007, 2008, 2009, 2010, 2011, 2012, 2013, 2014, 2015, 2016,\n",
       "       2017, 2018, 2019, 2066, 2200, 2222, 2290, 2500, 2800, 2900, 3000,\n",
       "       3200, 3500, 3700, 3800, 4000, 4100, 4500, 4800, 5000, 5300, 5555,\n",
       "       5600, 5900, 5911, 6000, 6500, 7000, 7100, 7500, 7800, 8000, 8200,\n",
       "       8455, 8500, 8888, 9000, 9229, 9450, 9996, 9999], dtype=int64)"
      ]
     },
     "execution_count": 344,
     "metadata": {},
     "output_type": "execute_result"
    }
   ],
   "source": [
    "data.RegistrationYear.sort_values().unique()"
   ]
  },
  {
   "cell_type": "markdown",
   "metadata": {},
   "source": [
    "**Аномальные значения**\n",
    "- Слишком ранние значения: 1800 и ранее (когда автомобиль еще не изобрели)\n",
    "- Даты из будущего: 2066 и позднее.."
   ]
  },
  {
   "cell_type": "markdown",
   "metadata": {},
   "source": [
    "👀 Нельзя продать, чего еще нет - проверим последнюю дату создания объявления"
   ]
  },
  {
   "cell_type": "code",
   "execution_count": 347,
   "metadata": {},
   "outputs": [
    {
     "data": {
      "text/plain": [
       "'2016-04-07 00:00:00'"
      ]
     },
     "execution_count": 347,
     "metadata": {},
     "output_type": "execute_result"
    }
   ],
   "source": [
    "data.DateCreated.sort_values(ascending=False).iloc[0]"
   ]
  },
  {
   "cell_type": "markdown",
   "metadata": {},
   "source": [
    "<div id=1></div>\n",
    "\n",
    "**Аномальные значения**\n",
    "- Год и месяц регистрации после 2016-04-07"
   ]
  },
  {
   "cell_type": "markdown",
   "metadata": {},
   "source": [
    "👀 Изучим распределение записей по мощности двигателя"
   ]
  },
  {
   "cell_type": "code",
   "execution_count": 348,
   "metadata": {
    "scrolled": true
   },
   "outputs": [
    {
     "data": {
      "image/png": "[encoded data removed]",
      "text/plain": [
       "<Figure size 640x480 with 1 Axes>"
      ]
     },
     "metadata": {},
     "output_type": "display_data"
    }
   ],
   "source": [
    "data[data.Power < 500].Power.plot(kind='hist', bins=50, xlim=(0, 500),\n",
    "                                  title=\"Гистограмма автомобилей по мощности двигателя\")\n",
    "plt.xlabel(\"Мощность, л.с.\")\n",
    "plt.ylabel( \"Количество объявлений\");"
   ]
  },
  {
   "cell_type": "markdown",
   "metadata": {},
   "source": [
    "**Аномальные значения**\n",
    "- 40_000 объявлений с мощностью автомобиля меньше 10 л.ч"
   ]
  },
  {
   "cell_type": "markdown",
   "metadata": {},
   "source": [
    "👀 Изучим распределение записей по цене в диапазоне от 0 до 200"
   ]
  },
  {
   "cell_type": "code",
   "execution_count": 349,
   "metadata": {},
   "outputs": [
    {
     "data": {
      "image/png": "[encoded data removed]",
      "text/plain": [
       "<Figure size 640x480 with 1 Axes>"
      ]
     },
     "metadata": {},
     "output_type": "display_data"
    }
   ],
   "source": [
    "data[data.Price < 200].Price.plot(kind='hist', bins=10)\n",
    "plt.title(\"Автомобили дешевле 200 евро\")\n",
    "plt.xlabel(\"Цена, евро\")\n",
    "plt.ylabel( \"Количество объявлений\");"
   ]
  },
  {
   "cell_type": "markdown",
   "metadata": {},
   "source": [
    "**Аномальные значения**\n",
    "- 12_000 объявлений с ценой меньше 20 евро"
   ]
  },
  {
   "cell_type": "markdown",
   "metadata": {},
   "source": [
    "👀 Изучим распределение записей по пробегу"
   ]
  },
  {
   "cell_type": "markdown",
   "metadata": {},
   "source": [
    "👀 Изучим распределение записей по пробегу"
   ]
  },
  {
   "cell_type": "code",
   "execution_count": 350,
   "metadata": {
    "scrolled": true
   },
   "outputs": [
    {
     "data": {
      "image/png": "[encoded data removed]",
      "text/plain": [
       "<Figure size 640x480 with 1 Axes>"
      ]
     },
     "metadata": {},
     "output_type": "display_data"
    }
   ],
   "source": [
    "(data.Kilometer\n",
    " .value_counts()\n",
    " .sort_index()\n",
    " .plot(kind='bar'))\n",
    "plt.xticks(rotation='vertical')\n",
    "plt.title(\"Распределение автомобилей по пробегу\")\n",
    "plt.xlabel(\"Пробег, км\")\n",
    "plt.ylabel( \"Количество объявлений\");"
   ]
  },
  {
   "cell_type": "markdown",
   "metadata": {},
   "source": [
    "**Выводы**\n",
    "- Значения пробега дискретны, что скорее всего связано с формой сбора данных.\n",
    "- Значения 150 000 км - аномально большое. Скорее всего туда отнесены автомобили с пробегом 150 000 ки и выше\n",
    "- Возможно стоит разделить на 2 категории с пробегом\n",
    " - меньше 150 000 км\n",
    " - 150 000 км и больше"
   ]
  },
  {
   "cell_type": "markdown",
   "metadata": {},
   "source": [
    "<div class=\"alert alert-block alert-info\">\n",
    "<b>Комментарий студента:</b> Не стал делить на 2 категории. Возможно, что часть информации при таком агрегировании будет потеряна.\n",
    "</div>  "
   ]
  },
  {
   "cell_type": "markdown",
   "metadata": {},
   "source": [
    "👀 Изучим распределение записей по количеству фотографий"
   ]
  },
  {
   "cell_type": "code",
   "execution_count": 351,
   "metadata": {},
   "outputs": [
    {
     "data": {
      "text/plain": [
       "0    354369\n",
       "Name: NumberOfPictures, dtype: int64"
      ]
     },
     "execution_count": 351,
     "metadata": {},
     "output_type": "execute_result"
    }
   ],
   "source": [
    "data.NumberOfPictures.value_counts()"
   ]
  },
  {
   "cell_type": "markdown",
   "metadata": {},
   "source": [
    "**Выводы**\n",
    "- Объявлений с фотографиями нет\n",
    "- Столбей не информативен"
   ]
  },
  {
   "cell_type": "markdown",
   "metadata": {},
   "source": [
    "**Результаты анализа данных**\n",
    "___\n",
    "`Не нужны` следующие данные:\n",
    "- `PostalCode` — почтовый индекс владельца анкеты (пользователя). Индекс может даже не совпадать с регионом продажи авто.\n",
    "- `NumberOfPictures` — фотографий нет - столбец не информативен\n",
    "- Все данные с датами по статусу объявления (не касается авто)\n",
    " - `LastSeen` — дата последней активности пользователя \n",
    " - `DateCrawled` — дата скачивания анкеты из базы\n",
    " - `DateCreated` — дата создания анкеты  (если бы была дата продажи, то возможно был бы смысл)\n",
    "- `Model` — модель автомобиля (251 модель слишком много для кодирования, большинство моделей мало представлены, у 5% объявлений данные отсутствуют)\n",
    "- `RegistrationMonth` — месяц регистрации автомобиля (чтобы избежать чрезмерной дискретности учета возраста автомобиля)\n",
    "___\n",
    "- Что следует `преобразовать`:\n",
    " - Заполнить пропуски в столбцах `Gearbox`, `FuelType`, `VehicleType`, `Repaired` значением `no_info`\n",
    " - Удалить записи с аномальными значениями\n",
    "  - `RegistrationYear` — год регистрации автомобиля (до 1910 или после 2016)\n",
    "  - `Price` — цена меньше 100 (после 100 возможна продажа авто после ремонта)\n",
    "  - `Power` — мощность (меньше 10 и больше 500)"
   ]
  },
  {
   "cell_type": "markdown",
   "metadata": {},
   "source": [
    "- Удалим ненужные признаки"
   ]
  },
  {
   "cell_type": "code",
   "execution_count": 352,
   "metadata": {},
   "outputs": [],
   "source": [
    "data.drop(['PostalCode', 'LastSeen', 'NumberOfPictures', 'Model',\n",
    "           'DateCrawled', 'DateCreated', 'RegistrationMonth'], axis=1, inplace=True)"
   ]
  },
  {
   "cell_type": "markdown",
   "metadata": {},
   "source": [
    "- Оценим количество отсутствующих значений"
   ]
  },
  {
   "cell_type": "code",
   "execution_count": 353,
   "metadata": {},
   "outputs": [
    {
     "data": {
      "text/plain": [
       "VehicleType    0.105794\n",
       "Gearbox        0.055967\n",
       "FuelType       0.092827\n",
       "Repaired       0.200791\n",
       "dtype: float64"
      ]
     },
     "execution_count": 353,
     "metadata": {},
     "output_type": "execute_result"
    }
   ],
   "source": [
    "data.isna().mean()[data.isna().sum() > 0]"
   ]
  },
  {
   "cell_type": "markdown",
   "metadata": {},
   "source": [
    "- Заменим отсутствующие значения на 'no_info'"
   ]
  },
  {
   "cell_type": "code",
   "execution_count": 354,
   "metadata": {},
   "outputs": [],
   "source": [
    "data.fillna('no_info', inplace=True)"
   ]
  },
  {
   "cell_type": "markdown",
   "metadata": {},
   "source": [
    "- Удалим аномалии по возрасту, цене и мощности"
   ]
  },
  {
   "cell_type": "code",
   "execution_count": 355,
   "metadata": {},
   "outputs": [],
   "source": [
    "data.drop(data.query('RegistrationYear < 1910 or ' +\n",
    "                     'RegistrationYear > 2016 or ' +\n",
    "                     'Price < 100 or ' +\n",
    "                     'Power < 10 or ' +\n",
    "                     'Power > 500').index, inplace=True)"
   ]
  },
  {
   "cell_type": "markdown",
   "metadata": {},
   "source": [
    "- Разделим данные на целевое значение и признаки"
   ]
  },
  {
   "cell_type": "code",
   "execution_count": 356,
   "metadata": {},
   "outputs": [],
   "source": [
    "target = data.Price\n",
    "features = data.drop('Price', axis=1)"
   ]
  },
  {
   "cell_type": "markdown",
   "metadata": {},
   "source": [
    "<div id=\"3\"></div>\n",
    "👀 Изучим взаимную корреляцию признаков"
   ]
  },
  {
   "cell_type": "code",
   "execution_count": 357,
   "metadata": {},
   "outputs": [
    {
     "data": {
      "image/png": "[encoded data removed]",
      "text/plain": [
       "<Figure size 640x480 with 2 Axes>"
      ]
     },
     "metadata": {},
     "output_type": "display_data"
    }
   ],
   "source": [
    "sns.heatmap(pd.get_dummies(features).corr())\n",
    "plt.title(\"Взаимная корреляция признаков\");"
   ]
  },
  {
   "cell_type": "markdown",
   "metadata": {},
   "source": [
    "- Взаимной корреляции признаков не выявлено"
   ]
  },
  {
   "cell_type": "code",
   "execution_count": 358,
   "metadata": {},
   "outputs": [],
   "source": [
    "categorical_features = ['VehicleType', 'Gearbox', 'FuelType', 'Brand', 'Repaired']"
   ]
  },
  {
   "cell_type": "markdown",
   "metadata": {},
   "source": [
    "- Разделим данные на обучающую и проверочную выборки"
   ]
  },
  {
   "cell_type": "code",
   "execution_count": 359,
   "metadata": {},
   "outputs": [],
   "source": [
    "Xtrain, Xtest, ytrain, ytest = train_test_split(features, target, test_size=.2,\n",
    "                                                random_state=RANDOM_STATE)"
   ]
  },
  {
   "cell_type": "markdown",
   "metadata": {},
   "source": [
    "<div id=\"4\"></div>\n",
    "\n",
    "\n",
    "- Настроим экземпляр класса OrdinalEncoder\n",
    " - *подготовка категориальных признаков для деревьев решений*"
   ]
  },
  {
   "cell_type": "code",
   "execution_count": 360,
   "metadata": {},
   "outputs": [],
   "source": [
    "ordinal_encoder_params = [('category_encoder',\n",
    "                             OrdinalEncoder(dtype=int,\n",
    "                                            handle_unknown='use_encoded_value',\n",
    "                                            unknown_value=-1),\n",
    "                             categorical_features)]\n",
    "ordinal_encoder = ColumnTransformer(ordinal_encoder_params, remainder='passthrough')"
   ]
  },
  {
   "cell_type": "markdown",
   "metadata": {},
   "source": [
    "<div id=\"2\"></div>\n",
    "\n",
    "- Настроим экземпляр класса OneHotEncoder\n",
    " - *подготовка категориальных признаков для линейных моделей*"
   ]
  },
  {
   "cell_type": "code",
   "execution_count": 361,
   "metadata": {},
   "outputs": [],
   "source": [
    "ohe_params = [('scaler', StandardScaler(), ['RegistrationYear', 'Power', 'Kilometer']),\n",
    "                    ('ohe_to_specified',\n",
    "                     OneHotEncoder(dtype=int, sparse_output=False, handle_unknown='ignore'),\n",
    "                     categorical_features)]\n",
    "one_hot_encoder = ColumnTransformer(ohe_params, remainder='passthrough')"
   ]
  },
  {
   "cell_type": "markdown",
   "metadata": {},
   "source": [
    "- Подготовим метрику (RMSE) для подбора оптимальных параметров моделей sklearn с кросс-валидацией"
   ]
  },
  {
   "cell_type": "code",
   "execution_count": 362,
   "metadata": {},
   "outputs": [],
   "source": [
    "scorer = make_scorer(mean_squared_error, greater_is_better=False, squared=False)"
   ]
  },
  {
   "cell_type": "markdown",
   "metadata": {},
   "source": [
    "<div id=\"5\"></div>\n",
    "\n",
    "- Создадим функцию для сбора времени выполнения и лучшей метрики модели"
   ]
  },
  {
   "cell_type": "code",
   "execution_count": 363,
   "metadata": {},
   "outputs": [],
   "source": [
    "summary = []"
   ]
  },
  {
   "cell_type": "code",
   "execution_count": 364,
   "metadata": {},
   "outputs": [],
   "source": [
    "def model_performance(func, *args, model=None, step=0, summary=summary, **kwargs):\n",
    "    \"\"\"Квази-декоратор оценки качества модели.\"\"\"\n",
    "    steps = {0: \"обучение\", 1: \"предсказание\"}\n",
    "    start = time()\n",
    "    x = func(*args)\n",
    "    period = round(time() - start, 1)\n",
    "    best_score = 0\n",
    "    if not step:\n",
    "        try:\n",
    "            best_score = round(abs(x.best_score_), 1)\n",
    "        except AttributeError:\n",
    "            best_score = round(abs(func.__self__.best_score), 1)\n",
    "    summary.append((model, steps[step], period, best_score))\n",
    "    print(f'Модель: {model}. Этап: {steps[step]}.')\n",
    "    print(f\"Операция заняла {period:.1f} секунд.\")\n",
    "    print(f'Значение RMSE: {best_score:.1f}')\n",
    "    return "
   ]
  },
  {
   "cell_type": "markdown",
   "metadata": {},
   "source": [
    "**Подготовка данных**\n",
    "___\n",
    "\n",
    "- Удалили ненужные признаки\n",
    "\n",
    "- Заменили отсутствующие значения на 'no_info'\n",
    "\n",
    "- Удалили аномалии по возрасту, цене и мощности\n",
    "\n",
    "- Разделили данные на обучающую и проверочную выборки\n",
    "\n",
    "- Настроили экземпляр класса OrdinalEncoder\n",
    " - *подготовка категориальных признаков для деревьев решений*\n",
    "\n",
    "- Настроили экземпляр класса OneHotEncoder\n",
    " - *подготовка категориальных признаков для линейных моделей*\n",
    "\n",
    "- Подготовили метрику (RMSE) для подбора оптимальных параметров моделей sklearn с кросс-валидацией\n",
    "\n",
    "- Создадили функцию для сбора времени выполнения и лучшей метрики модели"
   ]
  },
  {
   "cell_type": "markdown",
   "metadata": {},
   "source": [
    "## Обучение моделей"
   ]
  },
  {
   "cell_type": "markdown",
   "metadata": {},
   "source": [
    "###  LightGBM"
   ]
  },
  {
   "cell_type": "markdown",
   "metadata": {},
   "source": [
    "- Подготовим данные для модели (категориальные данные трансформируем с помощью OrdinalEncoder)"
   ]
  },
  {
   "cell_type": "code",
   "execution_count": 365,
   "metadata": {},
   "outputs": [],
   "source": [
    "cv_data = opt_lgb.Dataset(data=ordinal_encoder.fit_transform(Xtrain), label=ytrain)"
   ]
  },
  {
   "cell_type": "markdown",
   "metadata": {},
   "source": [
    "- Настроим параметры регрессии с метрикой RMSE"
   ]
  },
  {
   "cell_type": "code",
   "execution_count": 366,
   "metadata": {},
   "outputs": [],
   "source": [
    "param = {\n",
    "        \"objective\": \"regression\",\n",
    "        \"metric\": \"rmse\",\n",
    "        \"verbosity\": -1,\n",
    "        \"boosting_type\": \"gbdt\",    \n",
    "}"
   ]
  },
  {
   "cell_type": "markdown",
   "metadata": {
    "scrolled": true
   },
   "source": [
    "- Настроим модель градиентного бустинга с кросс-валидацией\n",
    " - интеграция LightGBM и Optuna"
   ]
  },
  {
   "cell_type": "code",
   "execution_count": 367,
   "metadata": {},
   "outputs": [],
   "source": [
    "optuna.logging.set_verbosity(optuna.logging.WARNING)"
   ]
  },
  {
   "cell_type": "code",
   "execution_count": 368,
   "metadata": {
    "scrolled": true
   },
   "outputs": [],
   "source": [
    "opt_lgb_cv = opt_lgb.LightGBMTunerCV(\n",
    "    param,\n",
    "    cv_data,\n",
    "    nfold=4, stratified=False,\n",
    "    callbacks=[early_stopping(1, verbose=False)],\n",
    "    optuna_seed=RANDOM_STATE,\n",
    "    time_budget=300,\n",
    "    show_progress_bar=True,\n",
    "    return_cvbooster=True\n",
    ")"
   ]
  },
  {
   "cell_type": "code",
   "execution_count": 369,
   "metadata": {
    "scrolled": true
   },
   "outputs": [
    {
     "name": "stderr",
     "output_type": "stream",
     "text": [
      "feature_fraction, val_score: 1611.395795: 100%|##########| 7/7 [02:34<00:00, 22.05s/it]\n",
      "num_leaves, val_score: 1550.978985:  35%|###5      | 7/20 [02:54<05:23, 24.88s/it]\n",
      "  0%|          | 0/10 [00:00<?, ?it/s]\n",
      "  0%|          | 0/3 [00:00<?, ?it/s]\n",
      "  0%|          | 0/20 [00:00<?, ?it/s]\n",
      "  0%|          | 0/5 [00:00<?, ?it/s]"
     ]
    },
    {
     "name": "stdout",
     "output_type": "stream",
     "text": [
      "Модель: Optuna LightGBM. Этап: обучение.\n",
      "Операция заняла 328.8 секунд.\n",
      "Значение RMSE: 1551.0\n"
     ]
    },
    {
     "name": "stderr",
     "output_type": "stream",
     "text": [
      "\n"
     ]
    }
   ],
   "source": [
    "model_performance(opt_lgb_cv.run, model='Optuna LightGBM', summary=summary)"
   ]
  },
  {
   "cell_type": "code",
   "execution_count": 370,
   "metadata": {
    "scrolled": true
   },
   "outputs": [
    {
     "name": "stdout",
     "output_type": "stream",
     "text": [
      "Модель: Optuna LightGBM. Этап: предсказание.\n",
      "Операция заняла 21.6 секунд.\n",
      "Значение RMSE: 0.0\n"
     ]
    }
   ],
   "source": [
    "model_performance(opt_lgb_cv.get_best_booster().predict,\n",
    "                  ordinal_encoder.fit_transform(Xtrain),\n",
    "                  model='Optuna LightGBM', step=1, summary=summary)"
   ]
  },
  {
   "cell_type": "markdown",
   "metadata": {},
   "source": [
    "### Другие модели"
   ]
  },
  {
   "cell_type": "markdown",
   "metadata": {},
   "source": [
    "#### Лассо"
   ]
  },
  {
   "cell_type": "markdown",
   "metadata": {},
   "source": [
    "- Будем настраивать сновной параметр Лассо - коэффициент штрафов"
   ]
  },
  {
   "cell_type": "code",
   "execution_count": 371,
   "metadata": {},
   "outputs": [],
   "source": [
    "lasso_params = {\n",
    "    'lasso__alpha': list(10 ** degree for degree in range(-2, 4)),\n",
    "    }"
   ]
  },
  {
   "cell_type": "markdown",
   "metadata": {},
   "source": [
    "- Создадим конвейер: преобразование категориальных признаков (OHE) -> Lasso"
   ]
  },
  {
   "cell_type": "code",
   "execution_count": 372,
   "metadata": {},
   "outputs": [],
   "source": [
    "lasso_pipe = Pipeline([\n",
    "    ('transformer', one_hot_encoder),\n",
    "    ('lasso', Lasso(precompute=True, tol=.001, random_state=RANDOM_STATE)), \n",
    "]);"
   ]
  },
  {
   "cell_type": "markdown",
   "metadata": {},
   "source": [
    "- Создадим оцениватель с последовательным перебором параметров"
   ]
  },
  {
   "cell_type": "code",
   "execution_count": 373,
   "metadata": {},
   "outputs": [],
   "source": [
    "lasso_gs = GridSearchCV(lasso_pipe, lasso_params, cv=4, scoring=scorer, n_jobs=-1)"
   ]
  },
  {
   "cell_type": "code",
   "execution_count": 374,
   "metadata": {},
   "outputs": [],
   "source": [
    "lasso_func = {\n",
    "    'обучение': lasso_gs.fit,\n",
    "    'предсказание': lasso_gs.predict\n",
    "}"
   ]
  },
  {
   "cell_type": "code",
   "execution_count": 375,
   "metadata": {
    "scrolled": false
   },
   "outputs": [
    {
     "name": "stdout",
     "output_type": "stream",
     "text": [
      "Модель: Лассо. Этап: обучение.\n",
      "Операция заняла 45.5 секунд.\n",
      "Значение RMSE: 2738.7\n"
     ]
    },
    {
     "name": "stderr",
     "output_type": "stream",
     "text": [
      "C:\\Users\\PAVILION\\anaconda3\\envs\\practicum\\lib\\site-packages\\sklearn\\linear_model\\_coordinate_descent.py:617: ConvergenceWarning: Objective did not converge. You might want to increase the number of iterations. Duality gap: 431989673728.1522, tolerance: 5008949050.772013\n",
      "  model = cd_fast.enet_coordinate_descent_gram(\n"
     ]
    }
   ],
   "source": [
    "model_performance(lasso_gs.fit, Xtrain, ytrain, model=\"Лассо\", summary=summary)"
   ]
  },
  {
   "cell_type": "code",
   "execution_count": 376,
   "metadata": {
    "scrolled": false
   },
   "outputs": [
    {
     "name": "stdout",
     "output_type": "stream",
     "text": [
      "Модель: Лассо. Этап: предсказание.\n",
      "Операция заняла 1.4 секунд.\n",
      "Значение RMSE: 0.0\n"
     ]
    }
   ],
   "source": [
    "model_performance(lasso_gs.predict, Xtrain, model=\"Лассо\", step=1, summary=summary)"
   ]
  },
  {
   "cell_type": "markdown",
   "metadata": {},
   "source": [
    "#### Случайный лес"
   ]
  },
  {
   "cell_type": "code",
   "execution_count": 377,
   "metadata": {},
   "outputs": [],
   "source": [
    "# основные параметры Случайного Леса - количество деревьев и максимальная глубина\n",
    "rf_params = {\n",
    "    'random_forest__n_estimators': [70, 80],\n",
    "    'random_forest__max_depth': [11, 13, 15]\n",
    "}"
   ]
  },
  {
   "cell_type": "code",
   "execution_count": 378,
   "metadata": {},
   "outputs": [],
   "source": [
    "rf_pipe = Pipeline([\n",
    "    ('transformer', ordinal_encoder),\n",
    "    ('random_forest', RandomForestRegressor(random_state=RANDOM_STATE))\n",
    "]);"
   ]
  },
  {
   "cell_type": "code",
   "execution_count": 379,
   "metadata": {},
   "outputs": [],
   "source": [
    "# создание оценивателя со случайным перебором наборов параметров\n",
    "rf_gs = GridSearchCV(rf_pipe, rf_params, cv=4, scoring=scorer)"
   ]
  },
  {
   "cell_type": "code",
   "execution_count": 380,
   "metadata": {
    "scrolled": false
   },
   "outputs": [
    {
     "name": "stdout",
     "output_type": "stream",
     "text": [
      "Модель: Случайный Лес. Этап: обучение.\n",
      "Операция заняла 1040.5 секунд.\n",
      "Значение RMSE: 1643.0\n"
     ]
    }
   ],
   "source": [
    "model_performance(rf_gs.fit, Xtrain, ytrain, model=\"Случайный Лес\", summary=summary)"
   ]
  },
  {
   "cell_type": "code",
   "execution_count": 381,
   "metadata": {
    "scrolled": false
   },
   "outputs": [
    {
     "name": "stdout",
     "output_type": "stream",
     "text": [
      "Модель: Случайный Лес. Этап: предсказание.\n",
      "Операция заняла 5.5 секунд.\n",
      "Значение RMSE: 0.0\n"
     ]
    }
   ],
   "source": [
    "model_performance(rf_gs.predict, Xtrain, model=\"Случайный Лес\", step=1, summary=summary)"
   ]
  },
  {
   "cell_type": "markdown",
   "metadata": {},
   "source": [
    "**Обучение моделей**\n",
    "___\n",
    "- Для обучения и оценки были выбраны следующие модели\n",
    " - Градиентный бустинг - LightGBM\n",
    " - Линейная регрессия с регуляризацией L1 - Lasso\n",
    " - Ансамбль решающих деревьев - RandomForestRegressor\n",
    "- Модели обучались с кросс-валидацией и автоматическим подбором параметров с использованием\n",
    " - Optuna - для градиентного бустинга\n",
    " - PipeLine и GridSearchCV - для Лассо и Случайного леса\n",
    "- Данные по достигнутому значению метрики качества и времени на обучение и прогноз собирались в список"
   ]
  },
  {
   "cell_type": "markdown",
   "metadata": {},
   "source": [
    "## Анализ моделей"
   ]
  },
  {
   "cell_type": "code",
   "execution_count": 382,
   "metadata": {},
   "outputs": [],
   "source": [
    "def time_spent(func):\n",
    "    \"\"\"Декоратор оценки вермени выполнения функции.\"\"\"\n",
    "    def wrapper(*args):\n",
    "        start = time()\n",
    "        func(*args)\n",
    "        print(f\"Предсказание заняло {time() - start:.1f} секунд.\")\n",
    "    return wrapper\n",
    "        \n",
    "@time_spent\n",
    "def predictions_info(model_fitted, model_name, Xtest, ytest):\n",
    "    \"\"\"Оценка среднеквадратической ошибки предсказания.\"\"\"\n",
    "    ypred = model_fitted.predict(Xtest)\n",
    "    if isinstance(ypred, list):\n",
    "        ypred = sum(i for i in ypred) / len(ypred)\n",
    "    score = mean_squared_error(ytest, ypred, squared=False)\n",
    "    print(f\"Модель: {model_name}\")\n",
    "    print(f\"Среднеквадратичная ошибка предсказания: {score:.1f}\")"
   ]
  },
  {
   "cell_type": "code",
   "execution_count": 383,
   "metadata": {},
   "outputs": [
    {
     "data": {
      "text/html": [
       "<div>\n",
       "<style scoped>\n",
       "    .dataframe tbody tr th:only-of-type {\n",
       "        vertical-align: middle;\n",
       "    }\n",
       "\n",
       "    .dataframe tbody tr th {\n",
       "        vertical-align: top;\n",
       "    }\n",
       "\n",
       "    .dataframe thead th {\n",
       "        text-align: right;\n",
       "    }\n",
       "</style>\n",
       "<table border=\"1\" class=\"dataframe\">\n",
       "  <thead>\n",
       "    <tr style=\"text-align: right;\">\n",
       "      <th></th>\n",
       "      <th></th>\n",
       "      <th>Время</th>\n",
       "      <th>RMSE</th>\n",
       "    </tr>\n",
       "    <tr>\n",
       "      <th>Модель</th>\n",
       "      <th>Этап</th>\n",
       "      <th></th>\n",
       "      <th></th>\n",
       "    </tr>\n",
       "  </thead>\n",
       "  <tbody>\n",
       "    <tr>\n",
       "      <th rowspan=\"2\" valign=\"top\">Optuna LightGBM</th>\n",
       "      <th>обучение</th>\n",
       "      <td>328.8</td>\n",
       "      <td>1551.0</td>\n",
       "    </tr>\n",
       "    <tr>\n",
       "      <th>предсказание</th>\n",
       "      <td>21.6</td>\n",
       "      <td>0.0</td>\n",
       "    </tr>\n",
       "    <tr>\n",
       "      <th rowspan=\"2\" valign=\"top\">Лассо</th>\n",
       "      <th>обучение</th>\n",
       "      <td>45.5</td>\n",
       "      <td>2738.7</td>\n",
       "    </tr>\n",
       "    <tr>\n",
       "      <th>предсказание</th>\n",
       "      <td>1.4</td>\n",
       "      <td>0.0</td>\n",
       "    </tr>\n",
       "    <tr>\n",
       "      <th rowspan=\"2\" valign=\"top\">Случайный Лес</th>\n",
       "      <th>обучение</th>\n",
       "      <td>1040.5</td>\n",
       "      <td>1643.0</td>\n",
       "    </tr>\n",
       "    <tr>\n",
       "      <th>предсказание</th>\n",
       "      <td>5.5</td>\n",
       "      <td>0.0</td>\n",
       "    </tr>\n",
       "  </tbody>\n",
       "</table>\n",
       "</div>"
      ],
      "text/plain": [
       "                               Время    RMSE\n",
       "Модель          Этап                        \n",
       "Optuna LightGBM обучение       328.8  1551.0\n",
       "                предсказание    21.6     0.0\n",
       "Лассо           обучение        45.5  2738.7\n",
       "                предсказание     1.4     0.0\n",
       "Случайный Лес   обучение      1040.5  1643.0\n",
       "                предсказание     5.5     0.0"
      ]
     },
     "execution_count": 383,
     "metadata": {},
     "output_type": "execute_result"
    }
   ],
   "source": [
    "pd.DataFrame(summary, columns=[\"Модель\", \"Этап\", \"Время\", \"RMSE\"]).set_index([\"Модель\", \"Этап\"])"
   ]
  },
  {
   "cell_type": "code",
   "execution_count": 384,
   "metadata": {
    "scrolled": true
   },
   "outputs": [
    {
     "name": "stdout",
     "output_type": "stream",
     "text": [
      "Модель: Градиентный бустинг\n",
      "Среднеквадратичная ошибка предсказания: 1549.5\n",
      "Предсказание заняло 5.6 секунд.\n"
     ]
    }
   ],
   "source": [
    "# получим оцениватель градиентного бустинга с минимальным значением ошибки\n",
    "bst = opt_lgb_cv.get_best_booster()\n",
    "predictions_info(bst, \"Градиентный бустинг\",\n",
    "                 ordinal_encoder.fit_transform(Xtest), ytest)"
   ]
  },
  {
   "cell_type": "markdown",
   "metadata": {},
   "source": [
    "**Выводы**\n",
    "___\n",
    "- В ходе анализа моделей регрессии были изучены три вида `градиентный бустинг LightGBM`, \n",
    "`Лассо` и `случайный лес`.\n",
    "- Критерии оценки: скорость обучения, скорость предсказания и минимизация ошибки.\n",
    "- `Худший` результат на наших данных показала модель `Лассо`. При самой быстрой скорости обучения (`45.5 с`) и предсказания (`0.1 с`), она показала наибольшую `ошибку` `2738.7` (по условию задания - не выше 2500).\n",
    "- `Случайный лес` показал приемлемое значение `ошибки` (`1643`), но при этом оказался `самым долго обучаемым` (`1040.5 c`). Обученная модель работает быстро (`5.5 с`)\n",
    "- `Градиентный бустинг` показал `минимальную ошибку` (`1551`) среди всех моделей и премлемую скорость `обучения` (`328.8 c`) и скорость `предсказания` (`21.6 с`).\n",
    "- На тесте `Градиентный бустинг` показал `ошибку` (`1549,5`) и скорость `предсказания` (`5.6 с`). Минимальное расхождение в ошибке между валидационными и тестовыми данными говорит о том, что модель правильно обучена. Данная модель `рекомендуется` Заказчику."
   ]
  }
 ],
 "metadata": {
  "ExecuteTimeLog": [
   {
    "duration": 2496,
    "start_time": "2023-05-30T08:42:47.700Z"
   },
   {
    "duration": 3956,
    "start_time": "2023-05-30T08:42:50.199Z"
   },
   {
    "duration": 1799,
    "start_time": "2023-05-30T08:42:54.157Z"
   },
   {
    "duration": 2,
    "start_time": "2023-05-30T08:42:55.958Z"
   },
   {
    "duration": 3123,
    "start_time": "2023-05-30T08:42:55.962Z"
   },
   {
    "duration": 15,
    "start_time": "2023-05-30T08:42:59.086Z"
   },
   {
    "duration": 132,
    "start_time": "2023-05-30T08:42:59.102Z"
   },
   {
    "duration": 19,
    "start_time": "2023-05-30T08:42:59.236Z"
   },
   {
    "duration": 42,
    "start_time": "2023-05-30T08:42:59.257Z"
   },
   {
    "duration": 294,
    "start_time": "2023-05-30T08:42:59.302Z"
   },
   {
    "duration": 231,
    "start_time": "2023-05-30T08:42:59.599Z"
   },
   {
    "duration": 182,
    "start_time": "2023-05-30T08:42:59.832Z"
   },
   {
    "duration": 524,
    "start_time": "2023-05-30T08:43:00.016Z"
   },
   {
    "duration": 27,
    "start_time": "2023-05-30T08:43:00.541Z"
   },
   {
    "duration": 42,
    "start_time": "2023-05-30T08:43:00.570Z"
   },
   {
    "duration": 157,
    "start_time": "2023-05-30T08:43:00.614Z"
   },
   {
    "duration": 71,
    "start_time": "2023-05-30T08:43:00.773Z"
   },
   {
    "duration": 119,
    "start_time": "2023-05-30T08:43:00.846Z"
   },
   {
    "duration": 47,
    "start_time": "2023-05-30T08:43:00.966Z"
   },
   {
    "duration": 18,
    "start_time": "2023-05-30T08:43:01.014Z"
   },
   {
    "duration": 35,
    "start_time": "2023-05-30T08:43:01.034Z"
   },
   {
    "duration": 201,
    "start_time": "2023-05-30T08:43:01.071Z"
   },
   {
    "duration": 103,
    "start_time": "2023-05-30T08:43:01.274Z"
   },
   {
    "duration": 50,
    "start_time": "2023-05-30T08:43:01.378Z"
   },
   {
    "duration": 75,
    "start_time": "2023-05-30T08:43:01.430Z"
   },
   {
    "duration": 84,
    "start_time": "2023-05-30T08:43:01.507Z"
   },
   {
    "duration": 178,
    "start_time": "2023-05-30T08:43:01.593Z"
   },
   {
    "duration": 34,
    "start_time": "2023-05-30T08:43:01.775Z"
   },
   {
    "duration": 377322,
    "start_time": "2023-05-30T08:43:01.811Z"
   },
   {
    "duration": 3,
    "start_time": "2023-05-30T08:49:19.134Z"
   },
   {
    "duration": 11,
    "start_time": "2023-05-30T08:49:19.138Z"
   },
   {
    "duration": 31,
    "start_time": "2023-05-30T08:49:19.150Z"
   },
   {
    "duration": 14444,
    "start_time": "2023-05-30T08:49:19.183Z"
   },
   {
    "duration": 5,
    "start_time": "2023-05-30T08:49:33.630Z"
   },
   {
    "duration": 536880,
    "start_time": "2023-05-30T08:49:33.724Z"
   },
   {
    "duration": 4,
    "start_time": "2023-05-30T08:58:30.606Z"
   },
   {
    "duration": 8461,
    "start_time": "2023-05-30T08:58:30.612Z"
   },
   {
    "duration": 330,
    "start_time": "2023-05-30T08:58:39.126Z"
   },
   {
    "duration": 70,
    "start_time": "2023-05-30T08:58:39.457Z"
   }
  ],
  "kernelspec": {
   "display_name": "Python 3 (ipykernel)",
   "language": "python",
   "name": "python3"
  },
  "language_info": {
   "codemirror_mode": {
    "name": "ipython",
    "version": 3
   },
   "file_extension": ".py",
   "mimetype": "text/x-python",
   "name": "python",
   "nbconvert_exporter": "python",
   "pygments_lexer": "ipython3",
   "version": "3.9.15"
  },
  "toc": {
   "base_numbering": 1,
   "nav_menu": {},
   "number_sections": true,
   "sideBar": true,
   "skip_h1_title": true,
   "title_cell": "Table of Contents",
   "title_sidebar": "Contents",
   "toc_cell": false,
   "toc_position": {},
   "toc_section_display": true,
   "toc_window_display": false
  }
 },
 "nbformat": 4,
 "nbformat_minor": 2
}
