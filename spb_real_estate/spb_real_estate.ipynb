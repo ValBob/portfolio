{
 "cells": [
  {
   "cell_type": "markdown",
   "metadata": {},
   "source": [
    "# Исследование объявлений о продаже квартир\n",
    "\n",
    "В вашем распоряжении данные сервиса Яндекс.Недвижимость — архив объявлений о продаже квартир в Санкт-Петербурге и соседних населённых пунктов за несколько лет. Нужно научиться определять рыночную стоимость объектов недвижимости. Ваша задача — установить параметры. Это позволит построить автоматизированную систему: она отследит аномалии и мошенническую деятельность. \n",
    "\n",
    "По каждой квартире на продажу доступны два вида данных. Первые вписаны пользователем, вторые — получены автоматически на основе картографических данных. Например, расстояние до центра, аэропорта, ближайшего парка и водоёма. "
   ]
  },
  {
   "cell_type": "markdown",
   "metadata": {},
   "source": [
    "### Откройте файл с данными и изучите общую информацию. "
   ]
  },
  {
   "cell_type": "code",
   "execution_count": 1,
   "metadata": {},
   "outputs": [],
   "source": [
    "import pandas as pd\n",
    "import matplotlib.pyplot as plt"
   ]
  },
  {
   "cell_type": "code",
   "execution_count": 2,
   "metadata": {},
   "outputs": [
    {
     "data": {
      "text/html": [
       "<div>\n",
       "<style scoped>\n",
       "    .dataframe tbody tr th:only-of-type {\n",
       "        vertical-align: middle;\n",
       "    }\n",
       "\n",
       "    .dataframe tbody tr th {\n",
       "        vertical-align: top;\n",
       "    }\n",
       "\n",
       "    .dataframe thead th {\n",
       "        text-align: right;\n",
       "    }\n",
       "</style>\n",
       "<table border=\"1\" class=\"dataframe\">\n",
       "  <thead>\n",
       "    <tr style=\"text-align: right;\">\n",
       "      <th></th>\n",
       "      <th>total_images</th>\n",
       "      <th>last_price</th>\n",
       "      <th>total_area</th>\n",
       "      <th>first_day_exposition</th>\n",
       "      <th>rooms</th>\n",
       "      <th>ceiling_height</th>\n",
       "      <th>floors_total</th>\n",
       "      <th>living_area</th>\n",
       "      <th>floor</th>\n",
       "      <th>is_apartment</th>\n",
       "      <th>...</th>\n",
       "      <th>kitchen_area</th>\n",
       "      <th>balcony</th>\n",
       "      <th>locality_name</th>\n",
       "      <th>airports_nearest</th>\n",
       "      <th>cityCenters_nearest</th>\n",
       "      <th>parks_around3000</th>\n",
       "      <th>parks_nearest</th>\n",
       "      <th>ponds_around3000</th>\n",
       "      <th>ponds_nearest</th>\n",
       "      <th>days_exposition</th>\n",
       "    </tr>\n",
       "  </thead>\n",
       "  <tbody>\n",
       "    <tr>\n",
       "      <th>0</th>\n",
       "      <td>20</td>\n",
       "      <td>13000000.0</td>\n",
       "      <td>108.0</td>\n",
       "      <td>2019-03-07T00:00:00</td>\n",
       "      <td>3</td>\n",
       "      <td>2.70</td>\n",
       "      <td>16.0</td>\n",
       "      <td>51.0</td>\n",
       "      <td>8</td>\n",
       "      <td>NaN</td>\n",
       "      <td>...</td>\n",
       "      <td>25.0</td>\n",
       "      <td>NaN</td>\n",
       "      <td>Санкт-Петербург</td>\n",
       "      <td>18863.0</td>\n",
       "      <td>16028.0</td>\n",
       "      <td>1.0</td>\n",
       "      <td>482.0</td>\n",
       "      <td>2.0</td>\n",
       "      <td>755.0</td>\n",
       "      <td>NaN</td>\n",
       "    </tr>\n",
       "    <tr>\n",
       "      <th>1</th>\n",
       "      <td>7</td>\n",
       "      <td>3350000.0</td>\n",
       "      <td>40.4</td>\n",
       "      <td>2018-12-04T00:00:00</td>\n",
       "      <td>1</td>\n",
       "      <td>NaN</td>\n",
       "      <td>11.0</td>\n",
       "      <td>18.6</td>\n",
       "      <td>1</td>\n",
       "      <td>NaN</td>\n",
       "      <td>...</td>\n",
       "      <td>11.0</td>\n",
       "      <td>2.0</td>\n",
       "      <td>посёлок Шушары</td>\n",
       "      <td>12817.0</td>\n",
       "      <td>18603.0</td>\n",
       "      <td>0.0</td>\n",
       "      <td>NaN</td>\n",
       "      <td>0.0</td>\n",
       "      <td>NaN</td>\n",
       "      <td>81.0</td>\n",
       "    </tr>\n",
       "    <tr>\n",
       "      <th>2</th>\n",
       "      <td>10</td>\n",
       "      <td>5196000.0</td>\n",
       "      <td>56.0</td>\n",
       "      <td>2015-08-20T00:00:00</td>\n",
       "      <td>2</td>\n",
       "      <td>NaN</td>\n",
       "      <td>5.0</td>\n",
       "      <td>34.3</td>\n",
       "      <td>4</td>\n",
       "      <td>NaN</td>\n",
       "      <td>...</td>\n",
       "      <td>8.3</td>\n",
       "      <td>0.0</td>\n",
       "      <td>Санкт-Петербург</td>\n",
       "      <td>21741.0</td>\n",
       "      <td>13933.0</td>\n",
       "      <td>1.0</td>\n",
       "      <td>90.0</td>\n",
       "      <td>2.0</td>\n",
       "      <td>574.0</td>\n",
       "      <td>558.0</td>\n",
       "    </tr>\n",
       "    <tr>\n",
       "      <th>3</th>\n",
       "      <td>0</td>\n",
       "      <td>64900000.0</td>\n",
       "      <td>159.0</td>\n",
       "      <td>2015-07-24T00:00:00</td>\n",
       "      <td>3</td>\n",
       "      <td>NaN</td>\n",
       "      <td>14.0</td>\n",
       "      <td>NaN</td>\n",
       "      <td>9</td>\n",
       "      <td>NaN</td>\n",
       "      <td>...</td>\n",
       "      <td>NaN</td>\n",
       "      <td>0.0</td>\n",
       "      <td>Санкт-Петербург</td>\n",
       "      <td>28098.0</td>\n",
       "      <td>6800.0</td>\n",
       "      <td>2.0</td>\n",
       "      <td>84.0</td>\n",
       "      <td>3.0</td>\n",
       "      <td>234.0</td>\n",
       "      <td>424.0</td>\n",
       "    </tr>\n",
       "    <tr>\n",
       "      <th>4</th>\n",
       "      <td>2</td>\n",
       "      <td>10000000.0</td>\n",
       "      <td>100.0</td>\n",
       "      <td>2018-06-19T00:00:00</td>\n",
       "      <td>2</td>\n",
       "      <td>3.03</td>\n",
       "      <td>14.0</td>\n",
       "      <td>32.0</td>\n",
       "      <td>13</td>\n",
       "      <td>NaN</td>\n",
       "      <td>...</td>\n",
       "      <td>41.0</td>\n",
       "      <td>NaN</td>\n",
       "      <td>Санкт-Петербург</td>\n",
       "      <td>31856.0</td>\n",
       "      <td>8098.0</td>\n",
       "      <td>2.0</td>\n",
       "      <td>112.0</td>\n",
       "      <td>1.0</td>\n",
       "      <td>48.0</td>\n",
       "      <td>121.0</td>\n",
       "    </tr>\n",
       "  </tbody>\n",
       "</table>\n",
       "<p>5 rows × 22 columns</p>\n",
       "</div>"
      ],
      "text/plain": [
       "   total_images  last_price  total_area first_day_exposition  rooms  \\\n",
       "0            20  13000000.0       108.0  2019-03-07T00:00:00      3   \n",
       "1             7   3350000.0        40.4  2018-12-04T00:00:00      1   \n",
       "2            10   5196000.0        56.0  2015-08-20T00:00:00      2   \n",
       "3             0  64900000.0       159.0  2015-07-24T00:00:00      3   \n",
       "4             2  10000000.0       100.0  2018-06-19T00:00:00      2   \n",
       "\n",
       "   ceiling_height  floors_total  living_area  floor is_apartment  ...  \\\n",
       "0            2.70          16.0         51.0      8          NaN  ...   \n",
       "1             NaN          11.0         18.6      1          NaN  ...   \n",
       "2             NaN           5.0         34.3      4          NaN  ...   \n",
       "3             NaN          14.0          NaN      9          NaN  ...   \n",
       "4            3.03          14.0         32.0     13          NaN  ...   \n",
       "\n",
       "   kitchen_area  balcony    locality_name  airports_nearest  \\\n",
       "0          25.0      NaN  Санкт-Петербург           18863.0   \n",
       "1          11.0      2.0   посёлок Шушары           12817.0   \n",
       "2           8.3      0.0  Санкт-Петербург           21741.0   \n",
       "3           NaN      0.0  Санкт-Петербург           28098.0   \n",
       "4          41.0      NaN  Санкт-Петербург           31856.0   \n",
       "\n",
       "  cityCenters_nearest  parks_around3000  parks_nearest  ponds_around3000  \\\n",
       "0             16028.0               1.0          482.0               2.0   \n",
       "1             18603.0               0.0            NaN               0.0   \n",
       "2             13933.0               1.0           90.0               2.0   \n",
       "3              6800.0               2.0           84.0               3.0   \n",
       "4              8098.0               2.0          112.0               1.0   \n",
       "\n",
       "   ponds_nearest  days_exposition  \n",
       "0          755.0              NaN  \n",
       "1            NaN             81.0  \n",
       "2          574.0            558.0  \n",
       "3          234.0            424.0  \n",
       "4           48.0            121.0  \n",
       "\n",
       "[5 rows x 22 columns]"
      ]
     },
     "execution_count": 2,
     "metadata": {},
     "output_type": "execute_result"
    }
   ],
   "source": [
    "# создаем датафрейм из файла .csv\n",
    "data = pd.read_csv('/datasets/real_estate_data.csv', sep='\\t')\n",
    "# выведем первые строки\n",
    "data.head()"
   ]
  },
  {
   "cell_type": "code",
   "execution_count": 3,
   "metadata": {
    "scrolled": true
   },
   "outputs": [
    {
     "name": "stdout",
     "output_type": "stream",
     "text": [
      "<class 'pandas.core.frame.DataFrame'>\n",
      "RangeIndex: 23699 entries, 0 to 23698\n",
      "Data columns (total 22 columns):\n",
      " #   Column                Non-Null Count  Dtype  \n",
      "---  ------                --------------  -----  \n",
      " 0   total_images          23699 non-null  int64  \n",
      " 1   last_price            23699 non-null  float64\n",
      " 2   total_area            23699 non-null  float64\n",
      " 3   first_day_exposition  23699 non-null  object \n",
      " 4   rooms                 23699 non-null  int64  \n",
      " 5   ceiling_height        14504 non-null  float64\n",
      " 6   floors_total          23613 non-null  float64\n",
      " 7   living_area           21796 non-null  float64\n",
      " 8   floor                 23699 non-null  int64  \n",
      " 9   is_apartment          2775 non-null   object \n",
      " 10  studio                23699 non-null  bool   \n",
      " 11  open_plan             23699 non-null  bool   \n",
      " 12  kitchen_area          21421 non-null  float64\n",
      " 13  balcony               12180 non-null  float64\n",
      " 14  locality_name         23650 non-null  object \n",
      " 15  airports_nearest      18157 non-null  float64\n",
      " 16  cityCenters_nearest   18180 non-null  float64\n",
      " 17  parks_around3000      18181 non-null  float64\n",
      " 18  parks_nearest         8079 non-null   float64\n",
      " 19  ponds_around3000      18181 non-null  float64\n",
      " 20  ponds_nearest         9110 non-null   float64\n",
      " 21  days_exposition       20518 non-null  float64\n",
      "dtypes: bool(2), float64(14), int64(3), object(3)\n",
      "memory usage: 3.7+ MB\n"
     ]
    }
   ],
   "source": [
    "# посмотрим общую информацию по датафрейму\n",
    "data.info()"
   ]
  },
  {
   "cell_type": "markdown",
   "metadata": {},
   "source": [
    "**Выводы по общим сведениям о датафрейме:**\n",
    "- Содержит 23699 записей с 22 характеристиками по объектам недвижимости.\n",
    "- Дает полную информацию (по всем записям) о `последней цене`, `общей площади`, `дате объявления`, `количестве комнат`, `этаж`, отнесении к категории `\"студия\"` и`\"свободной планировке\"`, а также `количество фотографий`.\n",
    "- В данных по `остальным столбцам` имеются пропуски.\n",
    "- `Дата объявления` представлена в текстовой форме."
   ]
  },
  {
   "cell_type": "code",
   "execution_count": 4,
   "metadata": {},
   "outputs": [
    {
     "data": {
      "image/png": "[encoded data removed]",
      "text/plain": [
       "<Figure size 1080x1080 with 20 Axes>"
      ]
     },
     "metadata": {
      "needs_background": "light"
     },
     "output_type": "display_data"
    }
   ],
   "source": [
    "# создадим гистограммы по всем числовым признакам\n",
    "data.hist(figsize=(15, 15));"
   ]
  },
  {
   "cell_type": "markdown",
   "metadata": {},
   "source": [
    "**Выводы по анализу гистограмм:**\n",
    "- Часть гистограмм малоинформативны из-за влияния выбросов (`последняя цена`, `общая площадь`, `количество комнат`, `высота потолка`, `жилая площадь` и `площадь кухни`).\n",
    "- Наибольшее предложение объектов в зданиях с `общим количестом этажей` менее 10.\n",
    "- Несоответствие данных по `паркам` и `водоёмам`: большое количество объектов с отсутствие `парков и водоёмов в радиусе 3000м`, при этом `ближайший парк и водоём` находятся в большинстве случаем `ближе 1500м`.\n",
    "- `Количество балконов` в предложениях примерно равным образом распределено между значениями `0`, `1`, `2`.\n",
    "- Большинство объектов находятся `ближе 60 км от центра города`, и `ближе 80 км от аэропорта`."
   ]
  },
  {
   "cell_type": "code",
   "execution_count": 5,
   "metadata": {},
   "outputs": [
    {
     "data": {
      "text/html": [
       "<div>\n",
       "<style scoped>\n",
       "    .dataframe tbody tr th:only-of-type {\n",
       "        vertical-align: middle;\n",
       "    }\n",
       "\n",
       "    .dataframe tbody tr th {\n",
       "        vertical-align: top;\n",
       "    }\n",
       "\n",
       "    .dataframe thead th {\n",
       "        text-align: right;\n",
       "    }\n",
       "</style>\n",
       "<table border=\"1\" class=\"dataframe\">\n",
       "  <thead>\n",
       "    <tr style=\"text-align: right;\">\n",
       "      <th></th>\n",
       "      <th>total_images</th>\n",
       "      <th>last_price</th>\n",
       "      <th>total_area</th>\n",
       "      <th>rooms</th>\n",
       "      <th>ceiling_height</th>\n",
       "      <th>floors_total</th>\n",
       "      <th>living_area</th>\n",
       "      <th>floor</th>\n",
       "      <th>kitchen_area</th>\n",
       "      <th>balcony</th>\n",
       "      <th>airports_nearest</th>\n",
       "      <th>cityCenters_nearest</th>\n",
       "      <th>parks_around3000</th>\n",
       "      <th>parks_nearest</th>\n",
       "      <th>ponds_around3000</th>\n",
       "      <th>ponds_nearest</th>\n",
       "      <th>days_exposition</th>\n",
       "    </tr>\n",
       "  </thead>\n",
       "  <tbody>\n",
       "    <tr>\n",
       "      <th>count</th>\n",
       "      <td>23699.000000</td>\n",
       "      <td>2.369900e+04</td>\n",
       "      <td>23699.000000</td>\n",
       "      <td>23699.000000</td>\n",
       "      <td>14504.000000</td>\n",
       "      <td>23613.000000</td>\n",
       "      <td>21796.000000</td>\n",
       "      <td>23699.000000</td>\n",
       "      <td>21421.000000</td>\n",
       "      <td>12180.000000</td>\n",
       "      <td>18157.000000</td>\n",
       "      <td>18180.000000</td>\n",
       "      <td>18181.000000</td>\n",
       "      <td>8079.000000</td>\n",
       "      <td>18181.000000</td>\n",
       "      <td>9110.000000</td>\n",
       "      <td>20518.000000</td>\n",
       "    </tr>\n",
       "    <tr>\n",
       "      <th>mean</th>\n",
       "      <td>9.858475</td>\n",
       "      <td>6.541549e+06</td>\n",
       "      <td>60.348651</td>\n",
       "      <td>2.070636</td>\n",
       "      <td>2.771499</td>\n",
       "      <td>10.673824</td>\n",
       "      <td>34.457852</td>\n",
       "      <td>5.892358</td>\n",
       "      <td>10.569807</td>\n",
       "      <td>1.150082</td>\n",
       "      <td>28793.672193</td>\n",
       "      <td>14191.277833</td>\n",
       "      <td>0.611408</td>\n",
       "      <td>490.804555</td>\n",
       "      <td>0.770255</td>\n",
       "      <td>517.980900</td>\n",
       "      <td>180.888634</td>\n",
       "    </tr>\n",
       "    <tr>\n",
       "      <th>std</th>\n",
       "      <td>5.682529</td>\n",
       "      <td>1.088701e+07</td>\n",
       "      <td>35.654083</td>\n",
       "      <td>1.078405</td>\n",
       "      <td>1.261056</td>\n",
       "      <td>6.597173</td>\n",
       "      <td>22.030445</td>\n",
       "      <td>4.885249</td>\n",
       "      <td>5.905438</td>\n",
       "      <td>1.071300</td>\n",
       "      <td>12630.880622</td>\n",
       "      <td>8608.386210</td>\n",
       "      <td>0.802074</td>\n",
       "      <td>342.317995</td>\n",
       "      <td>0.938346</td>\n",
       "      <td>277.720643</td>\n",
       "      <td>219.727988</td>\n",
       "    </tr>\n",
       "    <tr>\n",
       "      <th>min</th>\n",
       "      <td>0.000000</td>\n",
       "      <td>1.219000e+04</td>\n",
       "      <td>12.000000</td>\n",
       "      <td>0.000000</td>\n",
       "      <td>1.000000</td>\n",
       "      <td>1.000000</td>\n",
       "      <td>2.000000</td>\n",
       "      <td>1.000000</td>\n",
       "      <td>1.300000</td>\n",
       "      <td>0.000000</td>\n",
       "      <td>0.000000</td>\n",
       "      <td>181.000000</td>\n",
       "      <td>0.000000</td>\n",
       "      <td>1.000000</td>\n",
       "      <td>0.000000</td>\n",
       "      <td>13.000000</td>\n",
       "      <td>1.000000</td>\n",
       "    </tr>\n",
       "    <tr>\n",
       "      <th>25%</th>\n",
       "      <td>6.000000</td>\n",
       "      <td>3.400000e+06</td>\n",
       "      <td>40.000000</td>\n",
       "      <td>1.000000</td>\n",
       "      <td>2.520000</td>\n",
       "      <td>5.000000</td>\n",
       "      <td>18.600000</td>\n",
       "      <td>2.000000</td>\n",
       "      <td>7.000000</td>\n",
       "      <td>0.000000</td>\n",
       "      <td>18585.000000</td>\n",
       "      <td>9238.000000</td>\n",
       "      <td>0.000000</td>\n",
       "      <td>288.000000</td>\n",
       "      <td>0.000000</td>\n",
       "      <td>294.000000</td>\n",
       "      <td>45.000000</td>\n",
       "    </tr>\n",
       "    <tr>\n",
       "      <th>50%</th>\n",
       "      <td>9.000000</td>\n",
       "      <td>4.650000e+06</td>\n",
       "      <td>52.000000</td>\n",
       "      <td>2.000000</td>\n",
       "      <td>2.650000</td>\n",
       "      <td>9.000000</td>\n",
       "      <td>30.000000</td>\n",
       "      <td>4.000000</td>\n",
       "      <td>9.100000</td>\n",
       "      <td>1.000000</td>\n",
       "      <td>26726.000000</td>\n",
       "      <td>13098.500000</td>\n",
       "      <td>0.000000</td>\n",
       "      <td>455.000000</td>\n",
       "      <td>1.000000</td>\n",
       "      <td>502.000000</td>\n",
       "      <td>95.000000</td>\n",
       "    </tr>\n",
       "    <tr>\n",
       "      <th>75%</th>\n",
       "      <td>14.000000</td>\n",
       "      <td>6.800000e+06</td>\n",
       "      <td>69.900000</td>\n",
       "      <td>3.000000</td>\n",
       "      <td>2.800000</td>\n",
       "      <td>16.000000</td>\n",
       "      <td>42.300000</td>\n",
       "      <td>8.000000</td>\n",
       "      <td>12.000000</td>\n",
       "      <td>2.000000</td>\n",
       "      <td>37273.000000</td>\n",
       "      <td>16293.000000</td>\n",
       "      <td>1.000000</td>\n",
       "      <td>612.000000</td>\n",
       "      <td>1.000000</td>\n",
       "      <td>729.000000</td>\n",
       "      <td>232.000000</td>\n",
       "    </tr>\n",
       "    <tr>\n",
       "      <th>max</th>\n",
       "      <td>50.000000</td>\n",
       "      <td>7.630000e+08</td>\n",
       "      <td>900.000000</td>\n",
       "      <td>19.000000</td>\n",
       "      <td>100.000000</td>\n",
       "      <td>60.000000</td>\n",
       "      <td>409.700000</td>\n",
       "      <td>33.000000</td>\n",
       "      <td>112.000000</td>\n",
       "      <td>5.000000</td>\n",
       "      <td>84869.000000</td>\n",
       "      <td>65968.000000</td>\n",
       "      <td>3.000000</td>\n",
       "      <td>3190.000000</td>\n",
       "      <td>3.000000</td>\n",
       "      <td>1344.000000</td>\n",
       "      <td>1580.000000</td>\n",
       "    </tr>\n",
       "  </tbody>\n",
       "</table>\n",
       "</div>"
      ],
      "text/plain": [
       "       total_images    last_price    total_area         rooms  ceiling_height  \\\n",
       "count  23699.000000  2.369900e+04  23699.000000  23699.000000    14504.000000   \n",
       "mean       9.858475  6.541549e+06     60.348651      2.070636        2.771499   \n",
       "std        5.682529  1.088701e+07     35.654083      1.078405        1.261056   \n",
       "min        0.000000  1.219000e+04     12.000000      0.000000        1.000000   \n",
       "25%        6.000000  3.400000e+06     40.000000      1.000000        2.520000   \n",
       "50%        9.000000  4.650000e+06     52.000000      2.000000        2.650000   \n",
       "75%       14.000000  6.800000e+06     69.900000      3.000000        2.800000   \n",
       "max       50.000000  7.630000e+08    900.000000     19.000000      100.000000   \n",
       "\n",
       "       floors_total   living_area         floor  kitchen_area       balcony  \\\n",
       "count  23613.000000  21796.000000  23699.000000  21421.000000  12180.000000   \n",
       "mean      10.673824     34.457852      5.892358     10.569807      1.150082   \n",
       "std        6.597173     22.030445      4.885249      5.905438      1.071300   \n",
       "min        1.000000      2.000000      1.000000      1.300000      0.000000   \n",
       "25%        5.000000     18.600000      2.000000      7.000000      0.000000   \n",
       "50%        9.000000     30.000000      4.000000      9.100000      1.000000   \n",
       "75%       16.000000     42.300000      8.000000     12.000000      2.000000   \n",
       "max       60.000000    409.700000     33.000000    112.000000      5.000000   \n",
       "\n",
       "       airports_nearest  cityCenters_nearest  parks_around3000  parks_nearest  \\\n",
       "count      18157.000000         18180.000000      18181.000000    8079.000000   \n",
       "mean       28793.672193         14191.277833          0.611408     490.804555   \n",
       "std        12630.880622          8608.386210          0.802074     342.317995   \n",
       "min            0.000000           181.000000          0.000000       1.000000   \n",
       "25%        18585.000000          9238.000000          0.000000     288.000000   \n",
       "50%        26726.000000         13098.500000          0.000000     455.000000   \n",
       "75%        37273.000000         16293.000000          1.000000     612.000000   \n",
       "max        84869.000000         65968.000000          3.000000    3190.000000   \n",
       "\n",
       "       ponds_around3000  ponds_nearest  days_exposition  \n",
       "count      18181.000000    9110.000000     20518.000000  \n",
       "mean           0.770255     517.980900       180.888634  \n",
       "std            0.938346     277.720643       219.727988  \n",
       "min            0.000000      13.000000         1.000000  \n",
       "25%            0.000000     294.000000        45.000000  \n",
       "50%            1.000000     502.000000        95.000000  \n",
       "75%            1.000000     729.000000       232.000000  \n",
       "max            3.000000    1344.000000      1580.000000  "
      ]
     },
     "execution_count": 5,
     "metadata": {},
     "output_type": "execute_result"
    }
   ],
   "source": [
    "# посмотрим описательные статистики по числовым признакам\n",
    "data.describe()"
   ]
  },
  {
   "cell_type": "markdown",
   "metadata": {},
   "source": [
    "**Выводы по анализу общих статистик:**\n",
    "- В минимальные и максимальные значения гарантировано попадают выбросы (стоимость на два порядка выше значения 3 квартиля) и аномальные значения (высота потолка 1 м и 100 м).\n",
    "- Большая разница между средним-арифметическим и медианным значением (период размещения объявления) говорит о характере распределения (распределение Пирсона)\n",
    "- Статистики позволяют узнать параметры распределения количественных признаков (минимальное,среднее и максимальное значения, медиану стандартное отклонение)."
   ]
  },
  {
   "cell_type": "markdown",
   "metadata": {},
   "source": [
    "### Предобработка данных"
   ]
  },
  {
   "cell_type": "markdown",
   "metadata": {},
   "source": [
    "#### Поиск и изучение пропущенных значений в стобцах"
   ]
  },
  {
   "cell_type": "code",
   "execution_count": 6,
   "metadata": {
    "scrolled": false
   },
   "outputs": [
    {
     "data": {
      "text/plain": [
       "ceiling_height          9195\n",
       "floors_total              86\n",
       "living_area             1903\n",
       "is_apartment           20924\n",
       "kitchen_area            2278\n",
       "balcony                11519\n",
       "locality_name             49\n",
       "airports_nearest        5542\n",
       "cityCenters_nearest     5519\n",
       "parks_around3000        5518\n",
       "parks_nearest          15620\n",
       "ponds_around3000        5518\n",
       "ponds_nearest          14589\n",
       "days_exposition         3181\n",
       "dtype: int64"
      ]
     },
     "execution_count": 6,
     "metadata": {},
     "output_type": "execute_result"
    }
   ],
   "source": [
    "# определим наименование столбцов с пропусками и количество пропущенных значений\n",
    "data.isna().sum()[data.isna().sum() > 0]"
   ]
  },
  {
   "cell_type": "markdown",
   "metadata": {},
   "source": [
    "**Предварительные выводы:**\n",
    "- Пространственные признаки (`удаленность от центра`, `аэропорта`, `парка` и `водоемов`) следует оставить неопределенными, так как нет возможности из имеющихся значений или значений других признаков.\n",
    "- `Количество этажей` в здании также следует `оставить без изменения`, так как невозможно востановить эти значения на основании других признаков.\n",
    "- `Высота потолка` в большинстве случаев стандартизирована (межквартильный размах составляет 0,28 м). Пропущенные значения следует заполнить `медианой`.\n",
    "- Наличие `балконов` и категория \"`аппартаменты\"` являются существенными характеристиками, и отсутствие информации по ним можно считать что их нет.\n",
    "- Возможно, `местоположение` не указано для самого Санкт-Петербурга. Необходимо проверить `удаленность от центра` по записям без указания `местоположения`.\n",
    "- Данные по `сроку публикации` объявления скорее всего генерируются самим сайтом. В таком случае отсутствие данных означает, что на момент формирования таблицы статус объявлений был \"действующие\". Стоит оставить эти пропуски без изменения.\n",
    "- Возможно, отсутствие значений о `жилой площади` и `площади кухни` связано с категорией `\"свободная планировка\"`. В таком случае пропуски можно заполнить 0, если такой связи нет - оставить пропуски \"как есть\"."
   ]
  },
  {
   "cell_type": "code",
   "execution_count": 7,
   "metadata": {},
   "outputs": [
    {
     "data": {
      "text/plain": [
       "0"
      ]
     },
     "execution_count": 7,
     "metadata": {},
     "output_type": "execute_result"
    }
   ],
   "source": [
    "# заполним отсутствующие значения высоты потолка медианой\n",
    "data['ceiling_height'].fillna(data['ceiling_height'].median(), inplace=True)\n",
    "# проверим, что отсутствующих значений больше нет\n",
    "data['ceiling_height'].isna().sum()"
   ]
  },
  {
   "cell_type": "code",
   "execution_count": 8,
   "metadata": {},
   "outputs": [
    {
     "data": {
      "text/plain": [
       "balcony         0\n",
       "is_apartment    0\n",
       "dtype: int64"
      ]
     },
     "execution_count": 8,
     "metadata": {},
     "output_type": "execute_result"
    }
   ],
   "source": [
    "# заменим пропуски по наличию балконов на 0, а на принадлежность к категории \"апартаменты\" на False\n",
    "data.fillna({'balcony': 0, 'is_apartment': False}, inplace=True)\n",
    "# проверим, что все получилось\n",
    "data[['balcony', 'is_apartment']].isna().sum()"
   ]
  },
  {
   "cell_type": "code",
   "execution_count": 9,
   "metadata": {},
   "outputs": [
    {
     "data": {
      "text/plain": [
       "8"
      ]
     },
     "execution_count": 9,
     "metadata": {},
     "output_type": "execute_result"
    }
   ],
   "source": [
    "# узнаем, сколько записей без указания местоположнения не имеют также данных по удаленности от центра\n",
    "data.query('locality_name.isna()')['cityCenters_nearest'].isna().sum()"
   ]
  },
  {
   "cell_type": "markdown",
   "metadata": {},
   "source": [
    "Только 8 из 49 записей без указания местопложения не имеют также данных по удаленности от центра.  \n",
    "  \n",
    "  \n",
    "Сравним статистики по удаленности от цунтра между записями по Санкт-Петербургу и с пропущенными данными"
   ]
  },
  {
   "cell_type": "code",
   "execution_count": 10,
   "metadata": {},
   "outputs": [
    {
     "data": {
      "image/png": "[encoded data removed]",
      "text/plain": [
       "<Figure size 432x288 with 1 Axes>"
      ]
     },
     "metadata": {
      "needs_background": "light"
     },
     "output_type": "display_data"
    }
   ],
   "source": [
    "# построим \"ящичные\" диаграммы, которые отражают основные статистики\n",
    "(data\n",
    ".fillna({'locality_name':'Не указано'})  # Для целей группировки заменим пропуски на \"Не указано\" \n",
    ".query('locality_name == \"Не указано\" or locality_name == \"Санкт-Петербург\"')  # Фильтруем нужное\n",
    ".boxplot(column='cityCenters_nearest', by='locality_name'));"
   ]
  },
  {
   "cell_type": "markdown",
   "metadata": {},
   "source": [
    "Медианное значение местоположения `\"Не указано\"` даже ближе к центру, чем явно указанное местоположение `\"Санкт-Петербург\"`. Следовательно можно заполнить пропуски значением `\"Санкт-Петербург\"`."
   ]
  },
  {
   "cell_type": "code",
   "execution_count": 11,
   "metadata": {},
   "outputs": [
    {
     "data": {
      "text/plain": [
       "0"
      ]
     },
     "execution_count": 11,
     "metadata": {},
     "output_type": "execute_result"
    }
   ],
   "source": [
    "# заменим пропуски по наличию балконов на 0, а на принадлежность к категории \"апартаменты\" на False\n",
    "data.fillna({'locality_name': 'Санкт-Петербург'}, inplace=True)\n",
    "# проверим, что все получилось\n",
    "data['locality_name'].isna().sum()"
   ]
  },
  {
   "cell_type": "code",
   "execution_count": 12,
   "metadata": {
    "scrolled": true
   },
   "outputs": [
    {
     "data": {
      "text/plain": [
       "67"
      ]
     },
     "execution_count": 12,
     "metadata": {},
     "output_type": "execute_result"
    }
   ],
   "source": [
    "# посчитаем в скольких объявлениях указана \"свобоная планировка\" \n",
    "data['open_plan'].sum()"
   ]
  },
  {
   "cell_type": "markdown",
   "metadata": {},
   "source": [
    "Количество объявлений с `\"свободной планировкой\" (67)` в сравнении с количеством объявлений `без указания жилой площади (1903)` и `без указания площади кухни (2278)` позволяет отказаться от предположении о связи между этими признаками. Оставляем `пропуски без изменения`."
   ]
  },
  {
   "cell_type": "markdown",
   "metadata": {},
   "source": [
    "**Выводы:**\n",
    "- Определены признаки, по которым возможно заполнить отсутствующие значения.\n",
    "- `Высота потолка` - пропущенные значения заполнены `медианой`.\n",
    "- Наличие `балконов` и категория \"`аппартаменты\"` - пропуски заполнены значением 0 и False соответственно.\n",
    "- `Местоположение` - после проверки `удаленности от центра` пропуски заполнены значением `Санкт-Петербург`.\n",
    "- Связь между отсутствием значений о `жилой площади`, `площади кухни` и категорией `\"свободная планировка\"`- не обрнаружена; пропуски оставлены \"как есть\"."
   ]
  },
  {
   "cell_type": "markdown",
   "metadata": {},
   "source": [
    "#### Изучение и преобразование при необходимости типов данных"
   ]
  },
  {
   "cell_type": "markdown",
   "metadata": {},
   "source": [
    "**Столбцы, которые требуют преобразования типа данных:**\n",
    "- Дата размещения (`first_day_exposition`) - необходимо преобразовать их текстового формата в `формат даты-времени` для проведения вычислений.\n",
    "- Количество балконов (`balcony`) - вещественное число `float` необходимо преобразовать в целочисленное значениу `int`."
   ]
  },
  {
   "cell_type": "code",
   "execution_count": 13,
   "metadata": {
    "scrolled": true
   },
   "outputs": [
    {
     "name": "stdout",
     "output_type": "stream",
     "text": [
      "<class 'pandas.core.frame.DataFrame'>\n",
      "RangeIndex: 23699 entries, 0 to 23698\n",
      "Data columns (total 2 columns):\n",
      " #   Column                Non-Null Count  Dtype         \n",
      "---  ------                --------------  -----         \n",
      " 0   first_day_exposition  23699 non-null  datetime64[ns]\n",
      " 1   balcony               23699 non-null  int8          \n",
      "dtypes: datetime64[ns](1), int8(1)\n",
      "memory usage: 208.4 KB\n"
     ]
    }
   ],
   "source": [
    "# преобразуем формат данных столбца с датой размещения объявления\n",
    "data['first_day_exposition'] = pd.to_datetime(data['first_day_exposition'], format='%Y-%m-%d')\n",
    "data.loc[:, 'balcony'] = data['balcony'].astype('int8')\n",
    "# проверим, что получилось\n",
    "data[['first_day_exposition', 'balcony']].info()"
   ]
  },
  {
   "cell_type": "markdown",
   "metadata": {},
   "source": [
    "#### Поиски и устранение неявных дубликатов в категорийных данных"
   ]
  },
  {
   "cell_type": "code",
   "execution_count": 14,
   "metadata": {
    "scrolled": true
   },
   "outputs": [
    {
     "data": {
      "text/plain": [
       "['Бокситогорск',\n",
       " 'Волосово',\n",
       " 'Волхов',\n",
       " 'Всеволожск',\n",
       " 'Выборг',\n",
       " 'Высоцк',\n",
       " 'Гатчина',\n",
       " 'Зеленогорск',\n",
       " 'Ивангород',\n",
       " 'Каменногорск',\n",
       " 'Кингисепп',\n",
       " 'Кириши',\n",
       " 'Кировск',\n",
       " 'Колпино',\n",
       " 'Коммунар',\n",
       " 'Красное Село',\n",
       " 'Кронштадт',\n",
       " 'Кудрово',\n",
       " 'Лодейное Поле',\n",
       " 'Ломоносов',\n",
       " 'Луга',\n",
       " 'Любань',\n",
       " 'Мурино',\n",
       " 'Никольское',\n",
       " 'Новая Ладога',\n",
       " 'Отрадное',\n",
       " 'Павловск',\n",
       " 'Петергоф',\n",
       " 'Пикалёво',\n",
       " 'Подпорожье',\n",
       " 'Приморск',\n",
       " 'Приозерск',\n",
       " 'Пушкин',\n",
       " 'Санкт-Петербург',\n",
       " 'Светогорск',\n",
       " 'Сертолово',\n",
       " 'Сестрорецк',\n",
       " 'Сланцы',\n",
       " 'Сосновый Бор',\n",
       " 'Сясьстрой',\n",
       " 'Тихвин',\n",
       " 'Тосно',\n",
       " 'Шлиссельбург',\n",
       " 'городской поселок Большая Ижора',\n",
       " 'городской поселок Янино-1',\n",
       " 'городской посёлок Будогощь',\n",
       " 'городской посёлок Виллози',\n",
       " 'городской посёлок Лесогорский',\n",
       " 'городской посёлок Мга',\n",
       " 'городской посёлок Назия',\n",
       " 'городской посёлок Новоселье',\n",
       " 'городской посёлок Павлово',\n",
       " 'городской посёлок Рощино',\n",
       " 'городской посёлок Свирьстрой',\n",
       " 'городской посёлок Советский',\n",
       " 'городской посёлок Фёдоровское',\n",
       " 'городской посёлок Янино-1',\n",
       " 'деревня Агалатово',\n",
       " 'деревня Аро',\n",
       " 'деревня Батово',\n",
       " 'деревня Бегуницы',\n",
       " 'деревня Белогорка',\n",
       " 'деревня Большая Вруда',\n",
       " 'деревня Большая Пустомержа',\n",
       " 'деревня Большие Колпаны',\n",
       " 'деревня Большое Рейзино',\n",
       " 'деревня Большой Сабск',\n",
       " 'деревня Бор',\n",
       " 'деревня Борисова Грива',\n",
       " 'деревня Ваганово',\n",
       " 'деревня Вартемяги',\n",
       " 'деревня Вахнова Кара',\n",
       " 'деревня Выскатка',\n",
       " 'деревня Гарболово',\n",
       " 'деревня Глинка',\n",
       " 'деревня Горбунки',\n",
       " 'деревня Гостилицы',\n",
       " 'деревня Заклинье',\n",
       " 'деревня Заневка',\n",
       " 'деревня Зимитицы',\n",
       " 'деревня Извара',\n",
       " 'деревня Иссад',\n",
       " 'деревня Калитино',\n",
       " 'деревня Кальтино',\n",
       " 'деревня Камышовка',\n",
       " 'деревня Каськово',\n",
       " 'деревня Келози',\n",
       " 'деревня Кипень',\n",
       " 'деревня Кисельня',\n",
       " 'деревня Колтуши',\n",
       " 'деревня Коркино',\n",
       " 'деревня Котлы',\n",
       " 'деревня Кривко',\n",
       " 'деревня Кудрово',\n",
       " 'деревня Кузьмолово',\n",
       " 'деревня Курковицы',\n",
       " 'деревня Куровицы',\n",
       " 'деревня Куттузи',\n",
       " 'деревня Лаврики',\n",
       " 'деревня Лаголово',\n",
       " 'деревня Лампово',\n",
       " 'деревня Лесколово',\n",
       " 'деревня Лопухинка',\n",
       " 'деревня Лупполово',\n",
       " 'деревня Малая Романовка',\n",
       " 'деревня Малое Верево',\n",
       " 'деревня Малое Карлино',\n",
       " 'деревня Малые Колпаны',\n",
       " 'деревня Мануйлово',\n",
       " 'деревня Меньково',\n",
       " 'деревня Мины',\n",
       " 'деревня Мистолово',\n",
       " 'деревня Ненимяки',\n",
       " 'деревня Нижние Осельки',\n",
       " 'деревня Нижняя',\n",
       " 'деревня Низино',\n",
       " 'деревня Новое Девяткино',\n",
       " 'деревня Новолисино',\n",
       " 'деревня Нурма',\n",
       " 'деревня Оржицы',\n",
       " 'деревня Парицы',\n",
       " 'деревня Пельгора',\n",
       " 'деревня Пеники',\n",
       " 'деревня Пижма',\n",
       " 'деревня Пикколово',\n",
       " 'деревня Пудомяги',\n",
       " 'деревня Пустынка',\n",
       " 'деревня Пчева',\n",
       " 'деревня Рабитицы',\n",
       " 'деревня Разбегаево',\n",
       " 'деревня Раздолье',\n",
       " 'деревня Разметелево',\n",
       " 'деревня Рапполово',\n",
       " 'деревня Реброво',\n",
       " 'деревня Русско',\n",
       " 'деревня Сижно',\n",
       " 'деревня Снегирёвка',\n",
       " 'деревня Старая',\n",
       " 'деревня Старая Пустошь',\n",
       " 'деревня Старое Хинколово',\n",
       " 'деревня Старополье',\n",
       " 'деревня Старосиверская',\n",
       " 'деревня Старые Бегуницы',\n",
       " 'деревня Суоранда',\n",
       " 'деревня Сяськелево',\n",
       " 'деревня Тарасово',\n",
       " 'деревня Терпилицы',\n",
       " 'деревня Тихковицы',\n",
       " 'деревня Тойворово',\n",
       " 'деревня Торосово',\n",
       " 'деревня Торошковичи',\n",
       " 'деревня Трубников Бор',\n",
       " 'деревня Фалилеево',\n",
       " 'деревня Фёдоровское',\n",
       " 'деревня Хапо-Ое',\n",
       " 'деревня Хязельки',\n",
       " 'деревня Чудской Бор',\n",
       " 'деревня Шпаньково',\n",
       " 'деревня Щеглово',\n",
       " 'деревня Юкки',\n",
       " 'деревня Ялгино',\n",
       " 'деревня Яльгелево',\n",
       " 'деревня Ям-Тесово',\n",
       " 'коттеджный поселок Кивеннапа Север',\n",
       " 'коттеджный поселок Счастье',\n",
       " 'коттеджный посёлок Лесное',\n",
       " 'поселок Аннино',\n",
       " 'поселок Барышево',\n",
       " 'поселок Бугры',\n",
       " 'поселок Возрождение',\n",
       " 'поселок Войсковицы',\n",
       " 'поселок Володарское',\n",
       " 'поселок Гаврилово',\n",
       " 'поселок Гарболово',\n",
       " 'поселок Гладкое',\n",
       " 'поселок Глажево',\n",
       " 'поселок Глебычево',\n",
       " 'поселок Гончарово',\n",
       " 'поселок Громово',\n",
       " 'поселок Дружноселье',\n",
       " 'поселок Елизаветино',\n",
       " 'поселок Жилгородок',\n",
       " 'поселок Жилпосёлок',\n",
       " 'поселок Житково',\n",
       " 'поселок Заводской',\n",
       " 'поселок Запорожское',\n",
       " 'поселок Зимитицы',\n",
       " 'поселок Ильичёво',\n",
       " 'поселок Калитино',\n",
       " 'поселок Каложицы',\n",
       " 'поселок Кингисеппский',\n",
       " 'поселок Кирпичное',\n",
       " 'поселок Кобралово',\n",
       " 'поселок Кобринское',\n",
       " 'поселок Коммунары',\n",
       " 'поселок Коробицыно',\n",
       " 'поселок Котельский',\n",
       " 'поселок Красная Долина',\n",
       " 'поселок Красносельское',\n",
       " 'поселок Лесное',\n",
       " 'поселок Лисий Нос',\n",
       " 'поселок Лукаши',\n",
       " 'поселок Любань',\n",
       " 'поселок Мельниково',\n",
       " 'поселок Мичуринское',\n",
       " 'поселок Молодцово',\n",
       " 'поселок Мурино',\n",
       " 'поселок Новый Свет',\n",
       " 'поселок Новый Учхоз',\n",
       " 'поселок Оредеж',\n",
       " 'поселок Пансионат Зелёный Бор',\n",
       " 'поселок Первомайское',\n",
       " 'поселок Перово',\n",
       " 'поселок Петровское',\n",
       " 'поселок Победа',\n",
       " 'поселок Поляны',\n",
       " 'поселок Почап',\n",
       " 'поселок Починок',\n",
       " 'поселок Пушное',\n",
       " 'поселок Пчевжа',\n",
       " 'поселок Рабитицы',\n",
       " 'поселок Романовка',\n",
       " 'поселок Ромашки',\n",
       " 'поселок Рябово',\n",
       " 'поселок Севастьяново',\n",
       " 'поселок Селезнёво',\n",
       " 'поселок Сельцо',\n",
       " 'поселок Семиозерье',\n",
       " 'поселок Семрино',\n",
       " 'поселок Серебрянский',\n",
       " 'поселок Совхозный',\n",
       " 'поселок Старая Малукса',\n",
       " 'поселок Стеклянный',\n",
       " 'поселок Сумино',\n",
       " 'поселок Суходолье',\n",
       " 'поселок Тельмана',\n",
       " 'поселок Терволово',\n",
       " 'поселок Торковичи',\n",
       " 'поселок Тёсово-4',\n",
       " 'поселок Углово',\n",
       " 'поселок Усть-Луга',\n",
       " 'поселок Ушаки',\n",
       " 'поселок Цвелодубово',\n",
       " 'поселок Цвылёво',\n",
       " 'поселок городского типа Большая Ижора',\n",
       " 'поселок городского типа Вырица',\n",
       " 'поселок городского типа Дружная Горка',\n",
       " 'поселок городского типа Дубровка',\n",
       " 'поселок городского типа Ефимовский',\n",
       " 'поселок городского типа Кондратьево',\n",
       " 'поселок городского типа Красный Бор',\n",
       " 'поселок городского типа Кузьмоловский',\n",
       " 'поселок городского типа Лебяжье',\n",
       " 'поселок городского типа Лесогорский',\n",
       " 'поселок городского типа Назия',\n",
       " 'поселок городского типа Никольский',\n",
       " 'поселок городского типа Приладожский',\n",
       " 'поселок городского типа Рахья',\n",
       " 'поселок городского типа Рощино',\n",
       " 'поселок городского типа Рябово',\n",
       " 'поселок городского типа Синявино',\n",
       " 'поселок городского типа Советский',\n",
       " 'поселок городского типа Токсово',\n",
       " 'поселок городского типа Форносово',\n",
       " 'поселок городского типа имени Свердлова',\n",
       " 'поселок станции Вещево',\n",
       " 'поселок станции Корнево',\n",
       " 'поселок станции Лужайка',\n",
       " 'поселок станции Приветнинское',\n",
       " 'посёлок Александровская',\n",
       " 'посёлок Алексеевка',\n",
       " 'посёлок Аннино',\n",
       " 'посёлок Белоостров',\n",
       " 'посёлок Бугры',\n",
       " 'посёлок Возрождение',\n",
       " 'посёлок Войскорово',\n",
       " 'посёлок Высокоключевой',\n",
       " 'посёлок Гаврилово',\n",
       " 'посёлок Дзержинского',\n",
       " 'посёлок Жилгородок',\n",
       " 'посёлок Ильичёво',\n",
       " 'посёлок Кикерино',\n",
       " 'посёлок Кобралово',\n",
       " 'посёлок Коробицыно',\n",
       " 'посёлок Левашово',\n",
       " 'посёлок Ленинское',\n",
       " 'посёлок Лисий Нос',\n",
       " 'посёлок Мельниково',\n",
       " 'посёлок Металлострой',\n",
       " 'посёлок Мичуринское',\n",
       " 'посёлок Молодёжное',\n",
       " 'посёлок Мурино',\n",
       " 'посёлок Мыза-Ивановка',\n",
       " 'посёлок Новогорелово',\n",
       " 'посёлок Новый Свет',\n",
       " 'посёлок Пансионат Зелёный Бор',\n",
       " 'посёлок Парголово',\n",
       " 'посёлок Перово',\n",
       " 'посёлок Песочный',\n",
       " 'посёлок Петро-Славянка',\n",
       " 'посёлок Петровское',\n",
       " 'посёлок Платформа 69-й километр',\n",
       " 'посёлок Плодовое',\n",
       " 'посёлок Плоское',\n",
       " 'посёлок Победа',\n",
       " 'посёлок Поляны',\n",
       " 'посёлок Понтонный',\n",
       " 'посёлок Пригородный',\n",
       " 'посёлок Пудость',\n",
       " 'посёлок Репино',\n",
       " 'посёлок Ропша',\n",
       " 'посёлок Сапёрное',\n",
       " 'посёлок Сапёрный',\n",
       " 'посёлок Сосново',\n",
       " 'посёлок Старая Малукса',\n",
       " 'посёлок Стеклянный',\n",
       " 'посёлок Стрельна',\n",
       " 'посёлок Суйда',\n",
       " 'посёлок Сумино',\n",
       " 'посёлок Тельмана',\n",
       " 'посёлок Терволово',\n",
       " 'посёлок Торфяное',\n",
       " 'посёлок Усть-Ижора',\n",
       " 'посёлок Усть-Луга',\n",
       " 'посёлок Форт Красная Горка',\n",
       " 'посёлок Шугозеро',\n",
       " 'посёлок Шушары',\n",
       " 'посёлок Щеглово',\n",
       " 'посёлок городского типа Важины',\n",
       " 'посёлок городского типа Вознесенье',\n",
       " 'посёлок городского типа Вырица',\n",
       " 'посёлок городского типа Красный Бор',\n",
       " 'посёлок городского типа Кузнечное',\n",
       " 'посёлок городского типа Кузьмоловский',\n",
       " 'посёлок городского типа Лебяжье',\n",
       " 'посёлок городского типа Мга',\n",
       " 'посёлок городского типа Павлово',\n",
       " 'посёлок городского типа Рощино',\n",
       " 'посёлок городского типа Рябово',\n",
       " 'посёлок городского типа Сиверский',\n",
       " 'посёлок городского типа Тайцы',\n",
       " 'посёлок городского типа Токсово',\n",
       " 'посёлок городского типа Ульяновка',\n",
       " 'посёлок городского типа Форносово',\n",
       " 'посёлок городского типа имени Морозова',\n",
       " 'посёлок городского типа имени Свердлова',\n",
       " 'посёлок при железнодорожной станции Вещево',\n",
       " 'посёлок при железнодорожной станции Приветнинское',\n",
       " 'посёлок станции Громово',\n",
       " 'посёлок станции Свирь',\n",
       " 'садоводческое некоммерческое товарищество Лесная Поляна',\n",
       " 'садовое товарищество Новая Ропша',\n",
       " 'садовое товарищество Приладожский',\n",
       " 'садовое товарищество Рахья',\n",
       " 'садовое товарищество Садко',\n",
       " 'село Копорье',\n",
       " 'село Никольское',\n",
       " 'село Павлово',\n",
       " 'село Паша',\n",
       " 'село Путилово',\n",
       " 'село Рождествено',\n",
       " 'село Русско-Высоцкое',\n",
       " 'село Старая Ладога',\n",
       " 'село Шум']"
      ]
     },
     "execution_count": 14,
     "metadata": {},
     "output_type": "execute_result"
    }
   ],
   "source": [
    "# посмотрим на уникальныe значения в столбце местоположение\n",
    "sorted(data['locality_name'].unique())"
   ]
  },
  {
   "cell_type": "markdown",
   "metadata": {},
   "source": [
    "**Особенности написания населенных пунктов:**\n",
    "- тип населенного пункта может указываться в начале местоположения,\n",
    "- все слова относящиеся к типу начинаются с маленькой буквы,\n",
    "- `собственное имя` населенного пункта или его части начинаются с `заглавной буквы`,\n",
    "- некоторые населенные пункты имеют `префикс \"имени\"`."
   ]
  },
  {
   "cell_type": "code",
   "execution_count": 15,
   "metadata": {},
   "outputs": [],
   "source": [
    "# используем регулярные выражения и метод .str.extract() для выделения собственного имени населенного пункта\n",
    "data['good_locality_name'] = data['locality_name'].str.extract(r'((имени )?([А-Я].*)+$)')[0]"
   ]
  },
  {
   "cell_type": "code",
   "execution_count": 16,
   "metadata": {
    "scrolled": true
   },
   "outputs": [
    {
     "name": "stdout",
     "output_type": "stream",
     "text": [
      "Количество первоначальных уникальных названий: 364\n",
      "Количество уникальных названий после устранения дубликатов: 305\n"
     ]
    },
    {
     "data": {
      "text/html": [
       "<div>\n",
       "<style scoped>\n",
       "    .dataframe tbody tr th:only-of-type {\n",
       "        vertical-align: middle;\n",
       "    }\n",
       "\n",
       "    .dataframe tbody tr th {\n",
       "        vertical-align: top;\n",
       "    }\n",
       "\n",
       "    .dataframe thead th {\n",
       "        text-align: right;\n",
       "    }\n",
       "</style>\n",
       "<table border=\"1\" class=\"dataframe\">\n",
       "  <thead>\n",
       "    <tr style=\"text-align: right;\">\n",
       "      <th></th>\n",
       "      <th></th>\n",
       "      <th>locality_name</th>\n",
       "    </tr>\n",
       "    <tr>\n",
       "      <th>good_locality_name</th>\n",
       "      <th>locality_name</th>\n",
       "      <th></th>\n",
       "    </tr>\n",
       "  </thead>\n",
       "  <tbody>\n",
       "    <tr>\n",
       "      <th>Агалатово</th>\n",
       "      <th>деревня Агалатово</th>\n",
       "      <td>4</td>\n",
       "    </tr>\n",
       "    <tr>\n",
       "      <th>Александровская</th>\n",
       "      <th>посёлок Александровская</th>\n",
       "      <td>2</td>\n",
       "    </tr>\n",
       "    <tr>\n",
       "      <th>Алексеевка</th>\n",
       "      <th>посёлок Алексеевка</th>\n",
       "      <td>1</td>\n",
       "    </tr>\n",
       "    <tr>\n",
       "      <th rowspan=\"2\" valign=\"top\">Аннино</th>\n",
       "      <th>поселок Аннино</th>\n",
       "      <td>5</td>\n",
       "    </tr>\n",
       "    <tr>\n",
       "      <th>посёлок Аннино</th>\n",
       "      <td>11</td>\n",
       "    </tr>\n",
       "    <tr>\n",
       "      <th>Аро</th>\n",
       "      <th>деревня Аро</th>\n",
       "      <td>3</td>\n",
       "    </tr>\n",
       "    <tr>\n",
       "      <th>Барышево</th>\n",
       "      <th>поселок Барышево</th>\n",
       "      <td>2</td>\n",
       "    </tr>\n",
       "    <tr>\n",
       "      <th>Батово</th>\n",
       "      <th>деревня Батово</th>\n",
       "      <td>9</td>\n",
       "    </tr>\n",
       "    <tr>\n",
       "      <th>Бегуницы</th>\n",
       "      <th>деревня Бегуницы</th>\n",
       "      <td>17</td>\n",
       "    </tr>\n",
       "    <tr>\n",
       "      <th>Белогорка</th>\n",
       "      <th>деревня Белогорка</th>\n",
       "      <td>11</td>\n",
       "    </tr>\n",
       "    <tr>\n",
       "      <th>Белоостров</th>\n",
       "      <th>посёлок Белоостров</th>\n",
       "      <td>1</td>\n",
       "    </tr>\n",
       "    <tr>\n",
       "      <th>Бокситогорск</th>\n",
       "      <th>Бокситогорск</th>\n",
       "      <td>16</td>\n",
       "    </tr>\n",
       "    <tr>\n",
       "      <th>Большая Вруда</th>\n",
       "      <th>деревня Большая Вруда</th>\n",
       "      <td>4</td>\n",
       "    </tr>\n",
       "    <tr>\n",
       "      <th rowspan=\"2\" valign=\"top\">Большая Ижора</th>\n",
       "      <th>городской поселок Большая Ижора</th>\n",
       "      <td>16</td>\n",
       "    </tr>\n",
       "    <tr>\n",
       "      <th>поселок городского типа Большая Ижора</th>\n",
       "      <td>1</td>\n",
       "    </tr>\n",
       "    <tr>\n",
       "      <th>Большая Пустомержа</th>\n",
       "      <th>деревня Большая Пустомержа</th>\n",
       "      <td>1</td>\n",
       "    </tr>\n",
       "    <tr>\n",
       "      <th>Большие Колпаны</th>\n",
       "      <th>деревня Большие Колпаны</th>\n",
       "      <td>16</td>\n",
       "    </tr>\n",
       "    <tr>\n",
       "      <th>Большое Рейзино</th>\n",
       "      <th>деревня Большое Рейзино</th>\n",
       "      <td>1</td>\n",
       "    </tr>\n",
       "    <tr>\n",
       "      <th>Большой Сабск</th>\n",
       "      <th>деревня Большой Сабск</th>\n",
       "      <td>1</td>\n",
       "    </tr>\n",
       "    <tr>\n",
       "      <th>Бор</th>\n",
       "      <th>деревня Бор</th>\n",
       "      <td>2</td>\n",
       "    </tr>\n",
       "  </tbody>\n",
       "</table>\n",
       "</div>"
      ],
      "text/plain": [
       "                                                          locality_name\n",
       "good_locality_name locality_name                                       \n",
       "Агалатово          деревня Агалатово                                  4\n",
       "Александровская    посёлок Александровская                            2\n",
       "Алексеевка         посёлок Алексеевка                                 1\n",
       "Аннино             поселок Аннино                                     5\n",
       "                   посёлок Аннино                                    11\n",
       "Аро                деревня Аро                                        3\n",
       "Барышево           поселок Барышево                                   2\n",
       "Батово             деревня Батово                                     9\n",
       "Бегуницы           деревня Бегуницы                                  17\n",
       "Белогорка          деревня Белогорка                                 11\n",
       "Белоостров         посёлок Белоостров                                 1\n",
       "Бокситогорск       Бокситогорск                                      16\n",
       "Большая Вруда      деревня Большая Вруда                              4\n",
       "Большая Ижора      городской поселок Большая Ижора                   16\n",
       "                   поселок городского типа Большая Ижора              1\n",
       "Большая Пустомержа деревня Большая Пустомержа                         1\n",
       "Большие Колпаны    деревня Большие Колпаны                           16\n",
       "Большое Рейзино    деревня Большое Рейзино                            1\n",
       "Большой Сабск      деревня Большой Сабск                              1\n",
       "Бор                деревня Бор                                        2"
      ]
     },
     "execution_count": 16,
     "metadata": {},
     "output_type": "execute_result"
    }
   ],
   "source": [
    "print(\"Количество первоначальных уникальных названий:\",\n",
    "      len(data['locality_name'].unique()))\n",
    "print(\"Количество уникальных названий после устранения дубликатов:\",\n",
    "      len(data['good_locality_name'].unique()))\n",
    "# проверим группировку старых названий в новые\n",
    "data.groupby(['good_locality_name', 'locality_name']).agg({'locality_name':'count'}).head(20)"
   ]
  },
  {
   "cell_type": "markdown",
   "metadata": {},
   "source": [
    "#### Поиск и устранение выбивающихся значений"
   ]
  },
  {
   "cell_type": "code",
   "execution_count": 17,
   "metadata": {},
   "outputs": [],
   "source": [
    "# в начале исследования необычное распределение обнаружено в следующих столбцах\n",
    "columns_to_explore = ['last_price', 'total_area', 'rooms',\n",
    "                      'ceiling_height', 'living_area', 'kitchen_area']"
   ]
  },
  {
   "cell_type": "code",
   "execution_count": 18,
   "metadata": {},
   "outputs": [],
   "source": [
    "def multi_boxplot(data: pd.DataFrame, columns: list) -> None:\n",
    "    \"\"\"Печатает коробочную диаграмму для каждого столбца в списке\"\"\"\n",
    "    cols = len(columns) // 2 + bool(len(columns) % 2)\n",
    "    fig, axes = plt.subplots(nrows=2, ncols=cols, figsize=(15, 15))\n",
    "\n",
    "    for nrow in range(2):\n",
    "        for ncol in range(cols):\n",
    "            # при одном столбце список меняет размерность\n",
    "            ax = axes[nrow] if cols == 1 else axes[nrow][ncol]\n",
    "            data.boxplot(column=columns[nrow*cols + ncol],\n",
    "                         ax=ax);"
   ]
  },
  {
   "cell_type": "code",
   "execution_count": 19,
   "metadata": {
    "scrolled": false
   },
   "outputs": [
    {
     "data": {
      "image/png": "[encoded data removed]",
      "text/plain": [
       "<Figure size 1080x1080 with 6 Axes>"
      ]
     },
     "metadata": {
      "needs_background": "light"
     },
     "output_type": "display_data"
    }
   ],
   "source": [
    "# с помощью коробчатой диаграммы посмотрим распределение значений в указанных столбцах\n",
    "multi_boxplot(data, columns_to_explore)"
   ]
  },
  {
   "cell_type": "code",
   "execution_count": 20,
   "metadata": {},
   "outputs": [],
   "source": [
    "# создадим функцию-фильтр для отделения \"нормальных\" значений от выбросов\n",
    "def drop_outliers(x: pd.Series, factor: float=1.5) -> pd.Series:\n",
    "    \"\"\"\n",
    "    Возращает маску для выбора значений без выбросов.\n",
    "    Фактор определяет количество межквартильных размахов,\n",
    "    откладываемых от первого и третьего квартилей.\n",
    "    \"\"\"\n",
    "    Q1 = x.quantile(.25)\n",
    "    Q3 = x.quantile(.75)\n",
    "    IQR = Q3 - Q1\n",
    "    lower = Q1 - factor * IQR\n",
    "    upper = Q3 + factor * IQR\n",
    "    return (lower <= x) & (x <= upper)"
   ]
  },
  {
   "cell_type": "code",
   "execution_count": 21,
   "metadata": {},
   "outputs": [],
   "source": [
    "# отфильтруем выбросы по цене квартиры\n",
    "cost_outliers_data = data[~drop_outliers(data['last_price'], 3)]  # поместим выбросы сюда\n",
    "good_data = data[drop_outliers(data['last_price'], 3)]"
   ]
  },
  {
   "cell_type": "code",
   "execution_count": 22,
   "metadata": {},
   "outputs": [
    {
     "data": {
      "image/png": "[encoded data removed]",
      "text/plain": [
       "<Figure size 1080x1080 with 6 Axes>"
      ]
     },
     "metadata": {
      "needs_background": "light"
     },
     "output_type": "display_data"
    }
   ],
   "source": [
    "# посмотрим, как изменилось распределение\n",
    "multi_boxplot(good_data, columns_to_explore)"
   ]
  },
  {
   "cell_type": "markdown",
   "metadata": {},
   "source": [
    "**Предварительные выводы:**\n",
    "- Одновременно с `ценой` более нормальный вид приобрели распределения `общей площади`, `жилой площади` и `количества комнат`.\n",
    "- В `высоте потолка` и `площади кухни` имеются аномальные значения."
   ]
  },
  {
   "cell_type": "code",
   "execution_count": 23,
   "metadata": {
    "scrolled": false
   },
   "outputs": [
    {
     "data": {
      "text/html": [
       "<div>\n",
       "<style scoped>\n",
       "    .dataframe tbody tr th:only-of-type {\n",
       "        vertical-align: middle;\n",
       "    }\n",
       "\n",
       "    .dataframe tbody tr th {\n",
       "        vertical-align: top;\n",
       "    }\n",
       "\n",
       "    .dataframe thead th {\n",
       "        text-align: right;\n",
       "    }\n",
       "</style>\n",
       "<table border=\"1\" class=\"dataframe\">\n",
       "  <thead>\n",
       "    <tr style=\"text-align: right;\">\n",
       "      <th></th>\n",
       "      <th>total_area</th>\n",
       "      <th>living_area</th>\n",
       "      <th>kitchen_area</th>\n",
       "    </tr>\n",
       "  </thead>\n",
       "  <tbody>\n",
       "    <tr>\n",
       "      <th>7239</th>\n",
       "      <td>90.0</td>\n",
       "      <td>76.4</td>\n",
       "      <td>43.4</td>\n",
       "    </tr>\n",
       "    <tr>\n",
       "      <th>21266</th>\n",
       "      <td>60.0</td>\n",
       "      <td>35.0</td>\n",
       "      <td>35.0</td>\n",
       "    </tr>\n",
       "    <tr>\n",
       "      <th>21915</th>\n",
       "      <td>91.4</td>\n",
       "      <td>62.0</td>\n",
       "      <td>32.4</td>\n",
       "    </tr>\n",
       "    <tr>\n",
       "      <th>11046</th>\n",
       "      <td>70.0</td>\n",
       "      <td>50.0</td>\n",
       "      <td>32.1</td>\n",
       "    </tr>\n",
       "    <tr>\n",
       "      <th>4366</th>\n",
       "      <td>47.7</td>\n",
       "      <td>39.8</td>\n",
       "      <td>28.2</td>\n",
       "    </tr>\n",
       "    <tr>\n",
       "      <th>...</th>\n",
       "      <td>...</td>\n",
       "      <td>...</td>\n",
       "      <td>...</td>\n",
       "    </tr>\n",
       "    <tr>\n",
       "      <th>184</th>\n",
       "      <td>30.2</td>\n",
       "      <td>26.1</td>\n",
       "      <td>6.2</td>\n",
       "    </tr>\n",
       "    <tr>\n",
       "      <th>7680</th>\n",
       "      <td>38.8</td>\n",
       "      <td>33.0</td>\n",
       "      <td>6.0</td>\n",
       "    </tr>\n",
       "    <tr>\n",
       "      <th>11150</th>\n",
       "      <td>42.3</td>\n",
       "      <td>37.7</td>\n",
       "      <td>5.4</td>\n",
       "    </tr>\n",
       "    <tr>\n",
       "      <th>10696</th>\n",
       "      <td>45.0</td>\n",
       "      <td>42.0</td>\n",
       "      <td>5.3</td>\n",
       "    </tr>\n",
       "    <tr>\n",
       "      <th>545</th>\n",
       "      <td>23.8</td>\n",
       "      <td>20.0</td>\n",
       "      <td>5.0</td>\n",
       "    </tr>\n",
       "  </tbody>\n",
       "</table>\n",
       "<p>64 rows × 3 columns</p>\n",
       "</div>"
      ],
      "text/plain": [
       "       total_area  living_area  kitchen_area\n",
       "7239         90.0         76.4          43.4\n",
       "21266        60.0         35.0          35.0\n",
       "21915        91.4         62.0          32.4\n",
       "11046        70.0         50.0          32.1\n",
       "4366         47.7         39.8          28.2\n",
       "...           ...          ...           ...\n",
       "184          30.2         26.1           6.2\n",
       "7680         38.8         33.0           6.0\n",
       "11150        42.3         37.7           5.4\n",
       "10696        45.0         42.0           5.3\n",
       "545          23.8         20.0           5.0\n",
       "\n",
       "[64 rows x 3 columns]"
      ]
     },
     "execution_count": 23,
     "metadata": {},
     "output_type": "execute_result"
    }
   ],
   "source": [
    "# выберем записи, у которых общая площадь меньше суммы площадей кухни и жилой\n",
    "wrong_kitchen_area =(good_data\n",
    " .query('total_area < living_area + kitchen_area')[['total_area', 'living_area', 'kitchen_area']]\n",
    " .sort_values('kitchen_area', ascending=False))\n",
    "wrong_kitchen_area"
   ]
  },
  {
   "cell_type": "code",
   "execution_count": 24,
   "metadata": {
    "scrolled": true
   },
   "outputs": [
    {
     "name": "stderr",
     "output_type": "stream",
     "text": [
      "/opt/conda/lib/python3.9/site-packages/pandas/core/indexing.py:1676: SettingWithCopyWarning: \n",
      "A value is trying to be set on a copy of a slice from a DataFrame.\n",
      "Try using .loc[row_indexer,col_indexer] = value instead\n",
      "\n",
      "See the caveats in the documentation: https://pandas.pydata.org/pandas-docs/stable/user_guide/indexing.html#returning-a-view-versus-a-copy\n",
      "  self._setitem_single_column(ilocs[0], value, pi)\n"
     ]
    }
   ],
   "source": [
    "# скорректируем значения площади кухни = общая площадь - жилая (где необходимо)\n",
    "good_data.loc[wrong_kitchen_area.index, 'kitchen_area'] = good_data.eval('total_area - living_area')"
   ]
  },
  {
   "cell_type": "markdown",
   "metadata": {},
   "source": [
    "Особенностями постройки квартир в `СанктПетербурге` до 1917 года были `высокие потолки`.  \n",
    "Ниже приведен источник, подтверждающий это.  \n",
    "  \n",
    "  \n",
    "***Екатерина Юхнёва. Глава 4. Размеры домов. Петербургские доходные дома***  \n",
    "Обычная высота потолков в квартирах достигала 3,5-4,2 метра, что почти совпадало с гигиеническими нормами, принятыми российскими гигиенистами во главе с проф. Ф.Ф. Эрисманом. В подвалах и мансардах высота — от 4 аршин (2,8 м). Самые низкие были антресольные помещения — от 3 аршин (2,1 м). `Самые высокие` — парадные помещения «барских» квартир — до 7,5 аршина (`5,3 м`)"
   ]
  },
  {
   "cell_type": "code",
   "execution_count": 25,
   "metadata": {
    "scrolled": false
   },
   "outputs": [
    {
     "data": {
      "text/plain": [
       "27.00     8\n",
       "25.00     7\n",
       "8.00      3\n",
       "32.00     2\n",
       "14.00     1\n",
       "20.00     1\n",
       "1.20      1\n",
       "8.30      1\n",
       "100.00    1\n",
       "5.80      1\n",
       "10.30     1\n",
       "22.60     1\n",
       "1.75      1\n",
       "26.00     1\n",
       "27.50     1\n",
       "24.00     1\n",
       "1.00      1\n",
       "Name: ceiling_height, dtype: int64"
      ]
     },
     "execution_count": 25,
     "metadata": {},
     "output_type": "execute_result"
    }
   ],
   "source": [
    "# посмотрим, как распределены выбивающиеся значения по высоте потолка\n",
    "good_data.query('not (1.9 < ceiling_height < 5.4)').ceiling_height.value_counts()"
   ]
  },
  {
   "cell_type": "markdown",
   "metadata": {},
   "source": [
    "**Аномалии по высоте потолка (33 случая):**\n",
    "- 24 случая (наиболее распространенная причина) увеличение высоты на порядок (в 10 раз)\n",
    "- 9 случаев - причина неясна\n",
    "- лучший выход - замена аномальных значений медианой"
   ]
  },
  {
   "cell_type": "code",
   "execution_count": 26,
   "metadata": {},
   "outputs": [
    {
     "name": "stderr",
     "output_type": "stream",
     "text": [
      "/tmp/ipykernel_90/2864524325.py:2: SettingWithCopyWarning: \n",
      "A value is trying to be set on a copy of a slice from a DataFrame.\n",
      "Try using .loc[row_indexer,col_indexer] = value instead\n",
      "\n",
      "See the caveats in the documentation: https://pandas.pydata.org/pandas-docs/stable/user_guide/indexing.html#returning-a-view-versus-a-copy\n",
      "  good_data['ceiling_height'] = (good_data['ceiling_height']\n"
     ]
    }
   ],
   "source": [
    "# заменим аномальную высоту потолка медианным значением\n",
    "good_data['ceiling_height'] = (good_data['ceiling_height']\n",
    "                               .where((1.9 < good_data['ceiling_height']) &\n",
    "                               (good_data['ceiling_height'] < 5.4),\n",
    "                               good_data.ceiling_height.median()))"
   ]
  },
  {
   "cell_type": "code",
   "execution_count": 27,
   "metadata": {},
   "outputs": [
    {
     "data": {
      "image/png": "[encoded data removed]",
      "text/plain": [
       "<Figure size 1080x1080 with 6 Axes>"
      ]
     },
     "metadata": {
      "needs_background": "light"
     },
     "output_type": "display_data"
    }
   ],
   "source": [
    "multi_boxplot(good_data, columns_to_explore)"
   ]
  },
  {
   "cell_type": "markdown",
   "metadata": {},
   "source": [
    "**Выводы:**\n",
    "- Удаление имеющихся выбросов по `последней цене` предложения привело к улучшению распределения значений по столбцам `общей` и `жилой площади`, `количеству комнат`.\n",
    "- Выявлена аномалия в некоторых записях, где `сумма жилой площади` и `площади кухни` `превышала общую площадь`. Аномальные значения были заменены на разницу от вычитания из общей площади жилой.\n",
    "- Выявлены аномальные значения `высоты потолка` и заменены медианой."
   ]
  },
  {
   "cell_type": "markdown",
   "metadata": {},
   "source": [
    "### Посчитайте и добавьте в таблицу новые столбцы"
   ]
  },
  {
   "cell_type": "code",
   "execution_count": 28,
   "metadata": {},
   "outputs": [
    {
     "name": "stderr",
     "output_type": "stream",
     "text": [
      "/opt/conda/lib/python3.9/site-packages/pandas/core/indexing.py:1597: SettingWithCopyWarning: \n",
      "A value is trying to be set on a copy of a slice from a DataFrame.\n",
      "Try using .loc[row_indexer,col_indexer] = value instead\n",
      "\n",
      "See the caveats in the documentation: https://pandas.pydata.org/pandas-docs/stable/user_guide/indexing.html#returning-a-view-versus-a-copy\n",
      "  self.obj[key] = value\n",
      "/opt/conda/lib/python3.9/site-packages/pandas/core/indexing.py:1676: SettingWithCopyWarning: \n",
      "A value is trying to be set on a copy of a slice from a DataFrame.\n",
      "Try using .loc[row_indexer,col_indexer] = value instead\n",
      "\n",
      "See the caveats in the documentation: https://pandas.pydata.org/pandas-docs/stable/user_guide/indexing.html#returning-a-view-versus-a-copy\n",
      "  self._setitem_single_column(ilocs[0], value, pi)\n"
     ]
    }
   ],
   "source": [
    "# цена квадратного метра\n",
    "good_data.loc[:, 'price_sqm'] = good_data.eval('last_price / total_area');"
   ]
  },
  {
   "cell_type": "code",
   "execution_count": 29,
   "metadata": {},
   "outputs": [],
   "source": [
    "# день недели размещения публикации\n",
    "good_data.loc[:, 'day_of_week_exposition'] = good_data['first_day_exposition'].dt.dayofweek;"
   ]
  },
  {
   "cell_type": "code",
   "execution_count": 30,
   "metadata": {},
   "outputs": [],
   "source": [
    "# месяц публикации объявления\n",
    "good_data.loc[:, 'month_exposition'] = good_data['first_day_exposition'].dt.month;"
   ]
  },
  {
   "cell_type": "code",
   "execution_count": 31,
   "metadata": {},
   "outputs": [],
   "source": [
    "# год публикации объявления\n",
    "good_data.loc[:, 'year_exposition'] = good_data['first_day_exposition'].dt.year;"
   ]
  },
  {
   "cell_type": "code",
   "execution_count": 32,
   "metadata": {},
   "outputs": [
    {
     "name": "stderr",
     "output_type": "stream",
     "text": [
      "/tmp/ipykernel_90/3766600495.py:13: SettingWithCopyWarning: \n",
      "A value is trying to be set on a copy of a slice from a DataFrame.\n",
      "Try using .loc[row_indexer,col_indexer] = value instead\n",
      "\n",
      "See the caveats in the documentation: https://pandas.pydata.org/pandas-docs/stable/user_guide/indexing.html#returning-a-view-versus-a-copy\n",
      "  good_data['floor_category'] = good_data.index.to_series().apply(floor_category)\n"
     ]
    }
   ],
   "source": [
    "# тип этажа квартиры\n",
    "def floor_category(i: int) -> str:\n",
    "    \"\"\"\n",
    "    Принимает индекс объекта DataFrame.\n",
    "    Возвращает категорию этажа.\n",
    "    \"\"\"\n",
    "    if good_data.loc[i, 'floor'] == 1:\n",
    "        return \"первый\"\n",
    "    if good_data.loc[i, 'floor'] == good_data.loc[i, 'floors_total']:\n",
    "        return \"последний\"\n",
    "    return \"другой\"\n",
    "\n",
    "good_data['floor_category'] = good_data.index.to_series().apply(floor_category)"
   ]
  },
  {
   "cell_type": "code",
   "execution_count": 33,
   "metadata": {},
   "outputs": [
    {
     "name": "stderr",
     "output_type": "stream",
     "text": [
      "/tmp/ipykernel_90/3518377106.py:2: SettingWithCopyWarning: \n",
      "A value is trying to be set on a copy of a slice from a DataFrame.\n",
      "Try using .loc[row_indexer,col_indexer] = value instead\n",
      "\n",
      "See the caveats in the documentation: https://pandas.pydata.org/pandas-docs/stable/user_guide/indexing.html#returning-a-view-versus-a-copy\n",
      "  good_data['cityCenters_km'] = good_data.eval('cityCenters_nearest.truediv(1000).round()')\n"
     ]
    }
   ],
   "source": [
    "# расстояние до центра в километрах\n",
    "good_data['cityCenters_km'] = good_data.eval('cityCenters_nearest.truediv(1000).round()')"
   ]
  },
  {
   "cell_type": "code",
   "execution_count": 34,
   "metadata": {},
   "outputs": [
    {
     "data": {
      "text/html": [
       "<div>\n",
       "<style scoped>\n",
       "    .dataframe tbody tr th:only-of-type {\n",
       "        vertical-align: middle;\n",
       "    }\n",
       "\n",
       "    .dataframe tbody tr th {\n",
       "        vertical-align: top;\n",
       "    }\n",
       "\n",
       "    .dataframe thead th {\n",
       "        text-align: right;\n",
       "    }\n",
       "</style>\n",
       "<table border=\"1\" class=\"dataframe\">\n",
       "  <thead>\n",
       "    <tr style=\"text-align: right;\">\n",
       "      <th></th>\n",
       "      <th>total_images</th>\n",
       "      <th>last_price</th>\n",
       "      <th>total_area</th>\n",
       "      <th>first_day_exposition</th>\n",
       "      <th>rooms</th>\n",
       "      <th>ceiling_height</th>\n",
       "      <th>floors_total</th>\n",
       "      <th>living_area</th>\n",
       "      <th>floor</th>\n",
       "      <th>is_apartment</th>\n",
       "      <th>...</th>\n",
       "      <th>ponds_around3000</th>\n",
       "      <th>ponds_nearest</th>\n",
       "      <th>days_exposition</th>\n",
       "      <th>good_locality_name</th>\n",
       "      <th>price_sqm</th>\n",
       "      <th>day_of_week_exposition</th>\n",
       "      <th>month_exposition</th>\n",
       "      <th>year_exposition</th>\n",
       "      <th>floor_category</th>\n",
       "      <th>cityCenters_km</th>\n",
       "    </tr>\n",
       "  </thead>\n",
       "  <tbody>\n",
       "    <tr>\n",
       "      <th>0</th>\n",
       "      <td>20</td>\n",
       "      <td>13000000.0</td>\n",
       "      <td>108.0</td>\n",
       "      <td>2019-03-07</td>\n",
       "      <td>3</td>\n",
       "      <td>2.70</td>\n",
       "      <td>16.0</td>\n",
       "      <td>51.0</td>\n",
       "      <td>8</td>\n",
       "      <td>False</td>\n",
       "      <td>...</td>\n",
       "      <td>2.0</td>\n",
       "      <td>755.0</td>\n",
       "      <td>NaN</td>\n",
       "      <td>Санкт-Петербург</td>\n",
       "      <td>120370.370370</td>\n",
       "      <td>3</td>\n",
       "      <td>3</td>\n",
       "      <td>2019</td>\n",
       "      <td>другой</td>\n",
       "      <td>16.0</td>\n",
       "    </tr>\n",
       "    <tr>\n",
       "      <th>1</th>\n",
       "      <td>7</td>\n",
       "      <td>3350000.0</td>\n",
       "      <td>40.4</td>\n",
       "      <td>2018-12-04</td>\n",
       "      <td>1</td>\n",
       "      <td>2.65</td>\n",
       "      <td>11.0</td>\n",
       "      <td>18.6</td>\n",
       "      <td>1</td>\n",
       "      <td>False</td>\n",
       "      <td>...</td>\n",
       "      <td>0.0</td>\n",
       "      <td>NaN</td>\n",
       "      <td>81.0</td>\n",
       "      <td>Шушары</td>\n",
       "      <td>82920.792079</td>\n",
       "      <td>1</td>\n",
       "      <td>12</td>\n",
       "      <td>2018</td>\n",
       "      <td>первый</td>\n",
       "      <td>19.0</td>\n",
       "    </tr>\n",
       "    <tr>\n",
       "      <th>2</th>\n",
       "      <td>10</td>\n",
       "      <td>5196000.0</td>\n",
       "      <td>56.0</td>\n",
       "      <td>2015-08-20</td>\n",
       "      <td>2</td>\n",
       "      <td>2.65</td>\n",
       "      <td>5.0</td>\n",
       "      <td>34.3</td>\n",
       "      <td>4</td>\n",
       "      <td>False</td>\n",
       "      <td>...</td>\n",
       "      <td>2.0</td>\n",
       "      <td>574.0</td>\n",
       "      <td>558.0</td>\n",
       "      <td>Санкт-Петербург</td>\n",
       "      <td>92785.714286</td>\n",
       "      <td>3</td>\n",
       "      <td>8</td>\n",
       "      <td>2015</td>\n",
       "      <td>другой</td>\n",
       "      <td>14.0</td>\n",
       "    </tr>\n",
       "    <tr>\n",
       "      <th>4</th>\n",
       "      <td>2</td>\n",
       "      <td>10000000.0</td>\n",
       "      <td>100.0</td>\n",
       "      <td>2018-06-19</td>\n",
       "      <td>2</td>\n",
       "      <td>3.03</td>\n",
       "      <td>14.0</td>\n",
       "      <td>32.0</td>\n",
       "      <td>13</td>\n",
       "      <td>False</td>\n",
       "      <td>...</td>\n",
       "      <td>1.0</td>\n",
       "      <td>48.0</td>\n",
       "      <td>121.0</td>\n",
       "      <td>Санкт-Петербург</td>\n",
       "      <td>100000.000000</td>\n",
       "      <td>1</td>\n",
       "      <td>6</td>\n",
       "      <td>2018</td>\n",
       "      <td>другой</td>\n",
       "      <td>8.0</td>\n",
       "    </tr>\n",
       "    <tr>\n",
       "      <th>5</th>\n",
       "      <td>10</td>\n",
       "      <td>2890000.0</td>\n",
       "      <td>30.4</td>\n",
       "      <td>2018-09-10</td>\n",
       "      <td>1</td>\n",
       "      <td>2.65</td>\n",
       "      <td>12.0</td>\n",
       "      <td>14.4</td>\n",
       "      <td>5</td>\n",
       "      <td>False</td>\n",
       "      <td>...</td>\n",
       "      <td>NaN</td>\n",
       "      <td>NaN</td>\n",
       "      <td>55.0</td>\n",
       "      <td>Янино-1</td>\n",
       "      <td>95065.789474</td>\n",
       "      <td>0</td>\n",
       "      <td>9</td>\n",
       "      <td>2018</td>\n",
       "      <td>другой</td>\n",
       "      <td>NaN</td>\n",
       "    </tr>\n",
       "  </tbody>\n",
       "</table>\n",
       "<p>5 rows × 29 columns</p>\n",
       "</div>"
      ],
      "text/plain": [
       "   total_images  last_price  total_area first_day_exposition  rooms  \\\n",
       "0            20  13000000.0       108.0           2019-03-07      3   \n",
       "1             7   3350000.0        40.4           2018-12-04      1   \n",
       "2            10   5196000.0        56.0           2015-08-20      2   \n",
       "4             2  10000000.0       100.0           2018-06-19      2   \n",
       "5            10   2890000.0        30.4           2018-09-10      1   \n",
       "\n",
       "   ceiling_height  floors_total  living_area  floor  is_apartment  ...  \\\n",
       "0            2.70          16.0         51.0      8         False  ...   \n",
       "1            2.65          11.0         18.6      1         False  ...   \n",
       "2            2.65           5.0         34.3      4         False  ...   \n",
       "4            3.03          14.0         32.0     13         False  ...   \n",
       "5            2.65          12.0         14.4      5         False  ...   \n",
       "\n",
       "   ponds_around3000  ponds_nearest  days_exposition  good_locality_name  \\\n",
       "0               2.0          755.0              NaN     Санкт-Петербург   \n",
       "1               0.0            NaN             81.0              Шушары   \n",
       "2               2.0          574.0            558.0     Санкт-Петербург   \n",
       "4               1.0           48.0            121.0     Санкт-Петербург   \n",
       "5               NaN            NaN             55.0             Янино-1   \n",
       "\n",
       "       price_sqm  day_of_week_exposition  month_exposition  year_exposition  \\\n",
       "0  120370.370370                       3                 3             2019   \n",
       "1   82920.792079                       1                12             2018   \n",
       "2   92785.714286                       3                 8             2015   \n",
       "4  100000.000000                       1                 6             2018   \n",
       "5   95065.789474                       0                 9             2018   \n",
       "\n",
       "   floor_category  cityCenters_km  \n",
       "0          другой            16.0  \n",
       "1          первый            19.0  \n",
       "2          другой            14.0  \n",
       "4          другой             8.0  \n",
       "5          другой             NaN  \n",
       "\n",
       "[5 rows x 29 columns]"
      ]
     },
     "execution_count": 34,
     "metadata": {},
     "output_type": "execute_result"
    }
   ],
   "source": [
    "# посмотрим, что получилось\n",
    "good_data.head()"
   ]
  },
  {
   "cell_type": "markdown",
   "metadata": {},
   "source": [
    "### Проведите исследовательский анализ данных"
   ]
  },
  {
   "cell_type": "markdown",
   "metadata": {},
   "source": [
    "#### Изучение характеристик объектов"
   ]
  },
  {
   "cell_type": "code",
   "execution_count": 35,
   "metadata": {
    "scrolled": false
   },
   "outputs": [
    {
     "data": {
      "image/png": "[encoded data removed]",
      "text/plain": [
       "<Figure size 1080x1080 with 15 Axes>"
      ]
     },
     "metadata": {
      "needs_background": "light"
     },
     "output_type": "display_data"
    }
   ],
   "source": [
    "# создадим гистограммы для заданных признаков\n",
    "# для каждого признака укажем количество рангов и диапазон\n",
    "hist_config = {\n",
    "    'total_area': {'bins': 20, 'range':(0, 210)},\n",
    "    'living_area': {'bins': 15, 'range':(0, 160)},\n",
    "    'kitchen_area': {'bins': 20, 'range':(0, 52.5)},\n",
    "    'last_price': {'bins': 20, 'range':(0, 21000000)},\n",
    "    'rooms': {'bins': 8, 'range':(1, 9)},\n",
    "    'ceiling_height': {'bins': 7, 'range':(2, 6.0)},\n",
    "    'floor': {'bins': 30, 'range':(1, 31)},\n",
    "    'floor_category': {'bins': 3, 'range':(0, 2)},\n",
    "    'floors_total': {'bins': 30, 'range':(1, 31)},\n",
    "    'cityCenters_nearest': {'bins': 12, 'range':(0, 65000)},\n",
    "    'airports_nearest': {'bins': 16 , 'range':(0, 85000)},\n",
    "    'parks_nearest': {'bins': 6, 'range':(0, 3500)},\n",
    "    'day_of_week_exposition': {'bins': 7, 'range':(0, 7)},\n",
    "    'month_exposition': {'bins': 12, 'range':(1, 13)}\n",
    "}\n",
    "\n",
    "fig, axes = plt.subplots(nrows=5, ncols=3, figsize=(15, 15))\n",
    "\n",
    "nrow, ncol = 0, 0\n",
    "for hist in hist_config:\n",
    "    good_data[hist].hist(ax=axes[nrow][ncol], bins=hist_config[hist]['bins'],\n",
    "                         range=hist_config[hist]['range'], legend=True)\n",
    "    # изменяет номер столбца: 0 - 1 - 2 - 0\n",
    "    ncol += 1 if ncol < 2 else -2\n",
    "    # увеличивает номер строки на 1, если номер столбца становится 0\n",
    "    nrow +=1 if ncol == 0 else 0\n"
   ]
  },
  {
   "cell_type": "markdown",
   "metadata": {},
   "source": [
    "**Выводы по исследованию характеристик объектов:**\n",
    "- `Общая площадь` - характер распределения квартир ассиметричный, наибольшая частота предложения приходится на квартиры менее 50 квадратных метров. Предложение на квартиры большей площади (справа) характеризуется более пологим склоном к отметке в 150 квадратных метров.\n",
    "- `Жилая площадь` - очень ассиметричное распределение со сдвигом влево с максимальной частотой предложения 10-20 квадратных метров. Предложение на большую жилую площадьь (справа) характеризуется более пологим склоном к отметке 100 квадратных метров.\n",
    "- `Площадь кухни` - наибольшими частотами предложения чвляются квартиры с площадью кухни (по мере убывания частоты): 9, 6 и 12 квадратных метров.\n",
    "- `Цена объекта` - график распределения цены на объекты полностью повторяет график распределения общей площади квартир. Наибольшее предложение отмечается в диапазоне 3 - 4 млн. рублей.\n",
    "- `Количество комнат` - преобладает предложение 1-2х комнатных квартир (примерно поровну), несколько ниже предложение 3-х комнатных квартир. Квартиры с большим количеством комнат занимют значительно меньшую долю от предложения.\n",
    "- `Высота потолков` - преобладающее значение находится в диапазоне 2.5 - 3 метров. Имеется незначительное количество квартир в домах старой постройки с потолками до 4.5 метров.\n",
    "- `Этаж квартиры` - наибольшее количество предлагаемых квартир располагаются на 1-5 этажах (максимальное прдложение соответствует 2-му этажу). Само распределение квартир по этажу \"ступенчатое\", что наиболее вероятно связано с особенностями этажности застроойки.\n",
    "- `Тип этажа квартиры` - наибольше предложение квартир, которы располагаются не на первом или последнем этажах.\n",
    "- `Общее количество этажей в доме` - распределение характеризуется несколькими локальными максимумами: 5, 9, 12, 16, 25 этажей, которые соответствуют наиболее часто встречаемыми домам типовой застройки.\n",
    "- `Расстояние до центра города` в метрах - наибольшее количество предлагаемых квартир расположено не далее 15 км от центра (максимум распределения- 10-15 км).\n",
    "- `Расстояние до ближайшего аэропорта` - наибольшее количество предлагаемых квартир находится на расстоянии от 10 до 50 км от аэропорта. Распределение в этом диапазоне примерно равномерное.\n",
    "- `Расстояние до ближайшего парка` - в большинстве случаев парк находится не далее 500 м, почти всегда не далее 1000 м от предлагаемых квартир.\n",
    "- `День публикации объявления` - наиболее часто объявления размещаются в буднии дни (равномерно с понедельника по пятницу). В выходные дни количество объявлений снижается примеро вдвое по сравнению с будними днями.\n",
    "- `Месяц публикации` - наибольшее количество объявлений размещаются с февраля по апрель, с мая по август отмечается некоторый спад, а с сентября по ноябрь снова подъем. Наименьшее количество объявлений отмечается в декабре, январе и мае."
   ]
  },
  {
   "cell_type": "markdown",
   "metadata": {},
   "source": [
    "#### Изучение длительности продажи квартиры"
   ]
  },
  {
   "cell_type": "code",
   "execution_count": 36,
   "metadata": {
    "scrolled": true
   },
   "outputs": [
    {
     "data": {
      "text/plain": [
       "<AxesSubplot:>"
      ]
     },
     "execution_count": 36,
     "metadata": {},
     "output_type": "execute_result"
    },
    {
     "data": {
      "image/png": "[encoded data removed]",
      "text/plain": [
       "<Figure size 432x288 with 1 Axes>"
      ]
     },
     "metadata": {
      "needs_background": "light"
     },
     "output_type": "display_data"
    }
   ],
   "source": [
    "good_data['days_exposition'].hist(bins=50, range=(0, 1000))"
   ]
  },
  {
   "cell_type": "code",
   "execution_count": 37,
   "metadata": {
    "scrolled": true
   },
   "outputs": [
    {
     "data": {
      "text/plain": [
       "count    19846.000000\n",
       "mean       177.223017\n",
       "std        216.065942\n",
       "min          1.000000\n",
       "25%         44.000000\n",
       "50%         93.000000\n",
       "75%        226.000000\n",
       "max       1580.000000\n",
       "Name: days_exposition, dtype: float64"
      ]
     },
     "execution_count": 37,
     "metadata": {},
     "output_type": "execute_result"
    }
   ],
   "source": [
    "# из описательных статистик наибольший интерес представляют\n",
    "# среднее значение, медиана, 1-й и 3-й квартили\n",
    "good_data['days_exposition'].describe()"
   ]
  },
  {
   "cell_type": "markdown",
   "metadata": {},
   "source": [
    "**Выводы по длительности продажи квартир:**\n",
    "- Распределение по длительности продажи квартир по форме напоминает `распределение Пуассона`.\n",
    "- `Медианное значение` (продаются не менее 50 % квартир) - `93 дня`.\n",
    "- `Среднее значение` - `177 дней`.\n",
    "- Продажи занимающие `менее 44 дня` (1-й квартиль) можно считать `быстрыми`.\n",
    "- Продажи занимающие `более 226 дней` (3-й квартиль) можно считать `медленными`."
   ]
  },
  {
   "cell_type": "markdown",
   "metadata": {},
   "source": [
    "#### Изучение факторов, влияющих на стоимость объекта"
   ]
  },
  {
   "cell_type": "code",
   "execution_count": 38,
   "metadata": {},
   "outputs": [],
   "source": [
    "# факторы, указанные в задании\n",
    "factors = ['last_price', 'total_area', 'living_area', 'kitchen_area', 'rooms', 'floor_category',\n",
    "           'day_of_week_exposition', 'month_exposition', 'year_exposition']"
   ]
  },
  {
   "cell_type": "code",
   "execution_count": 39,
   "metadata": {},
   "outputs": [],
   "source": [
    "# словарь замены категориальных значений ранговыми\n",
    "cat_to_rank = {\"первый\": 0, \"последний\": 1, \"другой\": 2}"
   ]
  },
  {
   "cell_type": "code",
   "execution_count": 40,
   "metadata": {},
   "outputs": [
    {
     "data": {
      "text/html": [
       "<div>\n",
       "<style scoped>\n",
       "    .dataframe tbody tr th:only-of-type {\n",
       "        vertical-align: middle;\n",
       "    }\n",
       "\n",
       "    .dataframe tbody tr th {\n",
       "        vertical-align: top;\n",
       "    }\n",
       "\n",
       "    .dataframe thead th {\n",
       "        text-align: right;\n",
       "    }\n",
       "</style>\n",
       "<table border=\"1\" class=\"dataframe\">\n",
       "  <thead>\n",
       "    <tr style=\"text-align: right;\">\n",
       "      <th></th>\n",
       "      <th>last_price</th>\n",
       "      <th>total_area</th>\n",
       "      <th>living_area</th>\n",
       "      <th>kitchen_area</th>\n",
       "      <th>rooms</th>\n",
       "      <th>floor_category</th>\n",
       "      <th>day_of_week_exposition</th>\n",
       "      <th>month_exposition</th>\n",
       "      <th>year_exposition</th>\n",
       "    </tr>\n",
       "  </thead>\n",
       "  <tbody>\n",
       "    <tr>\n",
       "      <th>last_price</th>\n",
       "      <td>1.000000</td>\n",
       "      <td>0.759683</td>\n",
       "      <td>0.652949</td>\n",
       "      <td>0.558573</td>\n",
       "      <td>0.503918</td>\n",
       "      <td>0.138204</td>\n",
       "      <td>-0.017989</td>\n",
       "      <td>0.003335</td>\n",
       "      <td>-0.019286</td>\n",
       "    </tr>\n",
       "    <tr>\n",
       "      <th>total_area</th>\n",
       "      <td>0.759683</td>\n",
       "      <td>1.000000</td>\n",
       "      <td>0.923793</td>\n",
       "      <td>0.513377</td>\n",
       "      <td>0.798303</td>\n",
       "      <td>0.016383</td>\n",
       "      <td>-0.012420</td>\n",
       "      <td>0.004072</td>\n",
       "      <td>-0.072459</td>\n",
       "    </tr>\n",
       "    <tr>\n",
       "      <th>living_area</th>\n",
       "      <td>0.652949</td>\n",
       "      <td>0.923793</td>\n",
       "      <td>1.000000</td>\n",
       "      <td>0.265200</td>\n",
       "      <td>0.879970</td>\n",
       "      <td>-0.034198</td>\n",
       "      <td>-0.006672</td>\n",
       "      <td>-0.006051</td>\n",
       "      <td>-0.062530</td>\n",
       "    </tr>\n",
       "    <tr>\n",
       "      <th>kitchen_area</th>\n",
       "      <td>0.558573</td>\n",
       "      <td>0.513377</td>\n",
       "      <td>0.265200</td>\n",
       "      <td>1.000000</td>\n",
       "      <td>0.144724</td>\n",
       "      <td>0.115897</td>\n",
       "      <td>-0.012445</td>\n",
       "      <td>0.012959</td>\n",
       "      <td>-0.044510</td>\n",
       "    </tr>\n",
       "    <tr>\n",
       "      <th>rooms</th>\n",
       "      <td>0.503918</td>\n",
       "      <td>0.798303</td>\n",
       "      <td>0.879970</td>\n",
       "      <td>0.144724</td>\n",
       "      <td>1.000000</td>\n",
       "      <td>-0.066676</td>\n",
       "      <td>-0.002578</td>\n",
       "      <td>-0.005587</td>\n",
       "      <td>-0.044442</td>\n",
       "    </tr>\n",
       "    <tr>\n",
       "      <th>floor_category</th>\n",
       "      <td>0.138204</td>\n",
       "      <td>0.016383</td>\n",
       "      <td>-0.034198</td>\n",
       "      <td>0.115897</td>\n",
       "      <td>-0.066676</td>\n",
       "      <td>1.000000</td>\n",
       "      <td>-0.001875</td>\n",
       "      <td>0.013268</td>\n",
       "      <td>0.018785</td>\n",
       "    </tr>\n",
       "    <tr>\n",
       "      <th>day_of_week_exposition</th>\n",
       "      <td>-0.017989</td>\n",
       "      <td>-0.012420</td>\n",
       "      <td>-0.006672</td>\n",
       "      <td>-0.012445</td>\n",
       "      <td>-0.002578</td>\n",
       "      <td>-0.001875</td>\n",
       "      <td>1.000000</td>\n",
       "      <td>0.012461</td>\n",
       "      <td>-0.002574</td>\n",
       "    </tr>\n",
       "    <tr>\n",
       "      <th>month_exposition</th>\n",
       "      <td>0.003335</td>\n",
       "      <td>0.004072</td>\n",
       "      <td>-0.006051</td>\n",
       "      <td>0.012959</td>\n",
       "      <td>-0.005587</td>\n",
       "      <td>0.013268</td>\n",
       "      <td>0.012461</td>\n",
       "      <td>1.000000</td>\n",
       "      <td>-0.268296</td>\n",
       "    </tr>\n",
       "    <tr>\n",
       "      <th>year_exposition</th>\n",
       "      <td>-0.019286</td>\n",
       "      <td>-0.072459</td>\n",
       "      <td>-0.062530</td>\n",
       "      <td>-0.044510</td>\n",
       "      <td>-0.044442</td>\n",
       "      <td>0.018785</td>\n",
       "      <td>-0.002574</td>\n",
       "      <td>-0.268296</td>\n",
       "      <td>1.000000</td>\n",
       "    </tr>\n",
       "  </tbody>\n",
       "</table>\n",
       "</div>"
      ],
      "text/plain": [
       "                        last_price  total_area  living_area  kitchen_area  \\\n",
       "last_price                1.000000    0.759683     0.652949      0.558573   \n",
       "total_area                0.759683    1.000000     0.923793      0.513377   \n",
       "living_area               0.652949    0.923793     1.000000      0.265200   \n",
       "kitchen_area              0.558573    0.513377     0.265200      1.000000   \n",
       "rooms                     0.503918    0.798303     0.879970      0.144724   \n",
       "floor_category            0.138204    0.016383    -0.034198      0.115897   \n",
       "day_of_week_exposition   -0.017989   -0.012420    -0.006672     -0.012445   \n",
       "month_exposition          0.003335    0.004072    -0.006051      0.012959   \n",
       "year_exposition          -0.019286   -0.072459    -0.062530     -0.044510   \n",
       "\n",
       "                           rooms  floor_category  day_of_week_exposition  \\\n",
       "last_price              0.503918        0.138204               -0.017989   \n",
       "total_area              0.798303        0.016383               -0.012420   \n",
       "living_area             0.879970       -0.034198               -0.006672   \n",
       "kitchen_area            0.144724        0.115897               -0.012445   \n",
       "rooms                   1.000000       -0.066676               -0.002578   \n",
       "floor_category         -0.066676        1.000000               -0.001875   \n",
       "day_of_week_exposition -0.002578       -0.001875                1.000000   \n",
       "month_exposition       -0.005587        0.013268                0.012461   \n",
       "year_exposition        -0.044442        0.018785               -0.002574   \n",
       "\n",
       "                        month_exposition  year_exposition  \n",
       "last_price                      0.003335        -0.019286  \n",
       "total_area                      0.004072        -0.072459  \n",
       "living_area                    -0.006051        -0.062530  \n",
       "kitchen_area                    0.012959        -0.044510  \n",
       "rooms                          -0.005587        -0.044442  \n",
       "floor_category                  0.013268         0.018785  \n",
       "day_of_week_exposition          0.012461        -0.002574  \n",
       "month_exposition                1.000000        -0.268296  \n",
       "year_exposition                -0.268296         1.000000  "
      ]
     },
     "execution_count": 40,
     "metadata": {},
     "output_type": "execute_result"
    }
   ],
   "source": [
    "# матрица корреляции для заданных факторов\n",
    "good_data[factors].replace(cat_to_rank).corr()"
   ]
  },
  {
   "cell_type": "code",
   "execution_count": 41,
   "metadata": {},
   "outputs": [
    {
     "data": {
      "image/png": "[encoded data removed]",
      "text/plain": [
       "<Figure size 1080x1080 with 4 Axes>"
      ]
     },
     "metadata": {
      "needs_background": "light"
     },
     "output_type": "display_data"
    }
   ],
   "source": [
    "from matplotlib import rcParams\n",
    "\n",
    "# изменим представление стоимости из экспоненциального вида в обычный\n",
    "rcParams['axes.formatter.limits'] = (-5, 7)\n",
    "\n",
    "columns = ['day_of_week_exposition', 'floor_category', 'month_exposition', 'year_exposition']\n",
    "fig, ax = plt.subplots(nrows=2, ncols=2, figsize=(15, 15))\n",
    "\n",
    "for col, ax in zip(columns, ax.flatten()):\n",
    "    (good_data\n",
    "     .pivot_table(index=col, values='last_price', aggfunc='median' )\n",
    "     .plot(ax=ax, kind='bar', ylabel='Цена продажи', legend=False));"
   ]
  },
  {
   "cell_type": "code",
   "execution_count": 42,
   "metadata": {},
   "outputs": [
    {
     "data": {
      "image/png": "[encoded data removed]",
      "text/plain": [
       "<Figure size 1080x1080 with 25 Axes>"
      ]
     },
     "metadata": {
      "needs_background": "light"
     },
     "output_type": "display_data"
    }
   ],
   "source": [
    "# построим диаграммы рассеяния\n",
    "pd.plotting.scatter_matrix(good_data[['last_price', 'total_area', 'living_area', 'kitchen_area', 'rooms']],\n",
    "                           figsize=(15, 15));"
   ]
  },
  {
   "cell_type": "markdown",
   "metadata": {},
   "source": [
    "**Выводы:**\n",
    "- Некоторая положительная корреляция со стоимостью выявлена для `общей площади`, `жилой площади`, `площади кухни` и `количества комнат`.\n",
    "- `Стоимость объекта` не зависит от `дня недели` размещения объявления.\n",
    "- `Стоимость объекта` растёт в зависимости от `категории этажа` в порядке: `первый` -> `последний` -> `другой`.\n",
    "- `Стоимость объекта` в распределении `по месяцам` показывает локальные `максимумы` в `апреле`, `сентябре` и `ноябре` и `минимум` в `июне`.\n",
    "- `Стоимость объекта` по годам `снижалась` с `2014 по 2016` годы, в `2016 и 2017` вышла на `плато` и с `2017 по 2019` показывал `рост`.\n",
    "  "
   ]
  },
  {
   "cell_type": "markdown",
   "metadata": {},
   "source": [
    "#### Расчёт средней цены одного квадратного метра в 10 населенных пунктах с наибольшим числом объявлений"
   ]
  },
  {
   "cell_type": "code",
   "execution_count": 43,
   "metadata": {},
   "outputs": [],
   "source": [
    "top10_cites = good_data['good_locality_name'].value_counts()[:10].index"
   ]
  },
  {
   "cell_type": "code",
   "execution_count": 44,
   "metadata": {
    "scrolled": true
   },
   "outputs": [
    {
     "data": {
      "text/html": [
       "<div>\n",
       "<style scoped>\n",
       "    .dataframe tbody tr th:only-of-type {\n",
       "        vertical-align: middle;\n",
       "    }\n",
       "\n",
       "    .dataframe tbody tr th {\n",
       "        vertical-align: top;\n",
       "    }\n",
       "\n",
       "    .dataframe thead th {\n",
       "        text-align: right;\n",
       "    }\n",
       "</style>\n",
       "<table border=\"1\" class=\"dataframe\">\n",
       "  <thead>\n",
       "    <tr style=\"text-align: right;\">\n",
       "      <th></th>\n",
       "      <th>count</th>\n",
       "      <th>mean</th>\n",
       "    </tr>\n",
       "    <tr>\n",
       "      <th>good_locality_name</th>\n",
       "      <th></th>\n",
       "      <th></th>\n",
       "    </tr>\n",
       "  </thead>\n",
       "  <tbody>\n",
       "    <tr>\n",
       "      <th>Санкт-Петербург</th>\n",
       "      <td>14850</td>\n",
       "      <td>107844.808938</td>\n",
       "    </tr>\n",
       "    <tr>\n",
       "      <th>Мурино</th>\n",
       "      <td>590</td>\n",
       "      <td>86087.512050</td>\n",
       "    </tr>\n",
       "    <tr>\n",
       "      <th>Кудрово</th>\n",
       "      <td>472</td>\n",
       "      <td>95324.930544</td>\n",
       "    </tr>\n",
       "    <tr>\n",
       "      <th>Шушары</th>\n",
       "      <td>440</td>\n",
       "      <td>78677.364217</td>\n",
       "    </tr>\n",
       "    <tr>\n",
       "      <th>Всеволожск</th>\n",
       "      <td>397</td>\n",
       "      <td>67214.252635</td>\n",
       "    </tr>\n",
       "    <tr>\n",
       "      <th>Пушкин</th>\n",
       "      <td>360</td>\n",
       "      <td>101788.572053</td>\n",
       "    </tr>\n",
       "    <tr>\n",
       "      <th>Колпино</th>\n",
       "      <td>337</td>\n",
       "      <td>75333.295801</td>\n",
       "    </tr>\n",
       "    <tr>\n",
       "      <th>Парголово</th>\n",
       "      <td>327</td>\n",
       "      <td>90175.913458</td>\n",
       "    </tr>\n",
       "    <tr>\n",
       "      <th>Гатчина</th>\n",
       "      <td>307</td>\n",
       "      <td>68746.146763</td>\n",
       "    </tr>\n",
       "    <tr>\n",
       "      <th>Выборг</th>\n",
       "      <td>236</td>\n",
       "      <td>57932.878606</td>\n",
       "    </tr>\n",
       "  </tbody>\n",
       "</table>\n",
       "</div>"
      ],
      "text/plain": [
       "                    count           mean\n",
       "good_locality_name                      \n",
       "Санкт-Петербург     14850  107844.808938\n",
       "Мурино                590   86087.512050\n",
       "Кудрово               472   95324.930544\n",
       "Шушары                440   78677.364217\n",
       "Всеволожск            397   67214.252635\n",
       "Пушкин                360  101788.572053\n",
       "Колпино               337   75333.295801\n",
       "Парголово             327   90175.913458\n",
       "Гатчина               307   68746.146763\n",
       "Выборг                236   57932.878606"
      ]
     },
     "execution_count": 44,
     "metadata": {},
     "output_type": "execute_result"
    }
   ],
   "source": [
    "(good_data\n",
    " # считаем количество записей и среднюю стоимость м2 по населенным пунктам\n",
    " .pivot_table(index='good_locality_name',\n",
    "              values='price_sqm',\n",
    "              aggfunc=['count', 'mean'])\n",
    " # меняем название столбцов\n",
    " .set_axis(['count', 'mean'], axis=1)\n",
    " # сортируе по убыванию количества записей и берем 10 первых значений\n",
    " .sort_values('count',ascending=False)[:10]\n",
    ")"
   ]
  },
  {
   "cell_type": "markdown",
   "metadata": {},
   "source": [
    "**Выводы:**  \n",
    "- Населённый пункт с `самой высокой` стоимостью квадратного метра - `Санкт_Петербург` (107 845 руб).\n",
    "- Населённый пункт с `самой низкой` стоимостью квадратного метра - `Выборг` (57 933 руб)."
   ]
  },
  {
   "cell_type": "markdown",
   "metadata": {},
   "source": [
    "#### Изучение зависимости стоимости объекта от расстояния до центра города"
   ]
  },
  {
   "cell_type": "code",
   "execution_count": 45,
   "metadata": {},
   "outputs": [
    {
     "data": {
      "text/html": [
       "<div>\n",
       "<style scoped>\n",
       "    .dataframe tbody tr th:only-of-type {\n",
       "        vertical-align: middle;\n",
       "    }\n",
       "\n",
       "    .dataframe tbody tr th {\n",
       "        vertical-align: top;\n",
       "    }\n",
       "\n",
       "    .dataframe thead th {\n",
       "        text-align: right;\n",
       "    }\n",
       "</style>\n",
       "<table border=\"1\" class=\"dataframe\">\n",
       "  <thead>\n",
       "    <tr style=\"text-align: right;\">\n",
       "      <th></th>\n",
       "      <th>cityCenters_km</th>\n",
       "      <th>price_sqm</th>\n",
       "    </tr>\n",
       "  </thead>\n",
       "  <tbody>\n",
       "    <tr>\n",
       "      <th>cityCenters_km</th>\n",
       "      <td>1.0000</td>\n",
       "      <td>-0.3874</td>\n",
       "    </tr>\n",
       "    <tr>\n",
       "      <th>price_sqm</th>\n",
       "      <td>-0.3874</td>\n",
       "      <td>1.0000</td>\n",
       "    </tr>\n",
       "  </tbody>\n",
       "</table>\n",
       "</div>"
      ],
      "text/plain": [
       "                cityCenters_km  price_sqm\n",
       "cityCenters_km          1.0000    -0.3874\n",
       "price_sqm              -0.3874     1.0000"
      ]
     },
     "execution_count": 45,
     "metadata": {},
     "output_type": "execute_result"
    }
   ],
   "source": [
    "good_data[['cityCenters_km', 'price_sqm']].corr()"
   ]
  },
  {
   "cell_type": "code",
   "execution_count": 46,
   "metadata": {
    "scrolled": false
   },
   "outputs": [
    {
     "data": {
      "text/html": [
       "<div>\n",
       "<style scoped>\n",
       "    .dataframe tbody tr th:only-of-type {\n",
       "        vertical-align: middle;\n",
       "    }\n",
       "\n",
       "    .dataframe tbody tr th {\n",
       "        vertical-align: top;\n",
       "    }\n",
       "\n",
       "    .dataframe thead th {\n",
       "        text-align: right;\n",
       "    }\n",
       "</style>\n",
       "<table border=\"1\" class=\"dataframe\">\n",
       "  <thead>\n",
       "    <tr style=\"text-align: right;\">\n",
       "      <th></th>\n",
       "      <th>price_sqm</th>\n",
       "    </tr>\n",
       "    <tr>\n",
       "      <th>cityCenters_km</th>\n",
       "      <th></th>\n",
       "    </tr>\n",
       "  </thead>\n",
       "  <tbody>\n",
       "    <tr>\n",
       "      <th>0.0</th>\n",
       "      <td>118752.879316</td>\n",
       "    </tr>\n",
       "    <tr>\n",
       "      <th>1.0</th>\n",
       "      <td>126998.368975</td>\n",
       "    </tr>\n",
       "    <tr>\n",
       "      <th>2.0</th>\n",
       "      <td>120803.806172</td>\n",
       "    </tr>\n",
       "    <tr>\n",
       "      <th>3.0</th>\n",
       "      <td>111703.026088</td>\n",
       "    </tr>\n",
       "    <tr>\n",
       "      <th>4.0</th>\n",
       "      <td>119312.475802</td>\n",
       "    </tr>\n",
       "    <tr>\n",
       "      <th>5.0</th>\n",
       "      <td>123133.444002</td>\n",
       "    </tr>\n",
       "    <tr>\n",
       "      <th>6.0</th>\n",
       "      <td>125583.098357</td>\n",
       "    </tr>\n",
       "    <tr>\n",
       "      <th>7.0</th>\n",
       "      <td>121579.440646</td>\n",
       "    </tr>\n",
       "    <tr>\n",
       "      <th>8.0</th>\n",
       "      <td>120665.300520</td>\n",
       "    </tr>\n",
       "    <tr>\n",
       "      <th>9.0</th>\n",
       "      <td>108817.687261</td>\n",
       "    </tr>\n",
       "    <tr>\n",
       "      <th>10.0</th>\n",
       "      <td>110911.991985</td>\n",
       "    </tr>\n",
       "    <tr>\n",
       "      <th>11.0</th>\n",
       "      <td>106354.473426</td>\n",
       "    </tr>\n",
       "    <tr>\n",
       "      <th>12.0</th>\n",
       "      <td>106855.154018</td>\n",
       "    </tr>\n",
       "    <tr>\n",
       "      <th>13.0</th>\n",
       "      <td>107561.484552</td>\n",
       "    </tr>\n",
       "    <tr>\n",
       "      <th>14.0</th>\n",
       "      <td>104015.002055</td>\n",
       "    </tr>\n",
       "    <tr>\n",
       "      <th>15.0</th>\n",
       "      <td>103656.485277</td>\n",
       "    </tr>\n",
       "    <tr>\n",
       "      <th>16.0</th>\n",
       "      <td>100044.587809</td>\n",
       "    </tr>\n",
       "    <tr>\n",
       "      <th>17.0</th>\n",
       "      <td>96107.522849</td>\n",
       "    </tr>\n",
       "    <tr>\n",
       "      <th>18.0</th>\n",
       "      <td>96288.696876</td>\n",
       "    </tr>\n",
       "    <tr>\n",
       "      <th>19.0</th>\n",
       "      <td>98652.736027</td>\n",
       "    </tr>\n",
       "    <tr>\n",
       "      <th>20.0</th>\n",
       "      <td>103045.181922</td>\n",
       "    </tr>\n",
       "    <tr>\n",
       "      <th>21.0</th>\n",
       "      <td>94469.584582</td>\n",
       "    </tr>\n",
       "    <tr>\n",
       "      <th>22.0</th>\n",
       "      <td>91330.425050</td>\n",
       "    </tr>\n",
       "    <tr>\n",
       "      <th>23.0</th>\n",
       "      <td>91887.133906</td>\n",
       "    </tr>\n",
       "    <tr>\n",
       "      <th>24.0</th>\n",
       "      <td>84387.233115</td>\n",
       "    </tr>\n",
       "    <tr>\n",
       "      <th>25.0</th>\n",
       "      <td>91531.371618</td>\n",
       "    </tr>\n",
       "    <tr>\n",
       "      <th>26.0</th>\n",
       "      <td>89285.876593</td>\n",
       "    </tr>\n",
       "    <tr>\n",
       "      <th>27.0</th>\n",
       "      <td>132115.709459</td>\n",
       "    </tr>\n",
       "    <tr>\n",
       "      <th>28.0</th>\n",
       "      <td>81161.915320</td>\n",
       "    </tr>\n",
       "    <tr>\n",
       "      <th>29.0</th>\n",
       "      <td>72953.365445</td>\n",
       "    </tr>\n",
       "    <tr>\n",
       "      <th>32.0</th>\n",
       "      <td>64030.112800</td>\n",
       "    </tr>\n",
       "  </tbody>\n",
       "</table>\n",
       "</div>"
      ],
      "text/plain": [
       "                    price_sqm\n",
       "cityCenters_km               \n",
       "0.0             118752.879316\n",
       "1.0             126998.368975\n",
       "2.0             120803.806172\n",
       "3.0             111703.026088\n",
       "4.0             119312.475802\n",
       "5.0             123133.444002\n",
       "6.0             125583.098357\n",
       "7.0             121579.440646\n",
       "8.0             120665.300520\n",
       "9.0             108817.687261\n",
       "10.0            110911.991985\n",
       "11.0            106354.473426\n",
       "12.0            106855.154018\n",
       "13.0            107561.484552\n",
       "14.0            104015.002055\n",
       "15.0            103656.485277\n",
       "16.0            100044.587809\n",
       "17.0             96107.522849\n",
       "18.0             96288.696876\n",
       "19.0             98652.736027\n",
       "20.0            103045.181922\n",
       "21.0             94469.584582\n",
       "22.0             91330.425050\n",
       "23.0             91887.133906\n",
       "24.0             84387.233115\n",
       "25.0             91531.371618\n",
       "26.0             89285.876593\n",
       "27.0            132115.709459\n",
       "28.0             81161.915320\n",
       "29.0             72953.365445\n",
       "32.0             64030.112800"
      ]
     },
     "execution_count": 46,
     "metadata": {},
     "output_type": "execute_result"
    },
    {
     "data": {
      "image/png": "[encoded data removed]",
      "text/plain": [
       "<Figure size 720x720 with 1 Axes>"
      ]
     },
     "metadata": {
      "needs_background": "light"
     },
     "output_type": "display_data"
    }
   ],
   "source": [
    "price_per_km = (good_data\n",
    ".query('good_locality_name == \"Санкт-Петербург\"')\n",
    ".pivot_table(index='cityCenters_km', values='price_sqm'))\n",
    "price_per_km.plot(style='o-.',figsize=(10, 10))\n",
    "price_per_km"
   ]
  },
  {
   "cell_type": "markdown",
   "metadata": {},
   "source": [
    "**Выводы:**\n",
    "- Имеется слабая `обратная корреляция (-0.38)` стоимости между `стоимостью квадратного метра` и `удаленностью объекта от центра` города.\n",
    "- Средняя стоимость квадратного метра в самом `центре` - `118 752 руб`.\n",
    "- Средняя стоимость квадратного метра `на окраине` (32 км) - `64 030 руб`.\n",
    "- При этом есть районы, где больший вес имеют `другие факторы` и `при удаленности 27 км` средняя стоимость квадратного метра составляет `132 116 руб`."
   ]
  },
  {
   "cell_type": "markdown",
   "metadata": {},
   "source": [
    "### Общий вывод"
   ]
  },
  {
   "cell_type": "markdown",
   "metadata": {},
   "source": [
    "В ходе проведенного исследования данных, полученных сервисом `Яндекс.Недвижимость` по `Санкт-Петербургу` и окрестностям за несколько лет были **решены следующие задачи:**\n",
    "- Произведена загрузка и изучение общей информации, характеризующей набор данных.\n",
    "- Проведена предобработка данных:\n",
    " - *поиск и обработка пропущенных значений по столбцам:*\n",
    "  - `высота потолка` - заполнена медианным значением по столбцу,\n",
    "  - `местоположение` - на основании удаленности пропусков от центра заполнена значением \"Санкт-Петербург\",\n",
    "  - наличие `балконов` и `апартаменты` - заполнены 0 и False соответственно,\n",
    "  - данные, генерируемые системой, оставлены без изменения.\n",
    " - *Преобразование типов данных:*\n",
    "  - были преобразованы значения `даты публикации` в формат `даты-времени`.\n",
    " - *Устранение неявных дубликатов:*\n",
    "  - устранение разночтений в написании названий населенных пунктов произведено на основе Собственных имен без указания типов, что позволило устранить `59 неявных дубликатов`.\n",
    " - *Обработка выбивающихся значенией:*\n",
    "  - устранение выбросов по `стоимости объектов` (все что находится за пределами 3х-кратного межквартильного размаха) привело также к нормализации значений по площади объектов и количеству комнат,\n",
    "  - скорректированы значения `площади кухни` там, где сумма жилой и нежилой площади превышала общую площадь,\n",
    "  - проведена замена аномальных значений `высоты потолка` на медианное значение.\n",
    "- Добавлены новые столбцы с вычисленными значениями и категориальными данными.\n",
    "- Проведён исследовательский анализ данных\n",
    " - *Изучен характер распределения данных по заданным признакам*.\n",
    " - *Изучен характер распределения длительности продажи квартир:*\n",
    "  - в `среднем` квартира продается за `93 дня`,\n",
    "  - `быстрыми` считаются продажи быстрее `44 дней`,\n",
    "  - `медленными` - дольше, чем `226 дня`.\n",
    " - *Изучены факторы, влияющие на стоимость объекта:*\n",
    "  - наиболее высокая `зависимость` `цены объекта` от его `общей площади` (коэффициент корреляции Пирсона - `0.76`),\n",
    "  - `стоимость объекта` не зависит от `дня недели` размещения объявления,\n",
    "  - `стоимость объекта` растёт в зависимости от `категории этажа` в порядке: `первый` -> `последний` -> `другой`,\n",
    "  - `стоимость объекта` в распределении `по месяцам` показывает локальные `максимумы` в `апреле`, `сентябре` и `ноябре` и `минимум` в `июне`,\n",
    "  - `стоимость объекта` по годам `снижалась` с `2014 по 2016` годы, в `2016 и 2017` вышла на `плато` и с `2017 по 2019` показывал `рост`.\n",
    " - *Произведён расчёт `средней цены квадратного метра` в 10 населённых пунктах с наибольшим числом объявлений:*\n",
    "  - Населённый пункт с `самой высокой` стоимостью квадратного метра - `Санкт_Петербург` (107 845 руб).\n",
    "  - Населённый пункт с `самой низкой` стоимостью квадратного метра - `Выборг` (57 933 руб).\n",
    " - *Изучена зависимость стоимости объекта от расстояния до центра города:*\n",
    "  - Имеется `слабая обратная корреляция` (-0.38) стоимости между `стоимостью квадратного метра` и `удаленностью объекта от центра` города.\n",
    "  - `Средняя стоимость` квадратного метра в самом `центре` - `118 752 руб`.\n",
    "  - `Средняя стоимость` квадратного метра `на окраине` (32 км) - `64 030 руб`.\n",
    "  - При этом есть районы, где больший вес имеют другие факторы и при удаленности 27 км средняя стоимость квадратного метра составляет 132 116 руб.  \n",
    "    \n",
    "**В целом все задачи, поставленные перед данным исследованием, выполнены. Данные готовы для дальнейшего статистического изучения и создания моделей.**"
   ]
  }
 ],
 "metadata": {
  "ExecuteTimeLog": [
   {
    "duration": 529,
    "start_time": "2023-02-01T08:41:40.596Z"
   },
   {
    "duration": 330,
    "start_time": "2023-02-01T08:46:05.152Z"
   },
   {
    "duration": 115,
    "start_time": "2023-02-01T08:47:33.780Z"
   },
   {
    "duration": 15,
    "start_time": "2023-02-01T08:48:20.658Z"
   },
   {
    "duration": 1323,
    "start_time": "2023-02-01T09:02:40.620Z"
   },
   {
    "duration": 1246,
    "start_time": "2023-02-01T09:04:06.831Z"
   },
   {
    "duration": 1513,
    "start_time": "2023-02-01T09:04:28.246Z"
   },
   {
    "duration": 1973,
    "start_time": "2023-02-01T09:05:35.031Z"
   },
   {
    "duration": 69,
    "start_time": "2023-02-01T09:09:55.377Z"
   },
   {
    "duration": 614,
    "start_time": "2023-02-01T09:10:39.525Z"
   },
   {
    "duration": 1988,
    "start_time": "2023-02-01T09:11:36.927Z"
   },
   {
    "duration": 67,
    "start_time": "2023-02-01T09:11:54.763Z"
   },
   {
    "duration": 45,
    "start_time": "2023-02-01T09:37:08.591Z"
   },
   {
    "duration": 22,
    "start_time": "2023-02-01T09:37:19.709Z"
   },
   {
    "duration": 9,
    "start_time": "2023-02-01T11:51:05.805Z"
   },
   {
    "duration": 14,
    "start_time": "2023-02-01T11:54:59.139Z"
   },
   {
    "duration": 41,
    "start_time": "2023-02-01T13:09:46.762Z"
   },
   {
    "duration": 578,
    "start_time": "2023-02-07T07:33:10.550Z"
   },
   {
    "duration": 75,
    "start_time": "2023-02-07T07:33:11.130Z"
   },
   {
    "duration": 0,
    "start_time": "2023-02-07T07:33:11.207Z"
   },
   {
    "duration": 0,
    "start_time": "2023-02-07T07:33:11.208Z"
   },
   {
    "duration": 0,
    "start_time": "2023-02-07T07:33:11.209Z"
   },
   {
    "duration": 0,
    "start_time": "2023-02-07T07:33:11.210Z"
   },
   {
    "duration": 0,
    "start_time": "2023-02-07T07:33:11.211Z"
   },
   {
    "duration": 0,
    "start_time": "2023-02-07T07:33:11.212Z"
   },
   {
    "duration": 0,
    "start_time": "2023-02-07T07:33:11.212Z"
   },
   {
    "duration": 0,
    "start_time": "2023-02-07T07:33:11.213Z"
   },
   {
    "duration": 0,
    "start_time": "2023-02-07T07:33:11.214Z"
   },
   {
    "duration": 0,
    "start_time": "2023-02-07T07:33:11.215Z"
   },
   {
    "duration": 0,
    "start_time": "2023-02-07T07:33:11.215Z"
   },
   {
    "duration": 0,
    "start_time": "2023-02-07T07:33:11.216Z"
   },
   {
    "duration": 0,
    "start_time": "2023-02-07T07:33:11.217Z"
   },
   {
    "duration": 0,
    "start_time": "2023-02-07T07:33:11.218Z"
   },
   {
    "duration": 1,
    "start_time": "2023-02-07T07:33:11.218Z"
   },
   {
    "duration": 0,
    "start_time": "2023-02-07T07:33:11.219Z"
   },
   {
    "duration": 0,
    "start_time": "2023-02-07T07:33:11.220Z"
   },
   {
    "duration": 0,
    "start_time": "2023-02-07T07:33:11.221Z"
   },
   {
    "duration": 0,
    "start_time": "2023-02-07T07:33:11.222Z"
   },
   {
    "duration": 0,
    "start_time": "2023-02-07T07:33:11.223Z"
   },
   {
    "duration": 0,
    "start_time": "2023-02-07T07:33:11.224Z"
   },
   {
    "duration": 0,
    "start_time": "2023-02-07T07:33:11.225Z"
   },
   {
    "duration": 0,
    "start_time": "2023-02-07T07:33:11.226Z"
   },
   {
    "duration": 0,
    "start_time": "2023-02-07T07:33:11.226Z"
   },
   {
    "duration": 0,
    "start_time": "2023-02-07T07:33:11.227Z"
   },
   {
    "duration": 0,
    "start_time": "2023-02-07T07:33:11.228Z"
   },
   {
    "duration": 0,
    "start_time": "2023-02-07T07:33:11.229Z"
   },
   {
    "duration": 0,
    "start_time": "2023-02-07T07:33:11.230Z"
   },
   {
    "duration": 0,
    "start_time": "2023-02-07T07:33:11.266Z"
   },
   {
    "duration": 0,
    "start_time": "2023-02-07T07:33:11.268Z"
   },
   {
    "duration": 0,
    "start_time": "2023-02-07T07:33:11.269Z"
   },
   {
    "duration": 0,
    "start_time": "2023-02-07T07:33:11.269Z"
   },
   {
    "duration": 0,
    "start_time": "2023-02-07T07:33:11.270Z"
   },
   {
    "duration": 0,
    "start_time": "2023-02-07T07:33:11.272Z"
   },
   {
    "duration": 0,
    "start_time": "2023-02-07T07:33:11.272Z"
   },
   {
    "duration": 0,
    "start_time": "2023-02-07T07:33:11.273Z"
   },
   {
    "duration": 0,
    "start_time": "2023-02-07T07:33:11.274Z"
   },
   {
    "duration": 0,
    "start_time": "2023-02-07T07:33:11.275Z"
   },
   {
    "duration": 0,
    "start_time": "2023-02-07T07:33:11.276Z"
   },
   {
    "duration": 0,
    "start_time": "2023-02-07T07:33:11.277Z"
   },
   {
    "duration": 0,
    "start_time": "2023-02-07T07:33:11.278Z"
   },
   {
    "duration": 0,
    "start_time": "2023-02-07T07:33:11.279Z"
   },
   {
    "duration": 0,
    "start_time": "2023-02-07T07:33:11.280Z"
   },
   {
    "duration": 632,
    "start_time": "2023-02-07T18:20:38.687Z"
   },
   {
    "duration": 88,
    "start_time": "2023-02-07T18:20:39.321Z"
   },
   {
    "duration": 0,
    "start_time": "2023-02-07T18:20:39.411Z"
   },
   {
    "duration": 0,
    "start_time": "2023-02-07T18:20:39.412Z"
   },
   {
    "duration": 0,
    "start_time": "2023-02-07T18:20:39.413Z"
   },
   {
    "duration": 0,
    "start_time": "2023-02-07T18:20:39.414Z"
   },
   {
    "duration": 0,
    "start_time": "2023-02-07T18:20:39.415Z"
   },
   {
    "duration": 0,
    "start_time": "2023-02-07T18:20:39.416Z"
   },
   {
    "duration": 0,
    "start_time": "2023-02-07T18:20:39.417Z"
   },
   {
    "duration": 0,
    "start_time": "2023-02-07T18:20:39.418Z"
   },
   {
    "duration": 0,
    "start_time": "2023-02-07T18:20:39.419Z"
   },
   {
    "duration": 0,
    "start_time": "2023-02-07T18:20:39.420Z"
   },
   {
    "duration": 0,
    "start_time": "2023-02-07T18:20:39.421Z"
   },
   {
    "duration": 0,
    "start_time": "2023-02-07T18:20:39.422Z"
   },
   {
    "duration": 0,
    "start_time": "2023-02-07T18:20:39.423Z"
   },
   {
    "duration": 0,
    "start_time": "2023-02-07T18:20:39.424Z"
   },
   {
    "duration": 0,
    "start_time": "2023-02-07T18:20:39.425Z"
   },
   {
    "duration": 0,
    "start_time": "2023-02-07T18:20:39.426Z"
   },
   {
    "duration": 0,
    "start_time": "2023-02-07T18:20:39.427Z"
   },
   {
    "duration": 0,
    "start_time": "2023-02-07T18:20:39.428Z"
   },
   {
    "duration": 0,
    "start_time": "2023-02-07T18:20:39.429Z"
   },
   {
    "duration": 0,
    "start_time": "2023-02-07T18:20:39.430Z"
   },
   {
    "duration": 0,
    "start_time": "2023-02-07T18:20:39.432Z"
   },
   {
    "duration": 0,
    "start_time": "2023-02-07T18:20:39.433Z"
   },
   {
    "duration": 0,
    "start_time": "2023-02-07T18:20:39.434Z"
   },
   {
    "duration": 0,
    "start_time": "2023-02-07T18:20:39.434Z"
   },
   {
    "duration": 0,
    "start_time": "2023-02-07T18:20:39.435Z"
   },
   {
    "duration": 0,
    "start_time": "2023-02-07T18:20:39.436Z"
   },
   {
    "duration": 0,
    "start_time": "2023-02-07T18:20:39.437Z"
   },
   {
    "duration": 0,
    "start_time": "2023-02-07T18:20:39.438Z"
   },
   {
    "duration": 0,
    "start_time": "2023-02-07T18:20:39.439Z"
   },
   {
    "duration": 0,
    "start_time": "2023-02-07T18:20:39.440Z"
   },
   {
    "duration": 0,
    "start_time": "2023-02-07T18:20:39.441Z"
   },
   {
    "duration": 0,
    "start_time": "2023-02-07T18:20:39.442Z"
   },
   {
    "duration": 0,
    "start_time": "2023-02-07T18:20:39.443Z"
   },
   {
    "duration": 0,
    "start_time": "2023-02-07T18:20:39.449Z"
   },
   {
    "duration": 0,
    "start_time": "2023-02-07T18:20:39.450Z"
   },
   {
    "duration": 0,
    "start_time": "2023-02-07T18:20:39.451Z"
   },
   {
    "duration": 0,
    "start_time": "2023-02-07T18:20:39.451Z"
   },
   {
    "duration": 0,
    "start_time": "2023-02-07T18:20:39.452Z"
   },
   {
    "duration": 0,
    "start_time": "2023-02-07T18:20:39.457Z"
   },
   {
    "duration": 0,
    "start_time": "2023-02-07T18:20:39.458Z"
   },
   {
    "duration": 0,
    "start_time": "2023-02-07T18:20:39.458Z"
   },
   {
    "duration": 0,
    "start_time": "2023-02-07T18:20:39.459Z"
   },
   {
    "duration": 0,
    "start_time": "2023-02-07T18:20:39.459Z"
   },
   {
    "duration": 777,
    "start_time": "2023-02-07T18:27:18.275Z"
   },
   {
    "duration": 340,
    "start_time": "2023-02-07T18:27:19.054Z"
   },
   {
    "duration": 14,
    "start_time": "2023-02-07T18:27:19.396Z"
   },
   {
    "duration": 1765,
    "start_time": "2023-02-07T18:27:19.412Z"
   },
   {
    "duration": 75,
    "start_time": "2023-02-07T18:27:21.178Z"
   },
   {
    "duration": 14,
    "start_time": "2023-02-07T18:27:21.254Z"
   },
   {
    "duration": 6,
    "start_time": "2023-02-07T18:27:21.269Z"
   },
   {
    "duration": 29,
    "start_time": "2023-02-07T18:27:21.276Z"
   },
   {
    "duration": 8,
    "start_time": "2023-02-07T18:27:21.306Z"
   },
   {
    "duration": 138,
    "start_time": "2023-02-07T18:27:21.317Z"
   },
   {
    "duration": 6,
    "start_time": "2023-02-07T18:27:21.457Z"
   },
   {
    "duration": 6,
    "start_time": "2023-02-07T18:27:21.465Z"
   },
   {
    "duration": 24,
    "start_time": "2023-02-07T18:27:21.472Z"
   },
   {
    "duration": 12,
    "start_time": "2023-02-07T18:27:21.498Z"
   },
   {
    "duration": 35,
    "start_time": "2023-02-07T18:27:21.511Z"
   },
   {
    "duration": 22,
    "start_time": "2023-02-07T18:27:21.548Z"
   },
   {
    "duration": 20,
    "start_time": "2023-02-07T18:27:21.572Z"
   },
   {
    "duration": 4,
    "start_time": "2023-02-07T18:27:21.594Z"
   },
   {
    "duration": 677,
    "start_time": "2023-02-07T18:27:21.600Z"
   },
   {
    "duration": 3,
    "start_time": "2023-02-07T18:27:22.279Z"
   },
   {
    "duration": 17,
    "start_time": "2023-02-07T18:27:22.291Z"
   },
   {
    "duration": 567,
    "start_time": "2023-02-07T18:27:22.309Z"
   },
   {
    "duration": 20,
    "start_time": "2023-02-07T18:27:22.878Z"
   },
   {
    "duration": 6,
    "start_time": "2023-02-07T18:27:22.899Z"
   },
   {
    "duration": 16,
    "start_time": "2023-02-07T18:27:22.906Z"
   },
   {
    "duration": 7,
    "start_time": "2023-02-07T18:27:22.923Z"
   },
   {
    "duration": 626,
    "start_time": "2023-02-07T18:27:22.932Z"
   },
   {
    "duration": 7,
    "start_time": "2023-02-07T18:27:23.561Z"
   },
   {
    "duration": 12,
    "start_time": "2023-02-07T18:27:23.569Z"
   },
   {
    "duration": 10,
    "start_time": "2023-02-07T18:27:23.582Z"
   },
   {
    "duration": 24,
    "start_time": "2023-02-07T18:27:23.593Z"
   },
   {
    "duration": 416,
    "start_time": "2023-02-07T18:27:23.619Z"
   },
   {
    "duration": 9,
    "start_time": "2023-02-07T18:27:24.037Z"
   },
   {
    "duration": 28,
    "start_time": "2023-02-07T18:27:24.048Z"
   },
   {
    "duration": 1905,
    "start_time": "2023-02-07T18:27:24.093Z"
   },
   {
    "duration": 168,
    "start_time": "2023-02-07T18:27:26.000Z"
   },
   {
    "duration": 8,
    "start_time": "2023-02-07T18:27:26.170Z"
   },
   {
    "duration": 13,
    "start_time": "2023-02-07T18:27:26.180Z"
   },
   {
    "duration": 5,
    "start_time": "2023-02-07T18:27:26.194Z"
   },
   {
    "duration": 34,
    "start_time": "2023-02-07T18:27:26.201Z"
   },
   {
    "duration": 2825,
    "start_time": "2023-02-07T18:27:26.236Z"
   },
   {
    "duration": 5,
    "start_time": "2023-02-07T18:27:29.063Z"
   },
   {
    "duration": 38,
    "start_time": "2023-02-07T18:27:29.070Z"
   },
   {
    "duration": 8,
    "start_time": "2023-02-07T18:27:29.110Z"
   },
   {
    "duration": 197,
    "start_time": "2023-02-07T18:27:29.120Z"
   },
   {
    "duration": 11,
    "start_time": "2023-02-07T18:37:40.522Z"
   },
   {
    "duration": 645,
    "start_time": "2023-02-08T17:56:58.480Z"
   },
   {
    "duration": 119,
    "start_time": "2023-02-08T17:56:59.127Z"
   },
   {
    "duration": 14,
    "start_time": "2023-02-08T17:56:59.247Z"
   },
   {
    "duration": 1726,
    "start_time": "2023-02-08T17:56:59.263Z"
   },
   {
    "duration": 79,
    "start_time": "2023-02-08T17:57:00.991Z"
   },
   {
    "duration": 14,
    "start_time": "2023-02-08T17:57:01.071Z"
   },
   {
    "duration": 25,
    "start_time": "2023-02-08T17:57:01.086Z"
   },
   {
    "duration": 24,
    "start_time": "2023-02-08T17:57:01.112Z"
   },
   {
    "duration": 30,
    "start_time": "2023-02-08T17:57:01.138Z"
   },
   {
    "duration": 154,
    "start_time": "2023-02-08T17:57:01.171Z"
   },
   {
    "duration": 8,
    "start_time": "2023-02-08T17:57:01.326Z"
   },
   {
    "duration": 45,
    "start_time": "2023-02-08T17:57:01.336Z"
   },
   {
    "duration": 57,
    "start_time": "2023-02-08T17:57:01.382Z"
   },
   {
    "duration": 23,
    "start_time": "2023-02-08T17:57:01.440Z"
   },
   {
    "duration": 58,
    "start_time": "2023-02-08T17:57:01.464Z"
   },
   {
    "duration": 38,
    "start_time": "2023-02-08T17:57:01.524Z"
   },
   {
    "duration": 16,
    "start_time": "2023-02-08T17:57:01.564Z"
   },
   {
    "duration": 26,
    "start_time": "2023-02-08T17:57:01.582Z"
   },
   {
    "duration": 714,
    "start_time": "2023-02-08T17:57:01.610Z"
   },
   {
    "duration": 4,
    "start_time": "2023-02-08T17:57:02.325Z"
   },
   {
    "duration": 24,
    "start_time": "2023-02-08T17:57:02.330Z"
   },
   {
    "duration": 593,
    "start_time": "2023-02-08T17:57:02.356Z"
   },
   {
    "duration": 18,
    "start_time": "2023-02-08T17:57:02.951Z"
   },
   {
    "duration": 8,
    "start_time": "2023-02-08T17:57:02.970Z"
   },
   {
    "duration": 10,
    "start_time": "2023-02-08T17:57:02.979Z"
   },
   {
    "duration": 7,
    "start_time": "2023-02-08T17:57:02.990Z"
   },
   {
    "duration": 656,
    "start_time": "2023-02-08T17:57:02.998Z"
   },
   {
    "duration": 8,
    "start_time": "2023-02-08T17:57:03.657Z"
   },
   {
    "duration": 10,
    "start_time": "2023-02-08T17:57:03.666Z"
   },
   {
    "duration": 6,
    "start_time": "2023-02-08T17:57:03.678Z"
   },
   {
    "duration": 6,
    "start_time": "2023-02-08T17:57:03.685Z"
   },
   {
    "duration": 451,
    "start_time": "2023-02-08T17:57:03.692Z"
   },
   {
    "duration": 9,
    "start_time": "2023-02-08T17:57:04.145Z"
   },
   {
    "duration": 26,
    "start_time": "2023-02-08T17:57:04.156Z"
   },
   {
    "duration": 1928,
    "start_time": "2023-02-08T17:57:04.183Z"
   },
   {
    "duration": 165,
    "start_time": "2023-02-08T17:57:06.113Z"
   },
   {
    "duration": 9,
    "start_time": "2023-02-08T17:57:06.279Z"
   },
   {
    "duration": 2,
    "start_time": "2023-02-08T17:57:06.290Z"
   },
   {
    "duration": 7,
    "start_time": "2023-02-08T17:57:06.294Z"
   },
   {
    "duration": 47,
    "start_time": "2023-02-08T17:57:06.303Z"
   },
   {
    "duration": 2841,
    "start_time": "2023-02-08T17:57:06.352Z"
   },
   {
    "duration": 6,
    "start_time": "2023-02-08T17:57:09.195Z"
   },
   {
    "duration": 24,
    "start_time": "2023-02-08T17:57:09.202Z"
   },
   {
    "duration": 27,
    "start_time": "2023-02-08T17:57:09.227Z"
   },
   {
    "duration": 208,
    "start_time": "2023-02-08T17:57:09.255Z"
   },
   {
    "duration": 7,
    "start_time": "2023-02-08T18:31:49.920Z"
   },
   {
    "duration": 16,
    "start_time": "2023-02-08T18:35:28.384Z"
   },
   {
    "duration": 88,
    "start_time": "2023-02-08T18:35:32.733Z"
   },
   {
    "duration": 699,
    "start_time": "2023-02-08T18:35:40.148Z"
   },
   {
    "duration": 136,
    "start_time": "2023-02-08T18:35:40.850Z"
   },
   {
    "duration": 15,
    "start_time": "2023-02-08T18:35:40.987Z"
   },
   {
    "duration": 1896,
    "start_time": "2023-02-08T18:35:41.004Z"
   },
   {
    "duration": 89,
    "start_time": "2023-02-08T18:35:42.902Z"
   },
   {
    "duration": 14,
    "start_time": "2023-02-08T18:35:42.993Z"
   },
   {
    "duration": 7,
    "start_time": "2023-02-08T18:35:43.009Z"
   },
   {
    "duration": 33,
    "start_time": "2023-02-08T18:35:43.018Z"
   },
   {
    "duration": 18,
    "start_time": "2023-02-08T18:35:43.053Z"
   },
   {
    "duration": 147,
    "start_time": "2023-02-08T18:35:43.075Z"
   },
   {
    "duration": 8,
    "start_time": "2023-02-08T18:35:43.224Z"
   },
   {
    "duration": 25,
    "start_time": "2023-02-08T18:35:43.248Z"
   },
   {
    "duration": 22,
    "start_time": "2023-02-08T18:35:43.275Z"
   },
   {
    "duration": 17,
    "start_time": "2023-02-08T18:35:43.299Z"
   },
   {
    "duration": 42,
    "start_time": "2023-02-08T18:35:43.317Z"
   },
   {
    "duration": 31,
    "start_time": "2023-02-08T18:35:43.361Z"
   },
   {
    "duration": 6,
    "start_time": "2023-02-08T18:35:43.394Z"
   },
   {
    "duration": 16,
    "start_time": "2023-02-08T18:35:43.402Z"
   },
   {
    "duration": 825,
    "start_time": "2023-02-08T18:35:43.419Z"
   },
   {
    "duration": 9,
    "start_time": "2023-02-08T18:35:44.246Z"
   },
   {
    "duration": 36,
    "start_time": "2023-02-08T18:35:44.257Z"
   },
   {
    "duration": 598,
    "start_time": "2023-02-08T18:35:44.295Z"
   },
   {
    "duration": 16,
    "start_time": "2023-02-08T18:35:44.894Z"
   },
   {
    "duration": 20,
    "start_time": "2023-02-08T18:35:44.912Z"
   },
   {
    "duration": 24,
    "start_time": "2023-02-08T18:35:44.935Z"
   },
   {
    "duration": 13,
    "start_time": "2023-02-08T18:35:44.961Z"
   },
   {
    "duration": 665,
    "start_time": "2023-02-08T18:35:44.976Z"
   },
   {
    "duration": 70,
    "start_time": "2023-02-08T18:35:45.650Z"
   },
   {
    "duration": 7,
    "start_time": "2023-02-08T18:35:45.722Z"
   },
   {
    "duration": 26,
    "start_time": "2023-02-08T18:35:45.731Z"
   },
   {
    "duration": 10,
    "start_time": "2023-02-08T18:35:45.759Z"
   },
   {
    "duration": 7,
    "start_time": "2023-02-08T18:35:45.771Z"
   },
   {
    "duration": 457,
    "start_time": "2023-02-08T18:35:45.781Z"
   },
   {
    "duration": 18,
    "start_time": "2023-02-08T18:35:46.241Z"
   },
   {
    "duration": 33,
    "start_time": "2023-02-08T18:35:46.261Z"
   },
   {
    "duration": 2228,
    "start_time": "2023-02-08T18:35:46.295Z"
   },
   {
    "duration": 179,
    "start_time": "2023-02-08T18:35:48.525Z"
   },
   {
    "duration": 9,
    "start_time": "2023-02-08T18:35:48.706Z"
   },
   {
    "duration": 5,
    "start_time": "2023-02-08T18:35:48.717Z"
   },
   {
    "duration": 7,
    "start_time": "2023-02-08T18:35:48.723Z"
   },
   {
    "duration": 58,
    "start_time": "2023-02-08T18:35:48.732Z"
   },
   {
    "duration": 2984,
    "start_time": "2023-02-08T18:35:48.792Z"
   },
   {
    "duration": 8,
    "start_time": "2023-02-08T18:35:51.778Z"
   },
   {
    "duration": 27,
    "start_time": "2023-02-08T18:35:51.788Z"
   },
   {
    "duration": 34,
    "start_time": "2023-02-08T18:35:51.817Z"
   },
   {
    "duration": 203,
    "start_time": "2023-02-08T18:35:51.853Z"
   },
   {
    "duration": 15,
    "start_time": "2023-02-08T18:36:16.032Z"
   },
   {
    "duration": 16,
    "start_time": "2023-02-08T18:36:35.031Z"
   },
   {
    "duration": 8,
    "start_time": "2023-02-08T18:38:26.618Z"
   },
   {
    "duration": 830,
    "start_time": "2023-02-08T19:10:37.019Z"
   },
   {
    "duration": 353,
    "start_time": "2023-02-08T19:10:37.852Z"
   },
   {
    "duration": 14,
    "start_time": "2023-02-08T19:10:38.207Z"
   },
   {
    "duration": 1666,
    "start_time": "2023-02-08T19:10:38.223Z"
   },
   {
    "duration": 68,
    "start_time": "2023-02-08T19:10:39.891Z"
   },
   {
    "duration": 13,
    "start_time": "2023-02-08T19:10:39.961Z"
   },
   {
    "duration": 6,
    "start_time": "2023-02-08T19:10:39.975Z"
   },
   {
    "duration": 12,
    "start_time": "2023-02-08T19:10:39.982Z"
   },
   {
    "duration": 9,
    "start_time": "2023-02-08T19:10:39.995Z"
   },
   {
    "duration": 155,
    "start_time": "2023-02-08T19:10:40.006Z"
   },
   {
    "duration": 8,
    "start_time": "2023-02-08T19:10:40.163Z"
   },
   {
    "duration": 17,
    "start_time": "2023-02-08T19:10:40.172Z"
   },
   {
    "duration": 17,
    "start_time": "2023-02-08T19:12:51.262Z"
   },
   {
    "duration": 3,
    "start_time": "2023-02-08T19:20:34.834Z"
   },
   {
    "duration": 117,
    "start_time": "2023-02-08T19:20:34.843Z"
   },
   {
    "duration": 16,
    "start_time": "2023-02-08T19:20:34.962Z"
   },
   {
    "duration": 1688,
    "start_time": "2023-02-08T19:20:34.980Z"
   },
   {
    "duration": 84,
    "start_time": "2023-02-08T19:20:36.670Z"
   },
   {
    "duration": 15,
    "start_time": "2023-02-08T19:20:36.755Z"
   },
   {
    "duration": 17,
    "start_time": "2023-02-08T19:20:36.771Z"
   },
   {
    "duration": 11,
    "start_time": "2023-02-08T19:20:36.790Z"
   },
   {
    "duration": 10,
    "start_time": "2023-02-08T19:20:36.803Z"
   },
   {
    "duration": 176,
    "start_time": "2023-02-08T19:20:36.815Z"
   },
   {
    "duration": 11,
    "start_time": "2023-02-08T19:20:36.995Z"
   },
   {
    "duration": 7,
    "start_time": "2023-02-08T19:20:37.009Z"
   },
   {
    "duration": 50,
    "start_time": "2023-02-08T19:20:37.018Z"
   },
   {
    "duration": 13,
    "start_time": "2023-02-08T19:20:37.071Z"
   },
   {
    "duration": 362,
    "start_time": "2023-02-08T19:20:37.087Z"
   },
   {
    "duration": 21,
    "start_time": "2023-02-08T19:20:37.450Z"
   },
   {
    "duration": 2,
    "start_time": "2023-02-08T19:20:37.473Z"
   },
   {
    "duration": 8,
    "start_time": "2023-02-08T19:20:37.477Z"
   },
   {
    "duration": 634,
    "start_time": "2023-02-08T19:20:37.486Z"
   },
   {
    "duration": 4,
    "start_time": "2023-02-08T19:20:38.122Z"
   },
   {
    "duration": 23,
    "start_time": "2023-02-08T19:20:38.127Z"
   },
   {
    "duration": 569,
    "start_time": "2023-02-08T19:20:38.152Z"
   },
   {
    "duration": 24,
    "start_time": "2023-02-08T19:20:38.723Z"
   },
   {
    "duration": 6,
    "start_time": "2023-02-08T19:20:38.748Z"
   },
   {
    "duration": 10,
    "start_time": "2023-02-08T19:20:38.756Z"
   },
   {
    "duration": 5,
    "start_time": "2023-02-08T19:20:38.767Z"
   },
   {
    "duration": 563,
    "start_time": "2023-02-08T19:20:38.774Z"
   },
   {
    "duration": 9,
    "start_time": "2023-02-08T19:20:39.339Z"
   },
   {
    "duration": 6,
    "start_time": "2023-02-08T19:20:39.351Z"
   },
   {
    "duration": 5,
    "start_time": "2023-02-08T19:20:39.358Z"
   },
   {
    "duration": 5,
    "start_time": "2023-02-08T19:20:39.365Z"
   },
   {
    "duration": 412,
    "start_time": "2023-02-08T19:20:39.371Z"
   },
   {
    "duration": 9,
    "start_time": "2023-02-08T19:20:39.784Z"
   },
   {
    "duration": 26,
    "start_time": "2023-02-08T19:20:39.795Z"
   },
   {
    "duration": 2056,
    "start_time": "2023-02-08T19:20:39.822Z"
   },
   {
    "duration": 170,
    "start_time": "2023-02-08T19:20:41.880Z"
   },
   {
    "duration": 8,
    "start_time": "2023-02-08T19:20:42.051Z"
   },
   {
    "duration": 7,
    "start_time": "2023-02-08T19:20:42.061Z"
   },
   {
    "duration": 6,
    "start_time": "2023-02-08T19:20:42.069Z"
   },
   {
    "duration": 33,
    "start_time": "2023-02-08T19:20:42.076Z"
   },
   {
    "duration": 14,
    "start_time": "2023-02-08T19:25:57.545Z"
   },
   {
    "duration": 72,
    "start_time": "2023-02-08T19:26:32.877Z"
   },
   {
    "duration": 135,
    "start_time": "2023-02-08T19:26:56.049Z"
   },
   {
    "duration": 478,
    "start_time": "2023-02-08T19:37:06.035Z"
   },
   {
    "duration": 353,
    "start_time": "2023-02-08T19:45:28.516Z"
   },
   {
    "duration": 77,
    "start_time": "2023-02-08T19:54:07.030Z"
   },
   {
    "duration": 115,
    "start_time": "2023-02-08T19:55:17.730Z"
   },
   {
    "duration": 500,
    "start_time": "2023-02-08T19:56:30.570Z"
   },
   {
    "duration": 472,
    "start_time": "2023-02-08T19:59:54.988Z"
   },
   {
    "duration": 463,
    "start_time": "2023-02-08T20:00:31.392Z"
   },
   {
    "duration": 3,
    "start_time": "2023-02-08T20:19:36.862Z"
   },
   {
    "duration": 119,
    "start_time": "2023-02-08T20:19:36.870Z"
   },
   {
    "duration": 12,
    "start_time": "2023-02-08T20:19:36.991Z"
   },
   {
    "duration": 1925,
    "start_time": "2023-02-08T20:19:37.005Z"
   },
   {
    "duration": 82,
    "start_time": "2023-02-08T20:19:38.933Z"
   },
   {
    "duration": 27,
    "start_time": "2023-02-08T20:19:39.017Z"
   },
   {
    "duration": 7,
    "start_time": "2023-02-08T20:19:39.045Z"
   },
   {
    "duration": 9,
    "start_time": "2023-02-08T20:19:39.054Z"
   },
   {
    "duration": 11,
    "start_time": "2023-02-08T20:19:39.065Z"
   },
   {
    "duration": 168,
    "start_time": "2023-02-08T20:19:39.078Z"
   },
   {
    "duration": 8,
    "start_time": "2023-02-08T20:19:39.250Z"
   },
   {
    "duration": 13,
    "start_time": "2023-02-08T20:19:39.260Z"
   },
   {
    "duration": 24,
    "start_time": "2023-02-08T20:19:39.275Z"
   },
   {
    "duration": 8,
    "start_time": "2023-02-08T20:19:39.301Z"
   },
   {
    "duration": 59,
    "start_time": "2023-02-08T20:19:39.311Z"
   },
   {
    "duration": 20,
    "start_time": "2023-02-08T20:19:39.372Z"
   },
   {
    "duration": 3,
    "start_time": "2023-02-08T20:19:39.393Z"
   },
   {
    "duration": 18,
    "start_time": "2023-02-08T20:19:39.397Z"
   },
   {
    "duration": 599,
    "start_time": "2023-02-08T20:19:39.417Z"
   },
   {
    "duration": 4,
    "start_time": "2023-02-08T20:19:40.018Z"
   },
   {
    "duration": 27,
    "start_time": "2023-02-08T20:19:40.024Z"
   },
   {
    "duration": 567,
    "start_time": "2023-02-08T20:19:40.052Z"
   },
   {
    "duration": 27,
    "start_time": "2023-02-08T20:19:40.621Z"
   },
   {
    "duration": 6,
    "start_time": "2023-02-08T20:19:40.649Z"
   },
   {
    "duration": 27,
    "start_time": "2023-02-08T20:19:40.657Z"
   },
   {
    "duration": 18,
    "start_time": "2023-02-08T20:19:40.685Z"
   },
   {
    "duration": 574,
    "start_time": "2023-02-08T20:19:40.704Z"
   },
   {
    "duration": 7,
    "start_time": "2023-02-08T20:19:41.280Z"
   },
   {
    "duration": 22,
    "start_time": "2023-02-08T20:19:41.290Z"
   },
   {
    "duration": 32,
    "start_time": "2023-02-08T20:19:41.314Z"
   },
   {
    "duration": 39,
    "start_time": "2023-02-08T20:19:41.348Z"
   },
   {
    "duration": 419,
    "start_time": "2023-02-08T20:19:41.389Z"
   },
   {
    "duration": 9,
    "start_time": "2023-02-08T20:19:41.810Z"
   },
   {
    "duration": 35,
    "start_time": "2023-02-08T20:19:41.820Z"
   },
   {
    "duration": 2216,
    "start_time": "2023-02-08T20:19:41.857Z"
   },
   {
    "duration": 176,
    "start_time": "2023-02-08T20:19:44.075Z"
   },
   {
    "duration": 12,
    "start_time": "2023-02-08T20:19:44.253Z"
   },
   {
    "duration": 4,
    "start_time": "2023-02-08T20:19:44.266Z"
   },
   {
    "duration": 3,
    "start_time": "2023-02-08T20:19:44.271Z"
   },
   {
    "duration": 32,
    "start_time": "2023-02-08T20:19:44.276Z"
   },
   {
    "duration": 500,
    "start_time": "2023-02-08T20:19:44.310Z"
   },
   {
    "duration": 2596,
    "start_time": "2023-02-08T20:19:44.812Z"
   },
   {
    "duration": 6,
    "start_time": "2023-02-08T20:19:47.410Z"
   },
   {
    "duration": 37,
    "start_time": "2023-02-08T20:19:47.417Z"
   },
   {
    "duration": 9,
    "start_time": "2023-02-08T20:19:47.456Z"
   },
   {
    "duration": 190,
    "start_time": "2023-02-08T20:19:47.466Z"
   },
   {
    "duration": 662,
    "start_time": "2023-02-09T18:36:44.989Z"
   },
   {
    "duration": 117,
    "start_time": "2023-02-09T18:36:45.653Z"
   },
   {
    "duration": 22,
    "start_time": "2023-02-09T18:36:45.772Z"
   },
   {
    "duration": 1897,
    "start_time": "2023-02-09T18:36:45.796Z"
   },
   {
    "duration": 74,
    "start_time": "2023-02-09T18:36:47.695Z"
   },
   {
    "duration": 41,
    "start_time": "2023-02-09T18:36:47.771Z"
   },
   {
    "duration": 8,
    "start_time": "2023-02-09T18:36:47.814Z"
   },
   {
    "duration": 16,
    "start_time": "2023-02-09T18:36:47.825Z"
   },
   {
    "duration": 12,
    "start_time": "2023-02-09T18:36:47.844Z"
   },
   {
    "duration": 166,
    "start_time": "2023-02-09T18:36:47.859Z"
   },
   {
    "duration": 7,
    "start_time": "2023-02-09T18:36:48.027Z"
   },
   {
    "duration": 9,
    "start_time": "2023-02-09T18:36:48.036Z"
   },
   {
    "duration": 46,
    "start_time": "2023-02-09T18:36:48.047Z"
   },
   {
    "duration": 9,
    "start_time": "2023-02-09T18:36:48.096Z"
   },
   {
    "duration": 39,
    "start_time": "2023-02-09T18:36:48.107Z"
   },
   {
    "duration": 50,
    "start_time": "2023-02-09T18:36:48.148Z"
   },
   {
    "duration": 3,
    "start_time": "2023-02-09T18:36:48.201Z"
   },
   {
    "duration": 7,
    "start_time": "2023-02-09T18:36:48.206Z"
   },
   {
    "duration": 737,
    "start_time": "2023-02-09T18:36:48.215Z"
   },
   {
    "duration": 4,
    "start_time": "2023-02-09T18:36:48.954Z"
   },
   {
    "duration": 17,
    "start_time": "2023-02-09T18:36:48.959Z"
   },
   {
    "duration": 652,
    "start_time": "2023-02-09T18:36:48.992Z"
   },
   {
    "duration": 15,
    "start_time": "2023-02-09T18:36:49.646Z"
   },
   {
    "duration": 18,
    "start_time": "2023-02-09T18:36:49.662Z"
   },
   {
    "duration": 20,
    "start_time": "2023-02-09T18:36:49.681Z"
   },
   {
    "duration": 8,
    "start_time": "2023-02-09T18:36:49.702Z"
   },
   {
    "duration": 635,
    "start_time": "2023-02-09T18:36:49.712Z"
   },
   {
    "duration": 8,
    "start_time": "2023-02-09T18:36:50.349Z"
   },
   {
    "duration": 9,
    "start_time": "2023-02-09T18:36:50.359Z"
   },
   {
    "duration": 23,
    "start_time": "2023-02-09T18:36:50.370Z"
   },
   {
    "duration": 9,
    "start_time": "2023-02-09T18:36:50.395Z"
   },
   {
    "duration": 470,
    "start_time": "2023-02-09T18:36:50.406Z"
   },
   {
    "duration": 15,
    "start_time": "2023-02-09T18:36:50.878Z"
   },
   {
    "duration": 39,
    "start_time": "2023-02-09T18:36:50.896Z"
   },
   {
    "duration": 1999,
    "start_time": "2023-02-09T18:36:50.937Z"
   },
   {
    "duration": 184,
    "start_time": "2023-02-09T18:36:52.938Z"
   },
   {
    "duration": 9,
    "start_time": "2023-02-09T18:36:53.124Z"
   },
   {
    "duration": 15,
    "start_time": "2023-02-09T18:36:53.134Z"
   },
   {
    "duration": 24,
    "start_time": "2023-02-09T18:36:53.151Z"
   },
   {
    "duration": 46,
    "start_time": "2023-02-09T18:36:53.177Z"
   },
   {
    "duration": 495,
    "start_time": "2023-02-09T18:36:53.227Z"
   },
   {
    "duration": 3028,
    "start_time": "2023-02-09T18:36:53.724Z"
   },
   {
    "duration": 6,
    "start_time": "2023-02-09T18:36:56.754Z"
   },
   {
    "duration": 50,
    "start_time": "2023-02-09T18:36:56.762Z"
   },
   {
    "duration": 10,
    "start_time": "2023-02-09T18:36:56.814Z"
   },
   {
    "duration": 213,
    "start_time": "2023-02-09T18:36:56.825Z"
   }
  ],
  "kernelspec": {
   "display_name": "Python 3 (ipykernel)",
   "language": "python",
   "name": "python3"
  },
  "language_info": {
   "codemirror_mode": {
    "name": "ipython",
    "version": 3
   },
   "file_extension": ".py",
   "mimetype": "text/x-python",
   "name": "python",
   "nbconvert_exporter": "python",
   "pygments_lexer": "ipython3",
   "version": "3.9.15"
  },
  "toc": {
   "base_numbering": 1,
   "nav_menu": {},
   "number_sections": true,
   "sideBar": true,
   "skip_h1_title": true,
   "title_cell": "Table of Contents",
   "title_sidebar": "Contents",
   "toc_cell": false,
   "toc_position": {},
   "toc_section_display": true,
   "toc_window_display": false
  }
 },
 "nbformat": 4,
 "nbformat_minor": 2
}
